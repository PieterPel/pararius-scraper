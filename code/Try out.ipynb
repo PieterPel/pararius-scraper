{
 "cells": [
  {
   "cell_type": "markdown",
   "id": "fe6d1cb5-db80-4403-95dd-aff71739d227",
   "metadata": {},
   "source": [
    "# Testing out webscraping on pararius.nl"
   ]
  },
  {
   "cell_type": "markdown",
   "id": "5e4c5038-bab9-4199-852e-cdc2b15b86bd",
   "metadata": {},
   "source": [
    "## Background"
   ]
  },
  {
   "cell_type": "markdown",
   "id": "ee03c5a1-a875-4e69-af64-20257c05265d",
   "metadata": {},
   "source": [
    "### Observations\n",
    "- https://www.pararius.nl/huurwoningen/[STAD] is the overview per city\n",
    "- changes in https://www.pararius.nl/appartement-te-huur/[STAD]/[CODDE]/[STRAAT] when going to a listing\n",
    "\n",
    "### Desired features\n",
    "\n",
    "See: \n",
    "- price\n",
    "- street,\n",
    "- (zipcode),\n",
    "- neighborhood\n",
    "- agent,\n",
    "- number of rooms,\n",
    "- number of bedrooms,\n",
    "- suitable for sharing (based on AI),\n",
    "- date added,\n",
    "- surface area\n",
    "\n",
    "Other:\n",
    "- sortable"
   ]
  },
  {
   "cell_type": "markdown",
   "id": "c0a7a057-64dc-4a44-a665-575843bb6984",
   "metadata": {},
   "source": [
    "## Scraping"
   ]
  },
  {
   "cell_type": "markdown",
   "id": "f1f56d63-300f-44b2-a4ec-f0926639dcb5",
   "metadata": {},
   "source": [
    "### Set up"
   ]
  },
  {
   "cell_type": "code",
   "execution_count": 6,
   "id": "9a3940a3-d26e-48b1-aedb-df3d854775e9",
   "metadata": {},
   "outputs": [],
   "source": [
    "# Import packages\n",
    "import pandas as pd\n",
    "import requests\n",
    "from bs4 import BeautifulSoup as bs \n",
    "import openai\n",
    "import config\n",
    "\n",
    "# Methods\n",
    "def get_number(string):\n",
    "    allowed = [str(i) for i in range(10)]\n",
    "    str_numbers = list(filter(lambda x: x in allowed, [*string]))\n",
    "    joined = ''.join(str_numbers)\n",
    "    value = int(joined)\n",
    "    return value\n",
    "\n",
    "def truncate_middle(s, length, ellipsis=\"...\"):\n",
    "    \"\"\"\n",
    "    Truncate a string to a specified length, adding ellipses in the middle if necessary.\n",
    "\n",
    "    Args:\n",
    "        s (str): The input string.\n",
    "        length (int): The maximum length of the resulting string (including ellipses).\n",
    "        ellipsis (str): The ellipsis string to use (default is \"...\").\n",
    "\n",
    "    Returns:\n",
    "        str: The truncated string.\n",
    "    \"\"\"\n",
    "    if len(s) <= length:\n",
    "        return s  # No truncation needed\n",
    "\n",
    "    # Calculate the length of the prefix and suffix (including ellipses)\n",
    "    prefix_length = (length - len(ellipsis)) // 2\n",
    "    suffix_length = length - prefix_length - len(ellipsis)\n",
    "\n",
    "    # Construct the truncated string with ellipses in the middle\n",
    "    truncated = s[:prefix_length] + ellipsis + s[-suffix_length:]\n",
    "\n",
    "    return truncated\n",
    "\n",
    "def is_listing_suitable(description):\n",
    "    # Define the prompt for GPT-3\n",
    "    prompt = f\"Is the following real estate listing suitable for sharing with others?\\n{description}\\n\"\n",
    "\n",
    "    # Use GPT-3 to generate a response\n",
    "    response = openai.Completion.create(\n",
    "        engine=\"text-davinci-002\",  # Choose the appropriate engine\n",
    "        prompt=prompt,\n",
    "        max_tokens=1,  # Adjust the number of tokens as needed\n",
    "        n=1,  # Number of completions to generate\n",
    "        stop=None,  # Optional: Stop tokens to limit the response\n",
    "    )\n",
    "\n",
    "    # Extract the generated text from the response\n",
    "    generated_text = response.choices[0].text.strip()\n",
    "\n",
    "    # Check if the response indicates suitability\n",
    "    return \"Yes\" in generated_text or \"Suitable\" in generated_text"
   ]
  },
  {
   "cell_type": "code",
   "execution_count": 8,
   "id": "c1bbf87d-777e-4369-a0f7-9ef5d37fb13c",
   "metadata": {},
   "outputs": [
    {
     "name": "stdout",
     "output_type": "stream",
     "text": [
      "<Response [200]>\n",
      "['€', '1.890', 'per', 'maand']\n",
      "1890\n",
      "84\n",
      "3\n",
      "1\n",
      "1\n",
      "Gemeubileerd\n",
      "3071KB\n",
      "(Noordereiland)\n",
      "Prins Hendrikkade\n",
      "7 weken\n",
      "Perfectrent\n",
      "\n",
      "\n",
      "Beschrijving\n",
      "Tijdelijk onderkomen voor 6 maand... twee werkdagen. Alvast bedankt voor de moeite!\n",
      "\n",
      "\n"
     ]
    },
    {
     "ename": "RateLimitError",
     "evalue": "You exceeded your current quota, please check your plan and billing details.",
     "output_type": "error",
     "traceback": [
      "\u001b[1;31m---------------------------------------------------------------------------\u001b[0m",
      "\u001b[1;31mRateLimitError\u001b[0m                            Traceback (most recent call last)",
      "\u001b[1;32mc:\\Users\\pelpi\\Documents\\VSCode repositories\\pararius-scraper\\code\\Try out.ipynb Cell 7\u001b[0m line \u001b[0;36m7\n\u001b[0;32m     <a href='vscode-notebook-cell:/c%3A/Users/pelpi/Documents/VSCode%20repositories/pararius-scraper/code/Try%20out.ipynb#W6sZmlsZQ%3D%3D?line=70'>71</a>\u001b[0m \u001b[39m# ChatGPT integration\u001b[39;00m\n\u001b[0;32m     <a href='vscode-notebook-cell:/c%3A/Users/pelpi/Documents/VSCode%20repositories/pararius-scraper/code/Try%20out.ipynb#W6sZmlsZQ%3D%3D?line=71'>72</a>\u001b[0m openai\u001b[39m.\u001b[39mapi_key \u001b[39m=\u001b[39m config\u001b[39m.\u001b[39mopenai_key\n\u001b[1;32m---> <a href='vscode-notebook-cell:/c%3A/Users/pelpi/Documents/VSCode%20repositories/pararius-scraper/code/Try%20out.ipynb#W6sZmlsZQ%3D%3D?line=72'>73</a>\u001b[0m suitable \u001b[39m=\u001b[39m is_listing_suitable(description)\n\u001b[0;32m     <a href='vscode-notebook-cell:/c%3A/Users/pelpi/Documents/VSCode%20repositories/pararius-scraper/code/Try%20out.ipynb#W6sZmlsZQ%3D%3D?line=73'>74</a>\u001b[0m \u001b[39mprint\u001b[39m(suitable)\n",
      "\u001b[1;32mc:\\Users\\pelpi\\Documents\\VSCode repositories\\pararius-scraper\\code\\Try out.ipynb Cell 7\u001b[0m line \u001b[0;36m4\n\u001b[0;32m     <a href='vscode-notebook-cell:/c%3A/Users/pelpi/Documents/VSCode%20repositories/pararius-scraper/code/Try%20out.ipynb#W6sZmlsZQ%3D%3D?line=41'>42</a>\u001b[0m prompt \u001b[39m=\u001b[39m \u001b[39mf\u001b[39m\u001b[39m\"\u001b[39m\u001b[39mIs the following real estate listing suitable for sharing with others?\u001b[39m\u001b[39m\\n\u001b[39;00m\u001b[39m{\u001b[39;00mdescription\u001b[39m}\u001b[39;00m\u001b[39m\\n\u001b[39;00m\u001b[39m\"\u001b[39m\n\u001b[0;32m     <a href='vscode-notebook-cell:/c%3A/Users/pelpi/Documents/VSCode%20repositories/pararius-scraper/code/Try%20out.ipynb#W6sZmlsZQ%3D%3D?line=43'>44</a>\u001b[0m \u001b[39m# Use GPT-3 to generate a response\u001b[39;00m\n\u001b[1;32m---> <a href='vscode-notebook-cell:/c%3A/Users/pelpi/Documents/VSCode%20repositories/pararius-scraper/code/Try%20out.ipynb#W6sZmlsZQ%3D%3D?line=44'>45</a>\u001b[0m response \u001b[39m=\u001b[39m openai\u001b[39m.\u001b[39;49mCompletion\u001b[39m.\u001b[39;49mcreate(\n\u001b[0;32m     <a href='vscode-notebook-cell:/c%3A/Users/pelpi/Documents/VSCode%20repositories/pararius-scraper/code/Try%20out.ipynb#W6sZmlsZQ%3D%3D?line=45'>46</a>\u001b[0m     engine\u001b[39m=\u001b[39;49m\u001b[39m\"\u001b[39;49m\u001b[39mtext-davinci-002\u001b[39;49m\u001b[39m\"\u001b[39;49m,  \u001b[39m# Choose the appropriate engine\u001b[39;49;00m\n\u001b[0;32m     <a href='vscode-notebook-cell:/c%3A/Users/pelpi/Documents/VSCode%20repositories/pararius-scraper/code/Try%20out.ipynb#W6sZmlsZQ%3D%3D?line=46'>47</a>\u001b[0m     prompt\u001b[39m=\u001b[39;49mprompt,\n\u001b[0;32m     <a href='vscode-notebook-cell:/c%3A/Users/pelpi/Documents/VSCode%20repositories/pararius-scraper/code/Try%20out.ipynb#W6sZmlsZQ%3D%3D?line=47'>48</a>\u001b[0m     max_tokens\u001b[39m=\u001b[39;49m\u001b[39m50\u001b[39;49m,  \u001b[39m# Adjust the number of tokens as needed\u001b[39;49;00m\n\u001b[0;32m     <a href='vscode-notebook-cell:/c%3A/Users/pelpi/Documents/VSCode%20repositories/pararius-scraper/code/Try%20out.ipynb#W6sZmlsZQ%3D%3D?line=48'>49</a>\u001b[0m     n\u001b[39m=\u001b[39;49m\u001b[39m1\u001b[39;49m,  \u001b[39m# Number of completions to generate\u001b[39;49;00m\n\u001b[0;32m     <a href='vscode-notebook-cell:/c%3A/Users/pelpi/Documents/VSCode%20repositories/pararius-scraper/code/Try%20out.ipynb#W6sZmlsZQ%3D%3D?line=49'>50</a>\u001b[0m     stop\u001b[39m=\u001b[39;49m\u001b[39mNone\u001b[39;49;00m,  \u001b[39m# Optional: Stop tokens to limit the response\u001b[39;49;00m\n\u001b[0;32m     <a href='vscode-notebook-cell:/c%3A/Users/pelpi/Documents/VSCode%20repositories/pararius-scraper/code/Try%20out.ipynb#W6sZmlsZQ%3D%3D?line=50'>51</a>\u001b[0m )\n\u001b[0;32m     <a href='vscode-notebook-cell:/c%3A/Users/pelpi/Documents/VSCode%20repositories/pararius-scraper/code/Try%20out.ipynb#W6sZmlsZQ%3D%3D?line=52'>53</a>\u001b[0m \u001b[39m# Extract the generated text from the response\u001b[39;00m\n\u001b[0;32m     <a href='vscode-notebook-cell:/c%3A/Users/pelpi/Documents/VSCode%20repositories/pararius-scraper/code/Try%20out.ipynb#W6sZmlsZQ%3D%3D?line=53'>54</a>\u001b[0m generated_text \u001b[39m=\u001b[39m response\u001b[39m.\u001b[39mchoices[\u001b[39m0\u001b[39m]\u001b[39m.\u001b[39mtext\u001b[39m.\u001b[39mstrip()\n",
      "File \u001b[1;32mc:\\Users\\pelpi\\AppData\\Local\\Programs\\Python\\Python311\\Lib\\site-packages\\openai\\api_resources\\completion.py:25\u001b[0m, in \u001b[0;36mCompletion.create\u001b[1;34m(cls, *args, **kwargs)\u001b[0m\n\u001b[0;32m     23\u001b[0m \u001b[39mwhile\u001b[39;00m \u001b[39mTrue\u001b[39;00m:\n\u001b[0;32m     24\u001b[0m     \u001b[39mtry\u001b[39;00m:\n\u001b[1;32m---> 25\u001b[0m         \u001b[39mreturn\u001b[39;00m \u001b[39msuper\u001b[39;49m()\u001b[39m.\u001b[39;49mcreate(\u001b[39m*\u001b[39;49margs, \u001b[39m*\u001b[39;49m\u001b[39m*\u001b[39;49mkwargs)\n\u001b[0;32m     26\u001b[0m     \u001b[39mexcept\u001b[39;00m TryAgain \u001b[39mas\u001b[39;00m e:\n\u001b[0;32m     27\u001b[0m         \u001b[39mif\u001b[39;00m timeout \u001b[39mis\u001b[39;00m \u001b[39mnot\u001b[39;00m \u001b[39mNone\u001b[39;00m \u001b[39mand\u001b[39;00m time\u001b[39m.\u001b[39mtime() \u001b[39m>\u001b[39m start \u001b[39m+\u001b[39m timeout:\n",
      "File \u001b[1;32mc:\\Users\\pelpi\\AppData\\Local\\Programs\\Python\\Python311\\Lib\\site-packages\\openai\\api_resources\\abstract\\engine_api_resource.py:155\u001b[0m, in \u001b[0;36mEngineAPIResource.create\u001b[1;34m(cls, api_key, api_base, api_type, request_id, api_version, organization, **params)\u001b[0m\n\u001b[0;32m    129\u001b[0m \u001b[39m@classmethod\u001b[39m\n\u001b[0;32m    130\u001b[0m \u001b[39mdef\u001b[39;00m \u001b[39mcreate\u001b[39m(\n\u001b[0;32m    131\u001b[0m     \u001b[39mcls\u001b[39m,\n\u001b[1;32m   (...)\u001b[0m\n\u001b[0;32m    138\u001b[0m     \u001b[39m*\u001b[39m\u001b[39m*\u001b[39mparams,\n\u001b[0;32m    139\u001b[0m ):\n\u001b[0;32m    140\u001b[0m     (\n\u001b[0;32m    141\u001b[0m         deployment_id,\n\u001b[0;32m    142\u001b[0m         engine,\n\u001b[1;32m   (...)\u001b[0m\n\u001b[0;32m    152\u001b[0m         api_key, api_base, api_type, api_version, organization, \u001b[39m*\u001b[39m\u001b[39m*\u001b[39mparams\n\u001b[0;32m    153\u001b[0m     )\n\u001b[1;32m--> 155\u001b[0m     response, _, api_key \u001b[39m=\u001b[39m requestor\u001b[39m.\u001b[39;49mrequest(\n\u001b[0;32m    156\u001b[0m         \u001b[39m\"\u001b[39;49m\u001b[39mpost\u001b[39;49m\u001b[39m\"\u001b[39;49m,\n\u001b[0;32m    157\u001b[0m         url,\n\u001b[0;32m    158\u001b[0m         params\u001b[39m=\u001b[39;49mparams,\n\u001b[0;32m    159\u001b[0m         headers\u001b[39m=\u001b[39;49mheaders,\n\u001b[0;32m    160\u001b[0m         stream\u001b[39m=\u001b[39;49mstream,\n\u001b[0;32m    161\u001b[0m         request_id\u001b[39m=\u001b[39;49mrequest_id,\n\u001b[0;32m    162\u001b[0m         request_timeout\u001b[39m=\u001b[39;49mrequest_timeout,\n\u001b[0;32m    163\u001b[0m     )\n\u001b[0;32m    165\u001b[0m     \u001b[39mif\u001b[39;00m stream:\n\u001b[0;32m    166\u001b[0m         \u001b[39m# must be an iterator\u001b[39;00m\n\u001b[0;32m    167\u001b[0m         \u001b[39massert\u001b[39;00m \u001b[39mnot\u001b[39;00m \u001b[39misinstance\u001b[39m(response, OpenAIResponse)\n",
      "File \u001b[1;32mc:\\Users\\pelpi\\AppData\\Local\\Programs\\Python\\Python311\\Lib\\site-packages\\openai\\api_requestor.py:299\u001b[0m, in \u001b[0;36mAPIRequestor.request\u001b[1;34m(self, method, url, params, headers, files, stream, request_id, request_timeout)\u001b[0m\n\u001b[0;32m    278\u001b[0m \u001b[39mdef\u001b[39;00m \u001b[39mrequest\u001b[39m(\n\u001b[0;32m    279\u001b[0m     \u001b[39mself\u001b[39m,\n\u001b[0;32m    280\u001b[0m     method,\n\u001b[1;32m   (...)\u001b[0m\n\u001b[0;32m    287\u001b[0m     request_timeout: Optional[Union[\u001b[39mfloat\u001b[39m, Tuple[\u001b[39mfloat\u001b[39m, \u001b[39mfloat\u001b[39m]]] \u001b[39m=\u001b[39m \u001b[39mNone\u001b[39;00m,\n\u001b[0;32m    288\u001b[0m ) \u001b[39m-\u001b[39m\u001b[39m>\u001b[39m Tuple[Union[OpenAIResponse, Iterator[OpenAIResponse]], \u001b[39mbool\u001b[39m, \u001b[39mstr\u001b[39m]:\n\u001b[0;32m    289\u001b[0m     result \u001b[39m=\u001b[39m \u001b[39mself\u001b[39m\u001b[39m.\u001b[39mrequest_raw(\n\u001b[0;32m    290\u001b[0m         method\u001b[39m.\u001b[39mlower(),\n\u001b[0;32m    291\u001b[0m         url,\n\u001b[1;32m   (...)\u001b[0m\n\u001b[0;32m    297\u001b[0m         request_timeout\u001b[39m=\u001b[39mrequest_timeout,\n\u001b[0;32m    298\u001b[0m     )\n\u001b[1;32m--> 299\u001b[0m     resp, got_stream \u001b[39m=\u001b[39m \u001b[39mself\u001b[39;49m\u001b[39m.\u001b[39;49m_interpret_response(result, stream)\n\u001b[0;32m    300\u001b[0m     \u001b[39mreturn\u001b[39;00m resp, got_stream, \u001b[39mself\u001b[39m\u001b[39m.\u001b[39mapi_key\n",
      "File \u001b[1;32mc:\\Users\\pelpi\\AppData\\Local\\Programs\\Python\\Python311\\Lib\\site-packages\\openai\\api_requestor.py:710\u001b[0m, in \u001b[0;36mAPIRequestor._interpret_response\u001b[1;34m(self, result, stream)\u001b[0m\n\u001b[0;32m    702\u001b[0m     \u001b[39mreturn\u001b[39;00m (\n\u001b[0;32m    703\u001b[0m         \u001b[39mself\u001b[39m\u001b[39m.\u001b[39m_interpret_response_line(\n\u001b[0;32m    704\u001b[0m             line, result\u001b[39m.\u001b[39mstatus_code, result\u001b[39m.\u001b[39mheaders, stream\u001b[39m=\u001b[39m\u001b[39mTrue\u001b[39;00m\n\u001b[0;32m    705\u001b[0m         )\n\u001b[0;32m    706\u001b[0m         \u001b[39mfor\u001b[39;00m line \u001b[39min\u001b[39;00m parse_stream(result\u001b[39m.\u001b[39miter_lines())\n\u001b[0;32m    707\u001b[0m     ), \u001b[39mTrue\u001b[39;00m\n\u001b[0;32m    708\u001b[0m \u001b[39melse\u001b[39;00m:\n\u001b[0;32m    709\u001b[0m     \u001b[39mreturn\u001b[39;00m (\n\u001b[1;32m--> 710\u001b[0m         \u001b[39mself\u001b[39;49m\u001b[39m.\u001b[39;49m_interpret_response_line(\n\u001b[0;32m    711\u001b[0m             result\u001b[39m.\u001b[39;49mcontent\u001b[39m.\u001b[39;49mdecode(\u001b[39m\"\u001b[39;49m\u001b[39mutf-8\u001b[39;49m\u001b[39m\"\u001b[39;49m),\n\u001b[0;32m    712\u001b[0m             result\u001b[39m.\u001b[39;49mstatus_code,\n\u001b[0;32m    713\u001b[0m             result\u001b[39m.\u001b[39;49mheaders,\n\u001b[0;32m    714\u001b[0m             stream\u001b[39m=\u001b[39;49m\u001b[39mFalse\u001b[39;49;00m,\n\u001b[0;32m    715\u001b[0m         ),\n\u001b[0;32m    716\u001b[0m         \u001b[39mFalse\u001b[39;00m,\n\u001b[0;32m    717\u001b[0m     )\n",
      "File \u001b[1;32mc:\\Users\\pelpi\\AppData\\Local\\Programs\\Python\\Python311\\Lib\\site-packages\\openai\\api_requestor.py:775\u001b[0m, in \u001b[0;36mAPIRequestor._interpret_response_line\u001b[1;34m(self, rbody, rcode, rheaders, stream)\u001b[0m\n\u001b[0;32m    773\u001b[0m stream_error \u001b[39m=\u001b[39m stream \u001b[39mand\u001b[39;00m \u001b[39m\"\u001b[39m\u001b[39merror\u001b[39m\u001b[39m\"\u001b[39m \u001b[39min\u001b[39;00m resp\u001b[39m.\u001b[39mdata\n\u001b[0;32m    774\u001b[0m \u001b[39mif\u001b[39;00m stream_error \u001b[39mor\u001b[39;00m \u001b[39mnot\u001b[39;00m \u001b[39m200\u001b[39m \u001b[39m<\u001b[39m\u001b[39m=\u001b[39m rcode \u001b[39m<\u001b[39m \u001b[39m300\u001b[39m:\n\u001b[1;32m--> 775\u001b[0m     \u001b[39mraise\u001b[39;00m \u001b[39mself\u001b[39m\u001b[39m.\u001b[39mhandle_error_response(\n\u001b[0;32m    776\u001b[0m         rbody, rcode, resp\u001b[39m.\u001b[39mdata, rheaders, stream_error\u001b[39m=\u001b[39mstream_error\n\u001b[0;32m    777\u001b[0m     )\n\u001b[0;32m    778\u001b[0m \u001b[39mreturn\u001b[39;00m resp\n",
      "\u001b[1;31mRateLimitError\u001b[0m: You exceeded your current quota, please check your plan and billing details."
     ]
    }
   ],
   "source": [
    "# Listing Page\n",
    "\n",
    "url ='https://www.pararius.nl/appartement-te-huur/rotterdam/b6c9f139/prins-hendrikkade'\n",
    "req = requests.get(url)\n",
    "print(req)\n",
    "\n",
    "soup = bs(req.text, \"html.parser\")\n",
    "\n",
    "# Monthly price\n",
    "price_html = soup.find(\"div\", {\"class\": \"listing-detail-summary__price\"})\n",
    "print(price_html.text.split())\n",
    "price = get_number(price_html.text)\n",
    "print(price)\n",
    "\n",
    "# Surface area\n",
    "area_html = soup.find(\"li\", {\"class\": \"illustrated-features__item illustrated-features__item--surface-area\"})\n",
    "area = get_number(area_html.text)\n",
    "print(area)\n",
    "\n",
    "# Number of rooms\n",
    "nrooms_html = soup.find(\"li\", {\"class\": \"illustrated-features__item illustrated-features__item--number-of-rooms\"})\n",
    "nrooms = get_number(nrooms_html.text)\n",
    "print(nrooms)\n",
    "\n",
    "# Number of bedrooms\n",
    "nbedrooms_html = soup.find(\"dd\", {\"class\": \"listing-features__description listing-features__description--number_of_bedrooms\"})\n",
    "nbedrooms = get_number(nbedrooms_html.text)\n",
    "print(nbedrooms)\n",
    "\n",
    "# Number of bathrooms\n",
    "nbathrooms_html = soup.find(\"dd\", {\"class\": \"listing-features__description listing-features__description--number_of_bathrooms\"})\n",
    "nbathrooms = get_number(nbathrooms_html.text)\n",
    "print(nbathrooms)    \n",
    "\n",
    "# Furnished\n",
    "furnished_html = soup.find(\"li\", {\"class\": \"illustrated-features__item illustrated-features__item--interior\"})\n",
    "furnished = furnished_html.text\n",
    "print(furnished)\n",
    "\n",
    "# Very easy to add additonal 'data' from the listing\n",
    "# Neighbourhood\n",
    "# Zipcode\n",
    "location_html = soup.find(\"div\", {\"class\": \"listing-detail-summary__location\"})\n",
    "location_split = location_html.text.split()\n",
    "zipcode = location_split[0] + location_split[1]\n",
    "neighborhood = location_split[2]\n",
    "print(zipcode)\n",
    "print(neighborhood)\n",
    "\n",
    "# Street\n",
    "street_htmls = soup.find_all(\"a\", {\"class\": \"breadcrumbs__link\"})\n",
    "street = street_htmls[-1].text\n",
    "print(street)\n",
    "\n",
    "# Offered since\n",
    "since_html = soup.find(\"dd\", {\"class\": \"listing-features__description listing-features__description--offered_since\"})\n",
    "since_down_html = since_html.find(\"span\", {\"class\": \"listing-features__main-description\"})\n",
    "since = since_down_html.text\n",
    "print(since)\n",
    "\n",
    "# Agent\n",
    "agent_html = soup.find(\"a\", {\"class\": \"agent-summary__title-link\"})\n",
    "agent = agent_html.text\n",
    "print(agent)\n",
    "\n",
    "# Description\n",
    "description_html = soup.find(\"div\", {\"class\": \"listing-detail-description__content\"})\n",
    "description = description_html.text\n",
    "print(truncate_middle(description,100))\n",
    "\n",
    "# ChatGPT integration\n",
    "openai.api_key = config.openai_key\n",
    "suitable = is_listing_suitable(description)\n",
    "print(suitable)"
   ]
  },
  {
   "cell_type": "code",
   "execution_count": 107,
   "id": "0fe0ac6f-a411-4047-a559-cb7514b39773",
   "metadata": {},
   "outputs": [
    {
     "name": "stdout",
     "output_type": "stream",
     "text": [
      "<Response [200]>\n",
      "16\n",
      "['https://www.pararius.nl/huurwoningen/rotterdam/page-2', 'https://www.pararius.nl/huurwoningen/rotterdam/page-3', 'https://www.pararius.nl/huurwoningen/rotterdam/page-4', 'https://www.pararius.nl/huurwoningen/rotterdam/page-5', 'https://www.pararius.nl/huurwoningen/rotterdam/page-6', 'https://www.pararius.nl/huurwoningen/rotterdam/page-7', 'https://www.pararius.nl/huurwoningen/rotterdam/page-8', 'https://www.pararius.nl/huurwoningen/rotterdam/page-9', 'https://www.pararius.nl/huurwoningen/rotterdam/page-10', 'https://www.pararius.nl/huurwoningen/rotterdam/page-11', 'https://www.pararius.nl/huurwoningen/rotterdam/page-12', 'https://www.pararius.nl/huurwoningen/rotterdam/page-13', 'https://www.pararius.nl/huurwoningen/rotterdam/page-14', 'https://www.pararius.nl/huurwoningen/rotterdam/page-15', 'https://www.pararius.nl/huurwoningen/rotterdam/page-16']\n",
      "['https://www.pararius.nl//appartement-te-huur/rotterdam/b6c9f139/prins-hendrikkade', 'https://www.pararius.nl//huis-te-huur/rotterdam/cdf7feec/jan-meertensstraat', 'https://www.pararius.nl//appartement-te-huur/rotterdam/3b8031eb/plotinusstraat', 'https://www.pararius.nl//appartement-te-huur/rotterdam/c89e44cb/schiekade', 'https://www.pararius.nl//appartement-te-huur/rotterdam/649b78be/vinkenstraat', 'https://www.pararius.nl//appartement-te-huur/rotterdam/71dc1db2/burgemeester-roosstraat', 'https://www.pararius.nl//appartement-te-huur/rotterdam/0e2fcd3a/halfrond', 'https://www.pararius.nl//appartement-te-huur/rotterdam/b1899056/pleinweg', 'https://www.pararius.nl//appartement-te-huur/rotterdam/db84bc30/pleinweg', 'https://www.pararius.nl//appartement-te-huur/rotterdam/3d237659/essenburgsingel', 'https://www.pararius.nl//appartement-te-huur/rotterdam/d730a4b0/goudestein', 'https://www.pararius.nl//appartement-te-huur/rotterdam/6b8bc22f/glashaven', 'https://www.pararius.nl//appartement-te-huur/rotterdam/c0d2d33f/schieweg', 'https://www.pararius.nl//appartement-te-huur/rotterdam/192e84e9/schiedamsesingel', 'https://www.pararius.nl//appartement-te-huur/rotterdam/90a35c11/hoogstraat', 'https://www.pararius.nl//appartement-te-huur/rotterdam/aad82a75/houtlaan', 'https://www.pararius.nl//appartement-te-huur/rotterdam/1aa22b37/cor-kieboomplein', 'https://www.pararius.nl//appartement-te-huur/rotterdam/ec707cec/maashaven-n-z', 'https://www.pararius.nl//appartement-te-huur/rotterdam/4ec16e75/hugo-molenaarstraat', 'https://www.pararius.nl//appartement-te-huur/rotterdam/9ca84965/nieuwe-binnenweg', 'https://www.pararius.nl//appartement-te-huur/rotterdam/67bfadfb/nobelstraat', 'https://www.pararius.nl//appartement-te-huur/rotterdam/cb98c39f/prins-hendrikkade', 'https://www.pararius.nl//appartement-te-huur/rotterdam/b3856824/1e-jerichostraat', 'https://www.pararius.nl//appartement-te-huur/rotterdam/c84da04c/nieuwe-binnenweg', 'https://www.pararius.nl//appartement-te-huur/rotterdam/e872eb38/pijnackerplein', 'https://www.pararius.nl//kamer-te-huur/rotterdam/1a8f2f96/donkerslootstraat', 'https://www.pararius.nl//appartement-te-huur/rotterdam/f92d8ab7/schieweg', 'https://www.pararius.nl//appartement-te-huur/rotterdam/e8caf51c/gordelweg', 'https://www.pararius.nl//appartement-te-huur/rotterdam/69409adb/bentincklaan', 'https://www.pararius.nl//appartement-te-huur/rotterdam/744457ff/roentgenstraat', 'https://www.pararius.nl//appartement-te-huur/rotterdam/4379393a/scheepmakerspassage', 'https://www.pararius.nl//appartement-te-huur/rotterdam/b076e618/de-lairesselaan']\n"
     ]
    }
   ],
   "source": [
    "# Overview page\n",
    "url = 'https://www.pararius.nl/huurwoningen/rotterdam'\n",
    "\n",
    "req = requests.get(url)\n",
    "print(req)\n",
    "\n",
    "soup = bs(req.text, \"html.parser\")\n",
    "\n",
    "# Maximum number of pages\n",
    "numpages_html = soup.find_all(\"li\", {\"class\": \"pagination__item\"})\n",
    "numpages = get_number(numpages_html[-2].text)\n",
    "print(numpages)\n",
    "\n",
    "# Pages\n",
    "pagelinks = [\"https://www.pararius.nl/huurwoningen/rotterdam/page-\" + str(i) for i in range(2,numpages+1)]\n",
    "print(pagelinks) # Probably neater to do this with a for-loop (btw: page-1 redirects to the first page so not necessary to start at 2)\n",
    "\n",
    "# Listing links on page\n",
    "listings_html = soup.find_all(\"a\", {\"class\": \"listing-search-item__link listing-search-item__link--title\"})\n",
    "listing_links = [\"https://www.pararius.nl/\" + link.get(\"href\") for link in listings_html]\n",
    "print(listing_links)"
   ]
  },
  {
   "cell_type": "code",
   "execution_count": 106,
   "id": "a7ded971-a673-4ef6-a090-a0f49d3fe01d",
   "metadata": {},
   "outputs": [
    {
     "name": "stdout",
     "output_type": "stream",
     "text": [
      "[2, 3, 4, 5, 6, 7, 8, 9, 10, 11, 12, 13, 14, 15]\n"
     ]
    }
   ],
   "source": [
    "print(list(range(2,16)))"
   ]
  }
 ],
 "metadata": {
  "kernelspec": {
   "display_name": "Python 3 (ipykernel)",
   "language": "python",
   "name": "python3"
  },
  "language_info": {
   "codemirror_mode": {
    "name": "ipython",
    "version": 3
   },
   "file_extension": ".py",
   "mimetype": "text/x-python",
   "name": "python",
   "nbconvert_exporter": "python",
   "pygments_lexer": "ipython3",
   "version": "3.11.2"
  }
 },
 "nbformat": 4,
 "nbformat_minor": 5
}
