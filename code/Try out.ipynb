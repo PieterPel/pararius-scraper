{
 "cells": [
  {
   "cell_type": "markdown",
   "id": "fe6d1cb5-db80-4403-95dd-aff71739d227",
   "metadata": {},
   "source": [
    "# Testing out webscraping on pararius.nl"
   ]
  },
  {
   "cell_type": "markdown",
   "id": "5e4c5038-bab9-4199-852e-cdc2b15b86bd",
   "metadata": {},
   "source": [
    "## Background"
   ]
  },
  {
   "cell_type": "markdown",
   "id": "ee03c5a1-a875-4e69-af64-20257c05265d",
   "metadata": {},
   "source": [
    "### Observations\n",
    "- https://www.pararius.nl/huurwoningen/[STAD] is the overview per city\n",
    "- changes in https://www.pararius.nl/appartement-te-huur/[STAD]/[CODDE]/[STRAAT] when going to a listing\n",
    "\n",
    "### Desired features\n",
    "\n",
    "See: \n",
    "- price\n",
    "- street,\n",
    "- (zipcode),\n",
    "- neighborhood\n",
    "- agent,\n",
    "- number of rooms,\n",
    "- number of bedrooms,\n",
    "- suitable for sharing (based on AI),\n",
    "- date added,\n",
    "- surface area\n",
    "\n",
    "Other:\n",
    "- sortable"
   ]
  },
  {
   "cell_type": "markdown",
   "id": "c0a7a057-64dc-4a44-a665-575843bb6984",
   "metadata": {},
   "source": [
    "## Scraping"
   ]
  },
  {
   "cell_type": "markdown",
   "id": "f1f56d63-300f-44b2-a4ec-f0926639dcb5",
   "metadata": {},
   "source": [
    "### Set up"
   ]
  },
  {
   "cell_type": "code",
   "execution_count": 84,
   "id": "9a3940a3-d26e-48b1-aedb-df3d854775e9",
   "metadata": {},
   "outputs": [],
   "source": [
    "# Import packages\n",
    "import pandas as pd\n",
    "import requests\n",
    "from bs4 import BeautifulSoup as bs \n",
    "\n",
    "# Methods\n",
    "def get_number(string):\n",
    "    allowed = [str(i) for i in range(10)]\n",
    "    str_numbers = list(filter(lambda x: x in allowed, [*string]))\n",
    "    joined = ''.join(str_numbers)\n",
    "    value = int(joined)\n",
    "    return value\n",
    "\n",
    "def truncate_middle(s, length, ellipsis=\"...\"):\n",
    "    \"\"\"\n",
    "    Truncate a string to a specified length, adding ellipses in the middle if necessary.\n",
    "\n",
    "    Args:\n",
    "        s (str): The input string.\n",
    "        length (int): The maximum length of the resulting string (including ellipses).\n",
    "        ellipsis (str): The ellipsis string to use (default is \"...\").\n",
    "\n",
    "    Returns:\n",
    "        str: The truncated string.\n",
    "    \"\"\"\n",
    "    if len(s) <= length:\n",
    "        return s  # No truncation needed\n",
    "\n",
    "    # Calculate the length of the prefix and suffix (including ellipses)\n",
    "    prefix_length = (length - len(ellipsis)) // 2\n",
    "    suffix_length = length - prefix_length - len(ellipsis)\n",
    "\n",
    "    # Construct the truncated string with ellipses in the middle\n",
    "    truncated = s[:prefix_length] + ellipsis + s[-suffix_length:]\n",
    "\n",
    "    return truncated"
   ]
  },
  {
   "cell_type": "code",
   "execution_count": 129,
   "id": "c1bbf87d-777e-4369-a0f7-9ef5d37fb13c",
   "metadata": {},
   "outputs": [
    {
     "name": "stdout",
     "output_type": "stream",
     "text": [
      "<Response [200]>\n",
      "['€', '1.890', 'per', 'maand']\n",
      "1890\n",
      "84\n",
      "3\n",
      "1\n",
      "1\n",
      "Gemeubileerd\n",
      "3071KB\n",
      "(Noordereiland)\n",
      "Prins Hendrikkade\n",
      "7 weken\n",
      "Perfectrent\n",
      "\n",
      "\n",
      "Beschrijving\n",
      "Tijdelijk onderkomen voor 6 maand... twee werkdagen. Alvast bedankt voor de moeite!\n",
      "\n",
      "\n"
     ]
    }
   ],
   "source": [
    "# Listing Page\n",
    "\n",
    "url ='https://www.pararius.nl/appartement-te-huur/rotterdam/b6c9f139/prins-hendrikkade'\n",
    "req = requests.get(url)\n",
    "print(req)\n",
    "\n",
    "soup = bs(req.text, \"html.parser\")\n",
    "\n",
    "# Monthly price\n",
    "price_html = soup.find(\"div\", {\"class\": \"listing-detail-summary__price\"})\n",
    "print(price_html.text.split())\n",
    "price = get_number(price_html.text)\n",
    "print(price)\n",
    "\n",
    "# Surface area\n",
    "area_html = soup.find(\"li\", {\"class\": \"illustrated-features__item illustrated-features__item--surface-area\"})\n",
    "area = get_number(area_html.text)\n",
    "print(area)\n",
    "\n",
    "# Number of rooms\n",
    "nrooms_html = soup.find(\"li\", {\"class\": \"illustrated-features__item illustrated-features__item--number-of-rooms\"})\n",
    "nrooms = get_number(nrooms_html.text)\n",
    "print(nrooms)\n",
    "\n",
    "# Number of bedrooms\n",
    "nbedrooms_html = soup.find(\"dd\", {\"class\": \"listing-features__description listing-features__description--number_of_bedrooms\"})\n",
    "nbedrooms = get_number(nbedrooms_html.text)\n",
    "print(nbedrooms)\n",
    "\n",
    "# Number of bathrooms\n",
    "nbathrooms_html = soup.find(\"dd\", {\"class\": \"listing-features__description listing-features__description--number_of_bathrooms\"})\n",
    "nbathrooms = get_number(nbathrooms_html.text)\n",
    "print(nbathrooms)    \n",
    "\n",
    "# Furnished\n",
    "furnished_html = soup.find(\"li\", {\"class\": \"illustrated-features__item illustrated-features__item--interior\"})\n",
    "furnished = furnished_html.text\n",
    "print(furnished)\n",
    "\n",
    "# Very easy to add additonal 'data' from the listing\n",
    "# Neighbourhood\n",
    "# Zipcode\n",
    "location_html = soup.find(\"div\", {\"class\": \"listing-detail-summary__location\"})\n",
    "location_split = location_html.text.split()\n",
    "zipcode = location_split[0] + location_split[1]\n",
    "neighborhood = location_split[2]\n",
    "print(zipcode)\n",
    "print(neighborhood)\n",
    "\n",
    "# Street\n",
    "street_htmls = soup.find_all(\"a\", {\"class\": \"breadcrumbs__link\"})\n",
    "street = street_htmls[-1].text\n",
    "print(street)\n",
    "\n",
    "# Offered since\n",
    "since_html = soup.find(\"dd\", {\"class\": \"listing-features__description listing-features__description--offered_since\"})\n",
    "since_down_html = since_html.find(\"span\", {\"class\": \"listing-features__main-description\"})\n",
    "since = since_down_html.text\n",
    "print(since)\n",
    "\n",
    "# Agent\n",
    "agent_html = soup.find(\"a\", {\"class\": \"agent-summary__title-link\"})\n",
    "agent = agent_html.text\n",
    "print(agent)\n",
    "\n",
    "# Description\n",
    "description_html = soup.find(\"div\", {\"class\": \"listing-detail-description__content\"})\n",
    "description = description_html.text\n",
    "print(truncate_middle(description,100))\n",
    "\n",
    "# ChatGPT integration"
   ]
  },
  {
   "cell_type": "code",
   "execution_count": 107,
   "id": "0fe0ac6f-a411-4047-a559-cb7514b39773",
   "metadata": {},
   "outputs": [
    {
     "name": "stdout",
     "output_type": "stream",
     "text": [
      "<Response [200]>\n",
      "16\n",
      "['https://www.pararius.nl/huurwoningen/rotterdam/page-2', 'https://www.pararius.nl/huurwoningen/rotterdam/page-3', 'https://www.pararius.nl/huurwoningen/rotterdam/page-4', 'https://www.pararius.nl/huurwoningen/rotterdam/page-5', 'https://www.pararius.nl/huurwoningen/rotterdam/page-6', 'https://www.pararius.nl/huurwoningen/rotterdam/page-7', 'https://www.pararius.nl/huurwoningen/rotterdam/page-8', 'https://www.pararius.nl/huurwoningen/rotterdam/page-9', 'https://www.pararius.nl/huurwoningen/rotterdam/page-10', 'https://www.pararius.nl/huurwoningen/rotterdam/page-11', 'https://www.pararius.nl/huurwoningen/rotterdam/page-12', 'https://www.pararius.nl/huurwoningen/rotterdam/page-13', 'https://www.pararius.nl/huurwoningen/rotterdam/page-14', 'https://www.pararius.nl/huurwoningen/rotterdam/page-15', 'https://www.pararius.nl/huurwoningen/rotterdam/page-16']\n",
      "['https://www.pararius.nl//appartement-te-huur/rotterdam/b6c9f139/prins-hendrikkade', 'https://www.pararius.nl//huis-te-huur/rotterdam/cdf7feec/jan-meertensstraat', 'https://www.pararius.nl//appartement-te-huur/rotterdam/3b8031eb/plotinusstraat', 'https://www.pararius.nl//appartement-te-huur/rotterdam/c89e44cb/schiekade', 'https://www.pararius.nl//appartement-te-huur/rotterdam/649b78be/vinkenstraat', 'https://www.pararius.nl//appartement-te-huur/rotterdam/71dc1db2/burgemeester-roosstraat', 'https://www.pararius.nl//appartement-te-huur/rotterdam/0e2fcd3a/halfrond', 'https://www.pararius.nl//appartement-te-huur/rotterdam/b1899056/pleinweg', 'https://www.pararius.nl//appartement-te-huur/rotterdam/db84bc30/pleinweg', 'https://www.pararius.nl//appartement-te-huur/rotterdam/3d237659/essenburgsingel', 'https://www.pararius.nl//appartement-te-huur/rotterdam/d730a4b0/goudestein', 'https://www.pararius.nl//appartement-te-huur/rotterdam/6b8bc22f/glashaven', 'https://www.pararius.nl//appartement-te-huur/rotterdam/c0d2d33f/schieweg', 'https://www.pararius.nl//appartement-te-huur/rotterdam/192e84e9/schiedamsesingel', 'https://www.pararius.nl//appartement-te-huur/rotterdam/90a35c11/hoogstraat', 'https://www.pararius.nl//appartement-te-huur/rotterdam/aad82a75/houtlaan', 'https://www.pararius.nl//appartement-te-huur/rotterdam/1aa22b37/cor-kieboomplein', 'https://www.pararius.nl//appartement-te-huur/rotterdam/ec707cec/maashaven-n-z', 'https://www.pararius.nl//appartement-te-huur/rotterdam/4ec16e75/hugo-molenaarstraat', 'https://www.pararius.nl//appartement-te-huur/rotterdam/9ca84965/nieuwe-binnenweg', 'https://www.pararius.nl//appartement-te-huur/rotterdam/67bfadfb/nobelstraat', 'https://www.pararius.nl//appartement-te-huur/rotterdam/cb98c39f/prins-hendrikkade', 'https://www.pararius.nl//appartement-te-huur/rotterdam/b3856824/1e-jerichostraat', 'https://www.pararius.nl//appartement-te-huur/rotterdam/c84da04c/nieuwe-binnenweg', 'https://www.pararius.nl//appartement-te-huur/rotterdam/e872eb38/pijnackerplein', 'https://www.pararius.nl//kamer-te-huur/rotterdam/1a8f2f96/donkerslootstraat', 'https://www.pararius.nl//appartement-te-huur/rotterdam/f92d8ab7/schieweg', 'https://www.pararius.nl//appartement-te-huur/rotterdam/e8caf51c/gordelweg', 'https://www.pararius.nl//appartement-te-huur/rotterdam/69409adb/bentincklaan', 'https://www.pararius.nl//appartement-te-huur/rotterdam/744457ff/roentgenstraat', 'https://www.pararius.nl//appartement-te-huur/rotterdam/4379393a/scheepmakerspassage', 'https://www.pararius.nl//appartement-te-huur/rotterdam/b076e618/de-lairesselaan']\n"
     ]
    }
   ],
   "source": [
    "# Overview page\n",
    "url = 'https://www.pararius.nl/huurwoningen/rotterdam'\n",
    "\n",
    "req = requests.get(url)\n",
    "print(req)\n",
    "\n",
    "soup = bs(req.text, \"html.parser\")\n",
    "\n",
    "# Maximum number of pages\n",
    "numpages_html = soup.find_all(\"li\", {\"class\": \"pagination__item\"})\n",
    "numpages = get_number(numpages_html[-2].text)\n",
    "print(numpages)\n",
    "\n",
    "# Pages\n",
    "pagelinks = [\"https://www.pararius.nl/huurwoningen/rotterdam/page-\" + str(i) for i in range(2,numpages+1)]\n",
    "print(pagelinks) # Probably neater to do this with a for-loop (btw: page-1 redirects to the first page so not necessary to start at 2)\n",
    "\n",
    "# Listing links on page\n",
    "listings_html = soup.find_all(\"a\", {\"class\": \"listing-search-item__link listing-search-item__link--title\"})\n",
    "listing_links = [\"https://www.pararius.nl/\" + link.get(\"href\") for link in listings_html]\n",
    "print(listing_links)"
   ]
  },
  {
   "cell_type": "code",
   "execution_count": 106,
   "id": "a7ded971-a673-4ef6-a090-a0f49d3fe01d",
   "metadata": {},
   "outputs": [
    {
     "name": "stdout",
     "output_type": "stream",
     "text": [
      "[2, 3, 4, 5, 6, 7, 8, 9, 10, 11, 12, 13, 14, 15]\n"
     ]
    }
   ],
   "source": [
    "print(list(range(2,16)))"
   ]
  }
 ],
 "metadata": {
  "kernelspec": {
   "display_name": "Python 3 (ipykernel)",
   "language": "python",
   "name": "python3"
  },
  "language_info": {
   "codemirror_mode": {
    "name": "ipython",
    "version": 3
   },
   "file_extension": ".py",
   "mimetype": "text/x-python",
   "name": "python",
   "nbconvert_exporter": "python",
   "pygments_lexer": "ipython3",
   "version": "3.11.2"
  }
 },
 "nbformat": 4,
 "nbformat_minor": 5
}
