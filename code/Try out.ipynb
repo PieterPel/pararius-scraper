{
 "cells": [
  {
   "cell_type": "markdown",
   "id": "fe6d1cb5-db80-4403-95dd-aff71739d227",
   "metadata": {},
   "source": [
    "# Testing out webscraping on pararius.nl"
   ]
  },
  {
   "cell_type": "markdown",
   "id": "5e4c5038-bab9-4199-852e-cdc2b15b86bd",
   "metadata": {},
   "source": [
    "## Background"
   ]
  },
  {
   "cell_type": "markdown",
   "id": "ee03c5a1-a875-4e69-af64-20257c05265d",
   "metadata": {},
   "source": [
    "### Observations\n",
    "- https://www.pararius.nl/huurwoningen/[STAD] is the overview per city\n",
    "- changes in https://www.pararius.nl/appartement-te-huur/[STAD]/[CODDE]/[STRAAT] when going to a listing\n",
    "\n",
    "### Desired features\n",
    "\n",
    "See: \n",
    "- price\n",
    "- street,\n",
    "- (zipcode),\n",
    "- neighborhood\n",
    "- agent,\n",
    "- number of rooms,\n",
    "- number of bedrooms,\n",
    "- suitable for sharing (based on AI),\n",
    "- date added,\n",
    "- surface area\n",
    "\n",
    "Other:\n",
    "- sortable"
   ]
  },
  {
   "cell_type": "markdown",
   "id": "c0a7a057-64dc-4a44-a665-575843bb6984",
   "metadata": {},
   "source": [
    "## Scraping"
   ]
  },
  {
   "cell_type": "markdown",
   "id": "f1f56d63-300f-44b2-a4ec-f0926639dcb5",
   "metadata": {},
   "source": [
    "### Set up"
   ]
  },
  {
   "cell_type": "code",
   "execution_count": 90,
   "id": "9a3940a3-d26e-48b1-aedb-df3d854775e9",
   "metadata": {},
   "outputs": [],
   "source": [
    "# Import packages\n",
    "import pandas as pd\n",
    "import requests\n",
    "from bs4 import BeautifulSoup as bs \n",
    "import openai\n",
    "import config\n",
    "import openpyxl\n",
    "\n",
    "# Methods\n",
    "def get_number(string):\n",
    "    allowed = [str(i) for i in range(10)]\n",
    "    str_numbers = list(filter(lambda x: x in allowed, [*string]))\n",
    "    joined = ''.join(str_numbers)\n",
    "    value = int(joined)\n",
    "    return value\n",
    "\n",
    "def truncate_middle(s, length, ellipsis=\"...\"):\n",
    "    \"\"\"\n",
    "    Truncate a string to a specified length, adding ellipses in the middle if necessary.\n",
    "\n",
    "    Args:\n",
    "        s (str): The input string.\n",
    "        length (int): The maximum length of the resulting string (including ellipses).\n",
    "        ellipsis (str): The ellipsis string to use (default is \"...\").\n",
    "\n",
    "    Returns:\n",
    "        str: The truncated string.\n",
    "    \"\"\"\n",
    "    if len(s) <= length:\n",
    "        return s  # No truncation needed\n",
    "\n",
    "    # Calculate the length of the prefix and suffix (including ellipses)\n",
    "    prefix_length = (length - len(ellipsis)) // 2\n",
    "    suffix_length = length - prefix_length - len(ellipsis)\n",
    "\n",
    "    # Construct the truncated string with ellipses in the middle\n",
    "    truncated = s[:prefix_length] + ellipsis + s[-suffix_length:]\n",
    "\n",
    "    return truncated\n",
    "\n",
    "def is_listing_suitable(description):\n",
    "    # Define the prompt for GPT-3\n",
    "    prompt = f\"Is the following real estate listing suitable for sharing with others?\\n{description}\\n\"\n",
    "\n",
    "    # Use GPT-3 to generate a response\n",
    "    response = openai.Completion.create(\n",
    "        engine=\"text-davinci-002\",  # Choose the appropriate engine\n",
    "        prompt=prompt,\n",
    "        max_tokens=1,  # Adjust the number of tokens as needed\n",
    "        n=1,  # Number of completions to generate\n",
    "        stop=None,  # Optional: Stop tokens to limit the response\n",
    "    )\n",
    "\n",
    "    # Extract the generated text from the response\n",
    "    generated_text = response.choices[0].text.strip()\n",
    "\n",
    "    # Check if the response indicates suitability\n",
    "    return \"Yes\" in generated_text or \"Suitable\" in generated_text"
   ]
  },
  {
   "cell_type": "markdown",
   "id": "f113683d",
   "metadata": {},
   "source": [
    "## Experimenting"
   ]
  },
  {
   "cell_type": "markdown",
   "id": "bf470efc",
   "metadata": {},
   "source": [
    "### Extract info from listing"
   ]
  },
  {
   "cell_type": "code",
   "execution_count": 42,
   "id": "c1bbf87d-777e-4369-a0f7-9ef5d37fb13c",
   "metadata": {},
   "outputs": [
    {
     "name": "stdout",
     "output_type": "stream",
     "text": [
      "<Response [200]>\n",
      "['€', '1.400', 'per', 'maand']\n",
      "1400\n",
      "65\n",
      "3\n",
      "2\n",
      "NA\n"
     ]
    },
    {
     "ename": "AttributeError",
     "evalue": "'NoneType' object has no attribute 'text'",
     "output_type": "error",
     "traceback": [
      "\u001b[1;31m---------------------------------------------------------------------------\u001b[0m",
      "\u001b[1;31mAttributeError\u001b[0m                            Traceback (most recent call last)",
      "\u001b[1;32mc:\\Users\\pelpi\\Documents\\VSCode repositories\\pararius-scraper\\code\\Try out.ipynb Cell 7\u001b[0m line \u001b[0;36m4\n\u001b[0;32m     <a href='vscode-notebook-cell:/c%3A/Users/pelpi/Documents/VSCode%20repositories/pararius-scraper/code/Try%20out.ipynb#W6sZmlsZQ%3D%3D?line=37'>38</a>\u001b[0m \u001b[39m# Furnished\u001b[39;00m\n\u001b[0;32m     <a href='vscode-notebook-cell:/c%3A/Users/pelpi/Documents/VSCode%20repositories/pararius-scraper/code/Try%20out.ipynb#W6sZmlsZQ%3D%3D?line=38'>39</a>\u001b[0m furnished_html \u001b[39m=\u001b[39m soup\u001b[39m.\u001b[39mfind(\u001b[39m\"\u001b[39m\u001b[39mli\u001b[39m\u001b[39m\"\u001b[39m, {\u001b[39m\"\u001b[39m\u001b[39mclass\u001b[39m\u001b[39m\"\u001b[39m: \u001b[39m\"\u001b[39m\u001b[39millustrated-features__item illustrated-features__item--interior\u001b[39m\u001b[39m\"\u001b[39m})\n\u001b[1;32m---> <a href='vscode-notebook-cell:/c%3A/Users/pelpi/Documents/VSCode%20repositories/pararius-scraper/code/Try%20out.ipynb#W6sZmlsZQ%3D%3D?line=39'>40</a>\u001b[0m furnished \u001b[39m=\u001b[39m furnished_html\u001b[39m.\u001b[39;49mtext\n\u001b[0;32m     <a href='vscode-notebook-cell:/c%3A/Users/pelpi/Documents/VSCode%20repositories/pararius-scraper/code/Try%20out.ipynb#W6sZmlsZQ%3D%3D?line=40'>41</a>\u001b[0m \u001b[39mprint\u001b[39m(furnished)\n\u001b[0;32m     <a href='vscode-notebook-cell:/c%3A/Users/pelpi/Documents/VSCode%20repositories/pararius-scraper/code/Try%20out.ipynb#W6sZmlsZQ%3D%3D?line=42'>43</a>\u001b[0m \u001b[39m# Very easy to add additonal 'data' from the listing\u001b[39;00m\n\u001b[0;32m     <a href='vscode-notebook-cell:/c%3A/Users/pelpi/Documents/VSCode%20repositories/pararius-scraper/code/Try%20out.ipynb#W6sZmlsZQ%3D%3D?line=43'>44</a>\u001b[0m \u001b[39m# Neighbourhood\u001b[39;00m\n\u001b[0;32m     <a href='vscode-notebook-cell:/c%3A/Users/pelpi/Documents/VSCode%20repositories/pararius-scraper/code/Try%20out.ipynb#W6sZmlsZQ%3D%3D?line=44'>45</a>\u001b[0m \u001b[39m# Zipcode\u001b[39;00m\n",
      "\u001b[1;31mAttributeError\u001b[0m: 'NoneType' object has no attribute 'text'"
     ]
    }
   ],
   "source": [
    "# Listing Page\n",
    "\n",
    "url ='https://www.pararius.nl/appartement-te-huur/rotterdam/872bf769/groenendaal'\n",
    "req = requests.get(url)\n",
    "print(req)\n",
    "\n",
    "soup = bs(req.text, \"html.parser\")\n",
    "\n",
    "# Monthly price\n",
    "price_html = soup.find(\"div\", {\"class\": \"listing-detail-summary__price\"})\n",
    "print(price_html.text.split())\n",
    "price = get_number(price_html.text)\n",
    "print(price)\n",
    "\n",
    "# Surface area\n",
    "area_html = soup.find(\"li\", {\"class\": \"illustrated-features__item illustrated-features__item--surface-area\"})\n",
    "area = get_number(area_html.text)\n",
    "print(area)\n",
    "\n",
    "# Number of rooms\n",
    "nrooms_html = soup.find(\"li\", {\"class\": \"illustrated-features__item illustrated-features__item--number-of-rooms\"})\n",
    "nrooms = get_number(nrooms_html.text)\n",
    "print(nrooms)\n",
    "\n",
    "# Number of bedrooms\n",
    "nbedrooms_html = soup.find(\"dd\", {\"class\": \"listing-features__description listing-features__description--number_of_bedrooms\"})\n",
    "nbedrooms = get_number(nbedrooms_html.text)\n",
    "print(nbedrooms)\n",
    "\n",
    "# Number of bathrooms\n",
    "try:\n",
    "    nbathrooms_html = soup.find(\"dd\", {\"class\": \"listing-features__description listing-features__description--number_of_bathrooms\"})\n",
    "    nbathrooms = get_number(nbathrooms_html.text)\n",
    "    print(nbathrooms)\n",
    "except:\n",
    "    print(\"NA\")    \n",
    "\n",
    "# Furnished\n",
    "furnished_html = soup.find(\"li\", {\"class\": \"illustrated-features__item illustrated-features__item--interior\"})\n",
    "furnished = furnished_html.text\n",
    "print(furnished)\n",
    "\n",
    "# Very easy to add additonal 'data' from the listing\n",
    "# Neighbourhood\n",
    "# Zipcode\n",
    "location_html = soup.find(\"div\", {\"class\": \"listing-detail-summary__location\"})\n",
    "location_split = location_html.text.split()\n",
    "zipcode = location_split[0] + location_split[1]\n",
    "neighborhood = location_split[2]\n",
    "print(zipcode)\n",
    "print(neighborhood)\n",
    "\n",
    "# Street\n",
    "street_htmls = soup.find_all(\"a\", {\"class\": \"breadcrumbs__link\"})\n",
    "street = street_htmls[-1].text\n",
    "print(street)\n",
    "\n",
    "# Offered since\n",
    "since_html = soup.find(\"dd\", {\"class\": \"listing-features__description listing-features__description--offered_since\"})\n",
    "since_down_html = since_html.find(\"span\", {\"class\": \"listing-features__main-description\"})\n",
    "since = since_down_html.text\n",
    "print(since)\n",
    "\n",
    "# Agent\n",
    "agent_html = soup.find(\"a\", {\"class\": \"agent-summary__title-link\"})\n",
    "agent = agent_html.text\n",
    "print(agent)\n",
    "\n",
    "# Status\n",
    "status_html = soup.find(\"dd\", {\"class\": \"listing-features__description listing-features__description--status\"})\n",
    "status = status_html.text\n",
    "print(status)\n",
    "\n",
    "# Description\n",
    "description_html = soup.find(\"div\", {\"class\": \"listing-detail-description__content\"})\n",
    "description = description_html.text\n",
    "print(truncate_middle(description,100))\n",
    "\n",
    "# ChatGPT integration (For later if ever)\n",
    "# openai.api_key = config.openai_key\n",
    "# suitable = is_listing_suitable(description)\n",
    "# print(suitable)"
   ]
  },
  {
   "cell_type": "markdown",
   "id": "6d00dd74",
   "metadata": {},
   "source": [
    "### Get all listing of a city"
   ]
  },
  {
   "cell_type": "code",
   "execution_count": 11,
   "id": "0fe0ac6f-a411-4047-a559-cb7514b39773",
   "metadata": {},
   "outputs": [
    {
     "name": "stdout",
     "output_type": "stream",
     "text": [
      "<Response [200]>\n",
      "16\n",
      "['https://www.pararius.nl/huurwoningen/rotterdam/page-2', 'https://www.pararius.nl/huurwoningen/rotterdam/page-3', 'https://www.pararius.nl/huurwoningen/rotterdam/page-4', 'https://www.pararius.nl/huurwoningen/rotterdam/page-5', 'https://www.pararius.nl/huurwoningen/rotterdam/page-6', 'https://www.pararius.nl/huurwoningen/rotterdam/page-7', 'https://www.pararius.nl/huurwoningen/rotterdam/page-8', 'https://www.pararius.nl/huurwoningen/rotterdam/page-9', 'https://www.pararius.nl/huurwoningen/rotterdam/page-10', 'https://www.pararius.nl/huurwoningen/rotterdam/page-11', 'https://www.pararius.nl/huurwoningen/rotterdam/page-12', 'https://www.pararius.nl/huurwoningen/rotterdam/page-13', 'https://www.pararius.nl/huurwoningen/rotterdam/page-14', 'https://www.pararius.nl/huurwoningen/rotterdam/page-15', 'https://www.pararius.nl/huurwoningen/rotterdam/page-16']\n",
      "['https://www.pararius.nl//appartement-te-huur/rotterdam/b6c9f139/prins-hendrikkade', 'https://www.pararius.nl//appartement-te-huur/rotterdam/ec707cec/maashaven-n-z', 'https://www.pararius.nl//appartement-te-huur/rotterdam/6d345a10/westersingel', 'https://www.pararius.nl//appartement-te-huur/rotterdam/24b9c531/schieweg', 'https://www.pararius.nl//appartement-te-huur/rotterdam/9ebd8262/noordmolenwerf', 'https://www.pararius.nl//appartement-te-huur/rotterdam/19877e7a/blaak', 'https://www.pararius.nl//huis-te-huur/rotterdam/98df0641/heemraadsplein', 'https://www.pararius.nl//appartement-te-huur/rotterdam/704d6c73/doedesstraat', 'https://www.pararius.nl//appartement-te-huur/rotterdam/2d560c6e/pompstraat', 'https://www.pararius.nl//appartement-te-huur/rotterdam/a6e5213d/sionstraat', 'https://www.pararius.nl//appartement-te-huur/rotterdam/ff8d1802/bulgersteyn', 'https://www.pararius.nl//appartement-te-huur/rotterdam/2e97be9d/brede-hilledijk', 'https://www.pararius.nl//appartement-te-huur/rotterdam/5fadcc45/brussestraat', 'https://www.pararius.nl//appartement-te-huur/rotterdam/bb440363/aelbrechtskade', 'https://www.pararius.nl//appartement-te-huur/rotterdam/0279fb9c/karel-doormanstraat', 'https://www.pararius.nl//appartement-te-huur/rotterdam/da5af6e6/goudsesingel', 'https://www.pararius.nl//appartement-te-huur/rotterdam/872bf769/groenendaal', 'https://www.pararius.nl//appartement-te-huur/rotterdam/3d73b4a1/prins-frederikplein', 'https://www.pararius.nl//appartement-te-huur/rotterdam/f2525caf/1e-jerichostraat', 'https://www.pararius.nl//huis-te-huur/rotterdam/f8fa2cfb/kemperweg', 'https://www.pararius.nl//appartement-te-huur/rotterdam/38afd276/nobelstraat', 'https://www.pararius.nl//appartement-te-huur/rotterdam/bd97095c/s-lands-werf', 'https://www.pararius.nl//appartement-te-huur/rotterdam/51c8beae/voermanweg', 'https://www.pararius.nl//appartement-te-huur/rotterdam/bf6216bf/de-quackstraat', 'https://www.pararius.nl//appartement-te-huur/rotterdam/8ea5cf23/boompjes', 'https://www.pararius.nl//appartement-te-huur/rotterdam/a9608562/volmarijnstraat', 'https://www.pararius.nl//appartement-te-huur/rotterdam/eda0207c/witte-de-withstraat', 'https://www.pararius.nl//appartement-te-huur/rotterdam/c89e44cb/schiekade', 'https://www.pararius.nl//appartement-te-huur/rotterdam/649b78be/vinkenstraat', 'https://www.pararius.nl//appartement-te-huur/rotterdam/71dc1db2/burgemeester-roosstraat', 'https://www.pararius.nl//appartement-te-huur/rotterdam/0e2fcd3a/halfrond', 'https://www.pararius.nl//appartement-te-huur/rotterdam/b1899056/pleinweg']\n",
      "['https://www.pararius.nl/appartement-te-huur/rotterdam/b6c9f139/prins-hendrikkade', 'https://www.pararius.nl/appartement-te-huur/rotterdam/ec707cec/maashaven-n-z', 'https://www.pararius.nl/appartement-te-huur/rotterdam/6d345a10/westersingel', 'https://www.pararius.nl/appartement-te-huur/rotterdam/24b9c531/schieweg', 'https://www.pararius.nl/appartement-te-huur/rotterdam/9ebd8262/noordmolenwerf', 'https://www.pararius.nl/appartement-te-huur/rotterdam/19877e7a/blaak', 'https://www.pararius.nl/huis-te-huur/rotterdam/98df0641/heemraadsplein', 'https://www.pararius.nl/appartement-te-huur/rotterdam/704d6c73/doedesstraat', 'https://www.pararius.nl/appartement-te-huur/rotterdam/2d560c6e/pompstraat', 'https://www.pararius.nl/appartement-te-huur/rotterdam/a6e5213d/sionstraat', 'https://www.pararius.nl/appartement-te-huur/rotterdam/ff8d1802/bulgersteyn', 'https://www.pararius.nl/appartement-te-huur/rotterdam/2e97be9d/brede-hilledijk', 'https://www.pararius.nl/appartement-te-huur/rotterdam/5fadcc45/brussestraat', 'https://www.pararius.nl/appartement-te-huur/rotterdam/bb440363/aelbrechtskade', 'https://www.pararius.nl/appartement-te-huur/rotterdam/0279fb9c/karel-doormanstraat', 'https://www.pararius.nl/appartement-te-huur/rotterdam/da5af6e6/goudsesingel', 'https://www.pararius.nl/appartement-te-huur/rotterdam/872bf769/groenendaal', 'https://www.pararius.nl/appartement-te-huur/rotterdam/3d73b4a1/prins-frederikplein', 'https://www.pararius.nl/appartement-te-huur/rotterdam/f2525caf/1e-jerichostraat', 'https://www.pararius.nl/huis-te-huur/rotterdam/f8fa2cfb/kemperweg', 'https://www.pararius.nl/appartement-te-huur/rotterdam/38afd276/nobelstraat', 'https://www.pararius.nl/appartement-te-huur/rotterdam/bd97095c/s-lands-werf', 'https://www.pararius.nl/appartement-te-huur/rotterdam/51c8beae/voermanweg', 'https://www.pararius.nl/appartement-te-huur/rotterdam/bf6216bf/de-quackstraat', 'https://www.pararius.nl/appartement-te-huur/rotterdam/8ea5cf23/boompjes', 'https://www.pararius.nl/appartement-te-huur/rotterdam/a9608562/volmarijnstraat', 'https://www.pararius.nl/appartement-te-huur/rotterdam/eda0207c/witte-de-withstraat', 'https://www.pararius.nl/appartement-te-huur/rotterdam/c89e44cb/schiekade', 'https://www.pararius.nl/appartement-te-huur/rotterdam/649b78be/vinkenstraat', 'https://www.pararius.nl/appartement-te-huur/rotterdam/71dc1db2/burgemeester-roosstraat', 'https://www.pararius.nl/appartement-te-huur/rotterdam/0e2fcd3a/halfrond', 'https://www.pararius.nl/appartement-te-huur/rotterdam/b1899056/pleinweg', 'https://www.pararius.nl/appartement-te-huur/rotterdam/b6c9f139/prins-hendrikkade', 'https://www.pararius.nl/appartement-te-huur/rotterdam/ec707cec/maashaven-n-z', 'https://www.pararius.nl/appartement-te-huur/rotterdam/6d345a10/westersingel', 'https://www.pararius.nl/appartement-te-huur/rotterdam/24b9c531/schieweg', 'https://www.pararius.nl/appartement-te-huur/rotterdam/9ebd8262/noordmolenwerf', 'https://www.pararius.nl/appartement-te-huur/rotterdam/19877e7a/blaak', 'https://www.pararius.nl/huis-te-huur/rotterdam/98df0641/heemraadsplein', 'https://www.pararius.nl/appartement-te-huur/rotterdam/704d6c73/doedesstraat', 'https://www.pararius.nl/appartement-te-huur/rotterdam/2d560c6e/pompstraat', 'https://www.pararius.nl/appartement-te-huur/rotterdam/a6e5213d/sionstraat', 'https://www.pararius.nl/appartement-te-huur/rotterdam/ff8d1802/bulgersteyn', 'https://www.pararius.nl/appartement-te-huur/rotterdam/2e97be9d/brede-hilledijk', 'https://www.pararius.nl/appartement-te-huur/rotterdam/5fadcc45/brussestraat', 'https://www.pararius.nl/appartement-te-huur/rotterdam/bb440363/aelbrechtskade', 'https://www.pararius.nl/appartement-te-huur/rotterdam/0279fb9c/karel-doormanstraat', 'https://www.pararius.nl/appartement-te-huur/rotterdam/da5af6e6/goudsesingel', 'https://www.pararius.nl/appartement-te-huur/rotterdam/872bf769/groenendaal', 'https://www.pararius.nl/appartement-te-huur/rotterdam/3d73b4a1/prins-frederikplein', 'https://www.pararius.nl/appartement-te-huur/rotterdam/f2525caf/1e-jerichostraat', 'https://www.pararius.nl/huis-te-huur/rotterdam/f8fa2cfb/kemperweg', 'https://www.pararius.nl/appartement-te-huur/rotterdam/38afd276/nobelstraat', 'https://www.pararius.nl/appartement-te-huur/rotterdam/bd97095c/s-lands-werf', 'https://www.pararius.nl/appartement-te-huur/rotterdam/51c8beae/voermanweg', 'https://www.pararius.nl/appartement-te-huur/rotterdam/bf6216bf/de-quackstraat', 'https://www.pararius.nl/appartement-te-huur/rotterdam/8ea5cf23/boompjes', 'https://www.pararius.nl/appartement-te-huur/rotterdam/a9608562/volmarijnstraat', 'https://www.pararius.nl/appartement-te-huur/rotterdam/eda0207c/witte-de-withstraat', 'https://www.pararius.nl/appartement-te-huur/rotterdam/c89e44cb/schiekade', 'https://www.pararius.nl/appartement-te-huur/rotterdam/649b78be/vinkenstraat', 'https://www.pararius.nl/appartement-te-huur/rotterdam/71dc1db2/burgemeester-roosstraat', 'https://www.pararius.nl/appartement-te-huur/rotterdam/0e2fcd3a/halfrond', 'https://www.pararius.nl/appartement-te-huur/rotterdam/b1899056/pleinweg', 'https://www.pararius.nl/appartement-te-huur/rotterdam/b6c9f139/prins-hendrikkade', 'https://www.pararius.nl/appartement-te-huur/rotterdam/ec707cec/maashaven-n-z', 'https://www.pararius.nl/appartement-te-huur/rotterdam/6d345a10/westersingel', 'https://www.pararius.nl/appartement-te-huur/rotterdam/24b9c531/schieweg', 'https://www.pararius.nl/appartement-te-huur/rotterdam/9ebd8262/noordmolenwerf', 'https://www.pararius.nl/appartement-te-huur/rotterdam/19877e7a/blaak', 'https://www.pararius.nl/huis-te-huur/rotterdam/98df0641/heemraadsplein', 'https://www.pararius.nl/appartement-te-huur/rotterdam/704d6c73/doedesstraat', 'https://www.pararius.nl/appartement-te-huur/rotterdam/2d560c6e/pompstraat', 'https://www.pararius.nl/appartement-te-huur/rotterdam/a6e5213d/sionstraat', 'https://www.pararius.nl/appartement-te-huur/rotterdam/ff8d1802/bulgersteyn', 'https://www.pararius.nl/appartement-te-huur/rotterdam/2e97be9d/brede-hilledijk', 'https://www.pararius.nl/appartement-te-huur/rotterdam/5fadcc45/brussestraat', 'https://www.pararius.nl/appartement-te-huur/rotterdam/bb440363/aelbrechtskade', 'https://www.pararius.nl/appartement-te-huur/rotterdam/0279fb9c/karel-doormanstraat', 'https://www.pararius.nl/appartement-te-huur/rotterdam/da5af6e6/goudsesingel', 'https://www.pararius.nl/appartement-te-huur/rotterdam/872bf769/groenendaal', 'https://www.pararius.nl/appartement-te-huur/rotterdam/3d73b4a1/prins-frederikplein', 'https://www.pararius.nl/appartement-te-huur/rotterdam/f2525caf/1e-jerichostraat', 'https://www.pararius.nl/huis-te-huur/rotterdam/f8fa2cfb/kemperweg', 'https://www.pararius.nl/appartement-te-huur/rotterdam/38afd276/nobelstraat', 'https://www.pararius.nl/appartement-te-huur/rotterdam/bd97095c/s-lands-werf', 'https://www.pararius.nl/appartement-te-huur/rotterdam/51c8beae/voermanweg', 'https://www.pararius.nl/appartement-te-huur/rotterdam/bf6216bf/de-quackstraat', 'https://www.pararius.nl/appartement-te-huur/rotterdam/8ea5cf23/boompjes', 'https://www.pararius.nl/appartement-te-huur/rotterdam/a9608562/volmarijnstraat', 'https://www.pararius.nl/appartement-te-huur/rotterdam/eda0207c/witte-de-withstraat', 'https://www.pararius.nl/appartement-te-huur/rotterdam/c89e44cb/schiekade', 'https://www.pararius.nl/appartement-te-huur/rotterdam/649b78be/vinkenstraat', 'https://www.pararius.nl/appartement-te-huur/rotterdam/71dc1db2/burgemeester-roosstraat', 'https://www.pararius.nl/appartement-te-huur/rotterdam/0e2fcd3a/halfrond', 'https://www.pararius.nl/appartement-te-huur/rotterdam/b1899056/pleinweg', 'https://www.pararius.nl/appartement-te-huur/rotterdam/b6c9f139/prins-hendrikkade', 'https://www.pararius.nl/appartement-te-huur/rotterdam/ec707cec/maashaven-n-z', 'https://www.pararius.nl/appartement-te-huur/rotterdam/6d345a10/westersingel', 'https://www.pararius.nl/appartement-te-huur/rotterdam/24b9c531/schieweg', 'https://www.pararius.nl/appartement-te-huur/rotterdam/9ebd8262/noordmolenwerf', 'https://www.pararius.nl/appartement-te-huur/rotterdam/19877e7a/blaak', 'https://www.pararius.nl/huis-te-huur/rotterdam/98df0641/heemraadsplein', 'https://www.pararius.nl/appartement-te-huur/rotterdam/704d6c73/doedesstraat', 'https://www.pararius.nl/appartement-te-huur/rotterdam/2d560c6e/pompstraat', 'https://www.pararius.nl/appartement-te-huur/rotterdam/a6e5213d/sionstraat', 'https://www.pararius.nl/appartement-te-huur/rotterdam/ff8d1802/bulgersteyn', 'https://www.pararius.nl/appartement-te-huur/rotterdam/2e97be9d/brede-hilledijk', 'https://www.pararius.nl/appartement-te-huur/rotterdam/5fadcc45/brussestraat', 'https://www.pararius.nl/appartement-te-huur/rotterdam/bb440363/aelbrechtskade', 'https://www.pararius.nl/appartement-te-huur/rotterdam/0279fb9c/karel-doormanstraat', 'https://www.pararius.nl/appartement-te-huur/rotterdam/da5af6e6/goudsesingel', 'https://www.pararius.nl/appartement-te-huur/rotterdam/872bf769/groenendaal', 'https://www.pararius.nl/appartement-te-huur/rotterdam/3d73b4a1/prins-frederikplein', 'https://www.pararius.nl/appartement-te-huur/rotterdam/f2525caf/1e-jerichostraat', 'https://www.pararius.nl/huis-te-huur/rotterdam/f8fa2cfb/kemperweg', 'https://www.pararius.nl/appartement-te-huur/rotterdam/38afd276/nobelstraat', 'https://www.pararius.nl/appartement-te-huur/rotterdam/bd97095c/s-lands-werf', 'https://www.pararius.nl/appartement-te-huur/rotterdam/51c8beae/voermanweg', 'https://www.pararius.nl/appartement-te-huur/rotterdam/bf6216bf/de-quackstraat', 'https://www.pararius.nl/appartement-te-huur/rotterdam/8ea5cf23/boompjes', 'https://www.pararius.nl/appartement-te-huur/rotterdam/a9608562/volmarijnstraat', 'https://www.pararius.nl/appartement-te-huur/rotterdam/eda0207c/witte-de-withstraat', 'https://www.pararius.nl/appartement-te-huur/rotterdam/c89e44cb/schiekade', 'https://www.pararius.nl/appartement-te-huur/rotterdam/649b78be/vinkenstraat', 'https://www.pararius.nl/appartement-te-huur/rotterdam/71dc1db2/burgemeester-roosstraat', 'https://www.pararius.nl/appartement-te-huur/rotterdam/0e2fcd3a/halfrond', 'https://www.pararius.nl/appartement-te-huur/rotterdam/b1899056/pleinweg', 'https://www.pararius.nl/appartement-te-huur/rotterdam/b6c9f139/prins-hendrikkade', 'https://www.pararius.nl/appartement-te-huur/rotterdam/ec707cec/maashaven-n-z', 'https://www.pararius.nl/appartement-te-huur/rotterdam/6d345a10/westersingel', 'https://www.pararius.nl/appartement-te-huur/rotterdam/24b9c531/schieweg', 'https://www.pararius.nl/appartement-te-huur/rotterdam/9ebd8262/noordmolenwerf', 'https://www.pararius.nl/appartement-te-huur/rotterdam/19877e7a/blaak', 'https://www.pararius.nl/huis-te-huur/rotterdam/98df0641/heemraadsplein', 'https://www.pararius.nl/appartement-te-huur/rotterdam/704d6c73/doedesstraat', 'https://www.pararius.nl/appartement-te-huur/rotterdam/2d560c6e/pompstraat', 'https://www.pararius.nl/appartement-te-huur/rotterdam/a6e5213d/sionstraat', 'https://www.pararius.nl/appartement-te-huur/rotterdam/ff8d1802/bulgersteyn', 'https://www.pararius.nl/appartement-te-huur/rotterdam/2e97be9d/brede-hilledijk', 'https://www.pararius.nl/appartement-te-huur/rotterdam/5fadcc45/brussestraat', 'https://www.pararius.nl/appartement-te-huur/rotterdam/bb440363/aelbrechtskade', 'https://www.pararius.nl/appartement-te-huur/rotterdam/0279fb9c/karel-doormanstraat', 'https://www.pararius.nl/appartement-te-huur/rotterdam/da5af6e6/goudsesingel', 'https://www.pararius.nl/appartement-te-huur/rotterdam/872bf769/groenendaal', 'https://www.pararius.nl/appartement-te-huur/rotterdam/3d73b4a1/prins-frederikplein', 'https://www.pararius.nl/appartement-te-huur/rotterdam/f2525caf/1e-jerichostraat', 'https://www.pararius.nl/huis-te-huur/rotterdam/f8fa2cfb/kemperweg', 'https://www.pararius.nl/appartement-te-huur/rotterdam/38afd276/nobelstraat', 'https://www.pararius.nl/appartement-te-huur/rotterdam/bd97095c/s-lands-werf', 'https://www.pararius.nl/appartement-te-huur/rotterdam/51c8beae/voermanweg', 'https://www.pararius.nl/appartement-te-huur/rotterdam/bf6216bf/de-quackstraat', 'https://www.pararius.nl/appartement-te-huur/rotterdam/8ea5cf23/boompjes', 'https://www.pararius.nl/appartement-te-huur/rotterdam/a9608562/volmarijnstraat', 'https://www.pararius.nl/appartement-te-huur/rotterdam/eda0207c/witte-de-withstraat', 'https://www.pararius.nl/appartement-te-huur/rotterdam/c89e44cb/schiekade', 'https://www.pararius.nl/appartement-te-huur/rotterdam/649b78be/vinkenstraat', 'https://www.pararius.nl/appartement-te-huur/rotterdam/71dc1db2/burgemeester-roosstraat', 'https://www.pararius.nl/appartement-te-huur/rotterdam/0e2fcd3a/halfrond', 'https://www.pararius.nl/appartement-te-huur/rotterdam/b1899056/pleinweg', 'https://www.pararius.nl/appartement-te-huur/rotterdam/b6c9f139/prins-hendrikkade', 'https://www.pararius.nl/appartement-te-huur/rotterdam/ec707cec/maashaven-n-z', 'https://www.pararius.nl/appartement-te-huur/rotterdam/6d345a10/westersingel', 'https://www.pararius.nl/appartement-te-huur/rotterdam/24b9c531/schieweg', 'https://www.pararius.nl/appartement-te-huur/rotterdam/9ebd8262/noordmolenwerf', 'https://www.pararius.nl/appartement-te-huur/rotterdam/19877e7a/blaak', 'https://www.pararius.nl/huis-te-huur/rotterdam/98df0641/heemraadsplein', 'https://www.pararius.nl/appartement-te-huur/rotterdam/704d6c73/doedesstraat', 'https://www.pararius.nl/appartement-te-huur/rotterdam/2d560c6e/pompstraat', 'https://www.pararius.nl/appartement-te-huur/rotterdam/a6e5213d/sionstraat', 'https://www.pararius.nl/appartement-te-huur/rotterdam/ff8d1802/bulgersteyn', 'https://www.pararius.nl/appartement-te-huur/rotterdam/2e97be9d/brede-hilledijk', 'https://www.pararius.nl/appartement-te-huur/rotterdam/5fadcc45/brussestraat', 'https://www.pararius.nl/appartement-te-huur/rotterdam/bb440363/aelbrechtskade', 'https://www.pararius.nl/appartement-te-huur/rotterdam/0279fb9c/karel-doormanstraat', 'https://www.pararius.nl/appartement-te-huur/rotterdam/da5af6e6/goudsesingel', 'https://www.pararius.nl/appartement-te-huur/rotterdam/872bf769/groenendaal', 'https://www.pararius.nl/appartement-te-huur/rotterdam/3d73b4a1/prins-frederikplein', 'https://www.pararius.nl/appartement-te-huur/rotterdam/f2525caf/1e-jerichostraat', 'https://www.pararius.nl/huis-te-huur/rotterdam/f8fa2cfb/kemperweg', 'https://www.pararius.nl/appartement-te-huur/rotterdam/38afd276/nobelstraat', 'https://www.pararius.nl/appartement-te-huur/rotterdam/bd97095c/s-lands-werf', 'https://www.pararius.nl/appartement-te-huur/rotterdam/51c8beae/voermanweg', 'https://www.pararius.nl/appartement-te-huur/rotterdam/bf6216bf/de-quackstraat', 'https://www.pararius.nl/appartement-te-huur/rotterdam/8ea5cf23/boompjes', 'https://www.pararius.nl/appartement-te-huur/rotterdam/a9608562/volmarijnstraat', 'https://www.pararius.nl/appartement-te-huur/rotterdam/eda0207c/witte-de-withstraat', 'https://www.pararius.nl/appartement-te-huur/rotterdam/c89e44cb/schiekade', 'https://www.pararius.nl/appartement-te-huur/rotterdam/649b78be/vinkenstraat', 'https://www.pararius.nl/appartement-te-huur/rotterdam/71dc1db2/burgemeester-roosstraat', 'https://www.pararius.nl/appartement-te-huur/rotterdam/0e2fcd3a/halfrond', 'https://www.pararius.nl/appartement-te-huur/rotterdam/b1899056/pleinweg', 'https://www.pararius.nl/appartement-te-huur/rotterdam/b6c9f139/prins-hendrikkade', 'https://www.pararius.nl/appartement-te-huur/rotterdam/ec707cec/maashaven-n-z', 'https://www.pararius.nl/appartement-te-huur/rotterdam/6d345a10/westersingel', 'https://www.pararius.nl/appartement-te-huur/rotterdam/24b9c531/schieweg', 'https://www.pararius.nl/appartement-te-huur/rotterdam/9ebd8262/noordmolenwerf', 'https://www.pararius.nl/appartement-te-huur/rotterdam/19877e7a/blaak', 'https://www.pararius.nl/huis-te-huur/rotterdam/98df0641/heemraadsplein', 'https://www.pararius.nl/appartement-te-huur/rotterdam/704d6c73/doedesstraat', 'https://www.pararius.nl/appartement-te-huur/rotterdam/2d560c6e/pompstraat', 'https://www.pararius.nl/appartement-te-huur/rotterdam/a6e5213d/sionstraat', 'https://www.pararius.nl/appartement-te-huur/rotterdam/ff8d1802/bulgersteyn', 'https://www.pararius.nl/appartement-te-huur/rotterdam/2e97be9d/brede-hilledijk', 'https://www.pararius.nl/appartement-te-huur/rotterdam/5fadcc45/brussestraat', 'https://www.pararius.nl/appartement-te-huur/rotterdam/bb440363/aelbrechtskade', 'https://www.pararius.nl/appartement-te-huur/rotterdam/0279fb9c/karel-doormanstraat', 'https://www.pararius.nl/appartement-te-huur/rotterdam/da5af6e6/goudsesingel', 'https://www.pararius.nl/appartement-te-huur/rotterdam/872bf769/groenendaal', 'https://www.pararius.nl/appartement-te-huur/rotterdam/3d73b4a1/prins-frederikplein', 'https://www.pararius.nl/appartement-te-huur/rotterdam/f2525caf/1e-jerichostraat', 'https://www.pararius.nl/huis-te-huur/rotterdam/f8fa2cfb/kemperweg', 'https://www.pararius.nl/appartement-te-huur/rotterdam/38afd276/nobelstraat', 'https://www.pararius.nl/appartement-te-huur/rotterdam/bd97095c/s-lands-werf', 'https://www.pararius.nl/appartement-te-huur/rotterdam/51c8beae/voermanweg', 'https://www.pararius.nl/appartement-te-huur/rotterdam/bf6216bf/de-quackstraat', 'https://www.pararius.nl/appartement-te-huur/rotterdam/8ea5cf23/boompjes', 'https://www.pararius.nl/appartement-te-huur/rotterdam/a9608562/volmarijnstraat', 'https://www.pararius.nl/appartement-te-huur/rotterdam/eda0207c/witte-de-withstraat', 'https://www.pararius.nl/appartement-te-huur/rotterdam/c89e44cb/schiekade', 'https://www.pararius.nl/appartement-te-huur/rotterdam/649b78be/vinkenstraat', 'https://www.pararius.nl/appartement-te-huur/rotterdam/71dc1db2/burgemeester-roosstraat', 'https://www.pararius.nl/appartement-te-huur/rotterdam/0e2fcd3a/halfrond', 'https://www.pararius.nl/appartement-te-huur/rotterdam/b1899056/pleinweg', 'https://www.pararius.nl/appartement-te-huur/rotterdam/b6c9f139/prins-hendrikkade', 'https://www.pararius.nl/appartement-te-huur/rotterdam/ec707cec/maashaven-n-z', 'https://www.pararius.nl/appartement-te-huur/rotterdam/6d345a10/westersingel', 'https://www.pararius.nl/appartement-te-huur/rotterdam/24b9c531/schieweg', 'https://www.pararius.nl/appartement-te-huur/rotterdam/9ebd8262/noordmolenwerf', 'https://www.pararius.nl/appartement-te-huur/rotterdam/19877e7a/blaak', 'https://www.pararius.nl/huis-te-huur/rotterdam/98df0641/heemraadsplein', 'https://www.pararius.nl/appartement-te-huur/rotterdam/704d6c73/doedesstraat', 'https://www.pararius.nl/appartement-te-huur/rotterdam/2d560c6e/pompstraat', 'https://www.pararius.nl/appartement-te-huur/rotterdam/a6e5213d/sionstraat', 'https://www.pararius.nl/appartement-te-huur/rotterdam/ff8d1802/bulgersteyn', 'https://www.pararius.nl/appartement-te-huur/rotterdam/2e97be9d/brede-hilledijk', 'https://www.pararius.nl/appartement-te-huur/rotterdam/5fadcc45/brussestraat', 'https://www.pararius.nl/appartement-te-huur/rotterdam/bb440363/aelbrechtskade', 'https://www.pararius.nl/appartement-te-huur/rotterdam/0279fb9c/karel-doormanstraat', 'https://www.pararius.nl/appartement-te-huur/rotterdam/da5af6e6/goudsesingel', 'https://www.pararius.nl/appartement-te-huur/rotterdam/872bf769/groenendaal', 'https://www.pararius.nl/appartement-te-huur/rotterdam/3d73b4a1/prins-frederikplein', 'https://www.pararius.nl/appartement-te-huur/rotterdam/f2525caf/1e-jerichostraat', 'https://www.pararius.nl/huis-te-huur/rotterdam/f8fa2cfb/kemperweg', 'https://www.pararius.nl/appartement-te-huur/rotterdam/38afd276/nobelstraat', 'https://www.pararius.nl/appartement-te-huur/rotterdam/bd97095c/s-lands-werf', 'https://www.pararius.nl/appartement-te-huur/rotterdam/51c8beae/voermanweg', 'https://www.pararius.nl/appartement-te-huur/rotterdam/bf6216bf/de-quackstraat', 'https://www.pararius.nl/appartement-te-huur/rotterdam/8ea5cf23/boompjes', 'https://www.pararius.nl/appartement-te-huur/rotterdam/a9608562/volmarijnstraat', 'https://www.pararius.nl/appartement-te-huur/rotterdam/eda0207c/witte-de-withstraat', 'https://www.pararius.nl/appartement-te-huur/rotterdam/c89e44cb/schiekade', 'https://www.pararius.nl/appartement-te-huur/rotterdam/649b78be/vinkenstraat', 'https://www.pararius.nl/appartement-te-huur/rotterdam/71dc1db2/burgemeester-roosstraat', 'https://www.pararius.nl/appartement-te-huur/rotterdam/0e2fcd3a/halfrond', 'https://www.pararius.nl/appartement-te-huur/rotterdam/b1899056/pleinweg', 'https://www.pararius.nl/appartement-te-huur/rotterdam/b6c9f139/prins-hendrikkade', 'https://www.pararius.nl/appartement-te-huur/rotterdam/ec707cec/maashaven-n-z', 'https://www.pararius.nl/appartement-te-huur/rotterdam/6d345a10/westersingel', 'https://www.pararius.nl/appartement-te-huur/rotterdam/24b9c531/schieweg', 'https://www.pararius.nl/appartement-te-huur/rotterdam/9ebd8262/noordmolenwerf', 'https://www.pararius.nl/appartement-te-huur/rotterdam/19877e7a/blaak', 'https://www.pararius.nl/huis-te-huur/rotterdam/98df0641/heemraadsplein', 'https://www.pararius.nl/appartement-te-huur/rotterdam/704d6c73/doedesstraat', 'https://www.pararius.nl/appartement-te-huur/rotterdam/2d560c6e/pompstraat', 'https://www.pararius.nl/appartement-te-huur/rotterdam/a6e5213d/sionstraat', 'https://www.pararius.nl/appartement-te-huur/rotterdam/ff8d1802/bulgersteyn', 'https://www.pararius.nl/appartement-te-huur/rotterdam/2e97be9d/brede-hilledijk', 'https://www.pararius.nl/appartement-te-huur/rotterdam/5fadcc45/brussestraat', 'https://www.pararius.nl/appartement-te-huur/rotterdam/bb440363/aelbrechtskade', 'https://www.pararius.nl/appartement-te-huur/rotterdam/0279fb9c/karel-doormanstraat', 'https://www.pararius.nl/appartement-te-huur/rotterdam/da5af6e6/goudsesingel', 'https://www.pararius.nl/appartement-te-huur/rotterdam/872bf769/groenendaal', 'https://www.pararius.nl/appartement-te-huur/rotterdam/3d73b4a1/prins-frederikplein', 'https://www.pararius.nl/appartement-te-huur/rotterdam/f2525caf/1e-jerichostraat', 'https://www.pararius.nl/huis-te-huur/rotterdam/f8fa2cfb/kemperweg', 'https://www.pararius.nl/appartement-te-huur/rotterdam/38afd276/nobelstraat', 'https://www.pararius.nl/appartement-te-huur/rotterdam/bd97095c/s-lands-werf', 'https://www.pararius.nl/appartement-te-huur/rotterdam/51c8beae/voermanweg', 'https://www.pararius.nl/appartement-te-huur/rotterdam/bf6216bf/de-quackstraat', 'https://www.pararius.nl/appartement-te-huur/rotterdam/8ea5cf23/boompjes', 'https://www.pararius.nl/appartement-te-huur/rotterdam/a9608562/volmarijnstraat', 'https://www.pararius.nl/appartement-te-huur/rotterdam/eda0207c/witte-de-withstraat', 'https://www.pararius.nl/appartement-te-huur/rotterdam/c89e44cb/schiekade', 'https://www.pararius.nl/appartement-te-huur/rotterdam/649b78be/vinkenstraat', 'https://www.pararius.nl/appartement-te-huur/rotterdam/71dc1db2/burgemeester-roosstraat', 'https://www.pararius.nl/appartement-te-huur/rotterdam/0e2fcd3a/halfrond', 'https://www.pararius.nl/appartement-te-huur/rotterdam/b1899056/pleinweg', 'https://www.pararius.nl/appartement-te-huur/rotterdam/b6c9f139/prins-hendrikkade', 'https://www.pararius.nl/appartement-te-huur/rotterdam/ec707cec/maashaven-n-z', 'https://www.pararius.nl/appartement-te-huur/rotterdam/6d345a10/westersingel', 'https://www.pararius.nl/appartement-te-huur/rotterdam/24b9c531/schieweg', 'https://www.pararius.nl/appartement-te-huur/rotterdam/9ebd8262/noordmolenwerf', 'https://www.pararius.nl/appartement-te-huur/rotterdam/19877e7a/blaak', 'https://www.pararius.nl/huis-te-huur/rotterdam/98df0641/heemraadsplein', 'https://www.pararius.nl/appartement-te-huur/rotterdam/704d6c73/doedesstraat', 'https://www.pararius.nl/appartement-te-huur/rotterdam/2d560c6e/pompstraat', 'https://www.pararius.nl/appartement-te-huur/rotterdam/a6e5213d/sionstraat', 'https://www.pararius.nl/appartement-te-huur/rotterdam/ff8d1802/bulgersteyn', 'https://www.pararius.nl/appartement-te-huur/rotterdam/2e97be9d/brede-hilledijk', 'https://www.pararius.nl/appartement-te-huur/rotterdam/5fadcc45/brussestraat', 'https://www.pararius.nl/appartement-te-huur/rotterdam/bb440363/aelbrechtskade', 'https://www.pararius.nl/appartement-te-huur/rotterdam/0279fb9c/karel-doormanstraat', 'https://www.pararius.nl/appartement-te-huur/rotterdam/da5af6e6/goudsesingel', 'https://www.pararius.nl/appartement-te-huur/rotterdam/872bf769/groenendaal', 'https://www.pararius.nl/appartement-te-huur/rotterdam/3d73b4a1/prins-frederikplein', 'https://www.pararius.nl/appartement-te-huur/rotterdam/f2525caf/1e-jerichostraat', 'https://www.pararius.nl/huis-te-huur/rotterdam/f8fa2cfb/kemperweg', 'https://www.pararius.nl/appartement-te-huur/rotterdam/38afd276/nobelstraat', 'https://www.pararius.nl/appartement-te-huur/rotterdam/bd97095c/s-lands-werf', 'https://www.pararius.nl/appartement-te-huur/rotterdam/51c8beae/voermanweg', 'https://www.pararius.nl/appartement-te-huur/rotterdam/bf6216bf/de-quackstraat', 'https://www.pararius.nl/appartement-te-huur/rotterdam/8ea5cf23/boompjes', 'https://www.pararius.nl/appartement-te-huur/rotterdam/a9608562/volmarijnstraat', 'https://www.pararius.nl/appartement-te-huur/rotterdam/eda0207c/witte-de-withstraat', 'https://www.pararius.nl/appartement-te-huur/rotterdam/c89e44cb/schiekade', 'https://www.pararius.nl/appartement-te-huur/rotterdam/649b78be/vinkenstraat', 'https://www.pararius.nl/appartement-te-huur/rotterdam/71dc1db2/burgemeester-roosstraat', 'https://www.pararius.nl/appartement-te-huur/rotterdam/0e2fcd3a/halfrond', 'https://www.pararius.nl/appartement-te-huur/rotterdam/b1899056/pleinweg', 'https://www.pararius.nl/appartement-te-huur/rotterdam/b6c9f139/prins-hendrikkade', 'https://www.pararius.nl/appartement-te-huur/rotterdam/ec707cec/maashaven-n-z', 'https://www.pararius.nl/appartement-te-huur/rotterdam/6d345a10/westersingel', 'https://www.pararius.nl/appartement-te-huur/rotterdam/24b9c531/schieweg', 'https://www.pararius.nl/appartement-te-huur/rotterdam/9ebd8262/noordmolenwerf', 'https://www.pararius.nl/appartement-te-huur/rotterdam/19877e7a/blaak', 'https://www.pararius.nl/huis-te-huur/rotterdam/98df0641/heemraadsplein', 'https://www.pararius.nl/appartement-te-huur/rotterdam/704d6c73/doedesstraat', 'https://www.pararius.nl/appartement-te-huur/rotterdam/2d560c6e/pompstraat', 'https://www.pararius.nl/appartement-te-huur/rotterdam/a6e5213d/sionstraat', 'https://www.pararius.nl/appartement-te-huur/rotterdam/ff8d1802/bulgersteyn', 'https://www.pararius.nl/appartement-te-huur/rotterdam/2e97be9d/brede-hilledijk', 'https://www.pararius.nl/appartement-te-huur/rotterdam/5fadcc45/brussestraat', 'https://www.pararius.nl/appartement-te-huur/rotterdam/bb440363/aelbrechtskade', 'https://www.pararius.nl/appartement-te-huur/rotterdam/0279fb9c/karel-doormanstraat', 'https://www.pararius.nl/appartement-te-huur/rotterdam/da5af6e6/goudsesingel', 'https://www.pararius.nl/appartement-te-huur/rotterdam/872bf769/groenendaal', 'https://www.pararius.nl/appartement-te-huur/rotterdam/3d73b4a1/prins-frederikplein', 'https://www.pararius.nl/appartement-te-huur/rotterdam/f2525caf/1e-jerichostraat', 'https://www.pararius.nl/huis-te-huur/rotterdam/f8fa2cfb/kemperweg', 'https://www.pararius.nl/appartement-te-huur/rotterdam/38afd276/nobelstraat', 'https://www.pararius.nl/appartement-te-huur/rotterdam/bd97095c/s-lands-werf', 'https://www.pararius.nl/appartement-te-huur/rotterdam/51c8beae/voermanweg', 'https://www.pararius.nl/appartement-te-huur/rotterdam/bf6216bf/de-quackstraat', 'https://www.pararius.nl/appartement-te-huur/rotterdam/8ea5cf23/boompjes', 'https://www.pararius.nl/appartement-te-huur/rotterdam/a9608562/volmarijnstraat', 'https://www.pararius.nl/appartement-te-huur/rotterdam/eda0207c/witte-de-withstraat', 'https://www.pararius.nl/appartement-te-huur/rotterdam/c89e44cb/schiekade', 'https://www.pararius.nl/appartement-te-huur/rotterdam/649b78be/vinkenstraat', 'https://www.pararius.nl/appartement-te-huur/rotterdam/71dc1db2/burgemeester-roosstraat', 'https://www.pararius.nl/appartement-te-huur/rotterdam/0e2fcd3a/halfrond', 'https://www.pararius.nl/appartement-te-huur/rotterdam/b1899056/pleinweg', 'https://www.pararius.nl/appartement-te-huur/rotterdam/b6c9f139/prins-hendrikkade', 'https://www.pararius.nl/appartement-te-huur/rotterdam/ec707cec/maashaven-n-z', 'https://www.pararius.nl/appartement-te-huur/rotterdam/6d345a10/westersingel', 'https://www.pararius.nl/appartement-te-huur/rotterdam/24b9c531/schieweg', 'https://www.pararius.nl/appartement-te-huur/rotterdam/9ebd8262/noordmolenwerf', 'https://www.pararius.nl/appartement-te-huur/rotterdam/19877e7a/blaak', 'https://www.pararius.nl/huis-te-huur/rotterdam/98df0641/heemraadsplein', 'https://www.pararius.nl/appartement-te-huur/rotterdam/704d6c73/doedesstraat', 'https://www.pararius.nl/appartement-te-huur/rotterdam/2d560c6e/pompstraat', 'https://www.pararius.nl/appartement-te-huur/rotterdam/a6e5213d/sionstraat', 'https://www.pararius.nl/appartement-te-huur/rotterdam/ff8d1802/bulgersteyn', 'https://www.pararius.nl/appartement-te-huur/rotterdam/2e97be9d/brede-hilledijk', 'https://www.pararius.nl/appartement-te-huur/rotterdam/5fadcc45/brussestraat', 'https://www.pararius.nl/appartement-te-huur/rotterdam/bb440363/aelbrechtskade', 'https://www.pararius.nl/appartement-te-huur/rotterdam/0279fb9c/karel-doormanstraat', 'https://www.pararius.nl/appartement-te-huur/rotterdam/da5af6e6/goudsesingel', 'https://www.pararius.nl/appartement-te-huur/rotterdam/872bf769/groenendaal', 'https://www.pararius.nl/appartement-te-huur/rotterdam/3d73b4a1/prins-frederikplein', 'https://www.pararius.nl/appartement-te-huur/rotterdam/f2525caf/1e-jerichostraat', 'https://www.pararius.nl/huis-te-huur/rotterdam/f8fa2cfb/kemperweg', 'https://www.pararius.nl/appartement-te-huur/rotterdam/38afd276/nobelstraat', 'https://www.pararius.nl/appartement-te-huur/rotterdam/bd97095c/s-lands-werf', 'https://www.pararius.nl/appartement-te-huur/rotterdam/51c8beae/voermanweg', 'https://www.pararius.nl/appartement-te-huur/rotterdam/bf6216bf/de-quackstraat', 'https://www.pararius.nl/appartement-te-huur/rotterdam/8ea5cf23/boompjes', 'https://www.pararius.nl/appartement-te-huur/rotterdam/a9608562/volmarijnstraat', 'https://www.pararius.nl/appartement-te-huur/rotterdam/eda0207c/witte-de-withstraat', 'https://www.pararius.nl/appartement-te-huur/rotterdam/c89e44cb/schiekade', 'https://www.pararius.nl/appartement-te-huur/rotterdam/649b78be/vinkenstraat', 'https://www.pararius.nl/appartement-te-huur/rotterdam/71dc1db2/burgemeester-roosstraat', 'https://www.pararius.nl/appartement-te-huur/rotterdam/0e2fcd3a/halfrond', 'https://www.pararius.nl/appartement-te-huur/rotterdam/b1899056/pleinweg', 'https://www.pararius.nl/appartement-te-huur/rotterdam/b6c9f139/prins-hendrikkade', 'https://www.pararius.nl/appartement-te-huur/rotterdam/ec707cec/maashaven-n-z', 'https://www.pararius.nl/appartement-te-huur/rotterdam/6d345a10/westersingel', 'https://www.pararius.nl/appartement-te-huur/rotterdam/24b9c531/schieweg', 'https://www.pararius.nl/appartement-te-huur/rotterdam/9ebd8262/noordmolenwerf', 'https://www.pararius.nl/appartement-te-huur/rotterdam/19877e7a/blaak', 'https://www.pararius.nl/huis-te-huur/rotterdam/98df0641/heemraadsplein', 'https://www.pararius.nl/appartement-te-huur/rotterdam/704d6c73/doedesstraat', 'https://www.pararius.nl/appartement-te-huur/rotterdam/2d560c6e/pompstraat', 'https://www.pararius.nl/appartement-te-huur/rotterdam/a6e5213d/sionstraat', 'https://www.pararius.nl/appartement-te-huur/rotterdam/ff8d1802/bulgersteyn', 'https://www.pararius.nl/appartement-te-huur/rotterdam/2e97be9d/brede-hilledijk', 'https://www.pararius.nl/appartement-te-huur/rotterdam/5fadcc45/brussestraat', 'https://www.pararius.nl/appartement-te-huur/rotterdam/bb440363/aelbrechtskade', 'https://www.pararius.nl/appartement-te-huur/rotterdam/0279fb9c/karel-doormanstraat', 'https://www.pararius.nl/appartement-te-huur/rotterdam/da5af6e6/goudsesingel', 'https://www.pararius.nl/appartement-te-huur/rotterdam/872bf769/groenendaal', 'https://www.pararius.nl/appartement-te-huur/rotterdam/3d73b4a1/prins-frederikplein', 'https://www.pararius.nl/appartement-te-huur/rotterdam/f2525caf/1e-jerichostraat', 'https://www.pararius.nl/huis-te-huur/rotterdam/f8fa2cfb/kemperweg', 'https://www.pararius.nl/appartement-te-huur/rotterdam/38afd276/nobelstraat', 'https://www.pararius.nl/appartement-te-huur/rotterdam/bd97095c/s-lands-werf', 'https://www.pararius.nl/appartement-te-huur/rotterdam/51c8beae/voermanweg', 'https://www.pararius.nl/appartement-te-huur/rotterdam/bf6216bf/de-quackstraat', 'https://www.pararius.nl/appartement-te-huur/rotterdam/8ea5cf23/boompjes', 'https://www.pararius.nl/appartement-te-huur/rotterdam/a9608562/volmarijnstraat', 'https://www.pararius.nl/appartement-te-huur/rotterdam/eda0207c/witte-de-withstraat', 'https://www.pararius.nl/appartement-te-huur/rotterdam/c89e44cb/schiekade', 'https://www.pararius.nl/appartement-te-huur/rotterdam/649b78be/vinkenstraat', 'https://www.pararius.nl/appartement-te-huur/rotterdam/71dc1db2/burgemeester-roosstraat', 'https://www.pararius.nl/appartement-te-huur/rotterdam/0e2fcd3a/halfrond', 'https://www.pararius.nl/appartement-te-huur/rotterdam/b1899056/pleinweg', 'https://www.pararius.nl/appartement-te-huur/rotterdam/b6c9f139/prins-hendrikkade', 'https://www.pararius.nl/appartement-te-huur/rotterdam/ec707cec/maashaven-n-z', 'https://www.pararius.nl/appartement-te-huur/rotterdam/6d345a10/westersingel', 'https://www.pararius.nl/appartement-te-huur/rotterdam/24b9c531/schieweg', 'https://www.pararius.nl/appartement-te-huur/rotterdam/9ebd8262/noordmolenwerf', 'https://www.pararius.nl/appartement-te-huur/rotterdam/19877e7a/blaak', 'https://www.pararius.nl/huis-te-huur/rotterdam/98df0641/heemraadsplein', 'https://www.pararius.nl/appartement-te-huur/rotterdam/704d6c73/doedesstraat', 'https://www.pararius.nl/appartement-te-huur/rotterdam/2d560c6e/pompstraat', 'https://www.pararius.nl/appartement-te-huur/rotterdam/a6e5213d/sionstraat', 'https://www.pararius.nl/appartement-te-huur/rotterdam/ff8d1802/bulgersteyn', 'https://www.pararius.nl/appartement-te-huur/rotterdam/2e97be9d/brede-hilledijk', 'https://www.pararius.nl/appartement-te-huur/rotterdam/5fadcc45/brussestraat', 'https://www.pararius.nl/appartement-te-huur/rotterdam/bb440363/aelbrechtskade', 'https://www.pararius.nl/appartement-te-huur/rotterdam/0279fb9c/karel-doormanstraat', 'https://www.pararius.nl/appartement-te-huur/rotterdam/da5af6e6/goudsesingel', 'https://www.pararius.nl/appartement-te-huur/rotterdam/872bf769/groenendaal', 'https://www.pararius.nl/appartement-te-huur/rotterdam/3d73b4a1/prins-frederikplein', 'https://www.pararius.nl/appartement-te-huur/rotterdam/f2525caf/1e-jerichostraat', 'https://www.pararius.nl/huis-te-huur/rotterdam/f8fa2cfb/kemperweg', 'https://www.pararius.nl/appartement-te-huur/rotterdam/38afd276/nobelstraat', 'https://www.pararius.nl/appartement-te-huur/rotterdam/bd97095c/s-lands-werf', 'https://www.pararius.nl/appartement-te-huur/rotterdam/51c8beae/voermanweg', 'https://www.pararius.nl/appartement-te-huur/rotterdam/bf6216bf/de-quackstraat', 'https://www.pararius.nl/appartement-te-huur/rotterdam/8ea5cf23/boompjes', 'https://www.pararius.nl/appartement-te-huur/rotterdam/a9608562/volmarijnstraat', 'https://www.pararius.nl/appartement-te-huur/rotterdam/eda0207c/witte-de-withstraat', 'https://www.pararius.nl/appartement-te-huur/rotterdam/c89e44cb/schiekade', 'https://www.pararius.nl/appartement-te-huur/rotterdam/649b78be/vinkenstraat', 'https://www.pararius.nl/appartement-te-huur/rotterdam/71dc1db2/burgemeester-roosstraat', 'https://www.pararius.nl/appartement-te-huur/rotterdam/0e2fcd3a/halfrond', 'https://www.pararius.nl/appartement-te-huur/rotterdam/b1899056/pleinweg', 'https://www.pararius.nl/appartement-te-huur/rotterdam/b6c9f139/prins-hendrikkade', 'https://www.pararius.nl/appartement-te-huur/rotterdam/ec707cec/maashaven-n-z', 'https://www.pararius.nl/appartement-te-huur/rotterdam/6d345a10/westersingel', 'https://www.pararius.nl/appartement-te-huur/rotterdam/24b9c531/schieweg', 'https://www.pararius.nl/appartement-te-huur/rotterdam/9ebd8262/noordmolenwerf', 'https://www.pararius.nl/appartement-te-huur/rotterdam/19877e7a/blaak', 'https://www.pararius.nl/huis-te-huur/rotterdam/98df0641/heemraadsplein', 'https://www.pararius.nl/appartement-te-huur/rotterdam/704d6c73/doedesstraat', 'https://www.pararius.nl/appartement-te-huur/rotterdam/2d560c6e/pompstraat', 'https://www.pararius.nl/appartement-te-huur/rotterdam/a6e5213d/sionstraat', 'https://www.pararius.nl/appartement-te-huur/rotterdam/ff8d1802/bulgersteyn', 'https://www.pararius.nl/appartement-te-huur/rotterdam/2e97be9d/brede-hilledijk', 'https://www.pararius.nl/appartement-te-huur/rotterdam/5fadcc45/brussestraat', 'https://www.pararius.nl/appartement-te-huur/rotterdam/bb440363/aelbrechtskade', 'https://www.pararius.nl/appartement-te-huur/rotterdam/0279fb9c/karel-doormanstraat', 'https://www.pararius.nl/appartement-te-huur/rotterdam/da5af6e6/goudsesingel', 'https://www.pararius.nl/appartement-te-huur/rotterdam/872bf769/groenendaal', 'https://www.pararius.nl/appartement-te-huur/rotterdam/3d73b4a1/prins-frederikplein', 'https://www.pararius.nl/appartement-te-huur/rotterdam/f2525caf/1e-jerichostraat', 'https://www.pararius.nl/huis-te-huur/rotterdam/f8fa2cfb/kemperweg', 'https://www.pararius.nl/appartement-te-huur/rotterdam/38afd276/nobelstraat', 'https://www.pararius.nl/appartement-te-huur/rotterdam/bd97095c/s-lands-werf', 'https://www.pararius.nl/appartement-te-huur/rotterdam/51c8beae/voermanweg', 'https://www.pararius.nl/appartement-te-huur/rotterdam/bf6216bf/de-quackstraat', 'https://www.pararius.nl/appartement-te-huur/rotterdam/8ea5cf23/boompjes', 'https://www.pararius.nl/appartement-te-huur/rotterdam/a9608562/volmarijnstraat', 'https://www.pararius.nl/appartement-te-huur/rotterdam/eda0207c/witte-de-withstraat', 'https://www.pararius.nl/appartement-te-huur/rotterdam/c89e44cb/schiekade', 'https://www.pararius.nl/appartement-te-huur/rotterdam/649b78be/vinkenstraat', 'https://www.pararius.nl/appartement-te-huur/rotterdam/71dc1db2/burgemeester-roosstraat', 'https://www.pararius.nl/appartement-te-huur/rotterdam/0e2fcd3a/halfrond', 'https://www.pararius.nl/appartement-te-huur/rotterdam/b1899056/pleinweg', 'https://www.pararius.nl/appartement-te-huur/rotterdam/b6c9f139/prins-hendrikkade', 'https://www.pararius.nl/appartement-te-huur/rotterdam/ec707cec/maashaven-n-z', 'https://www.pararius.nl/appartement-te-huur/rotterdam/6d345a10/westersingel', 'https://www.pararius.nl/appartement-te-huur/rotterdam/24b9c531/schieweg', 'https://www.pararius.nl/appartement-te-huur/rotterdam/9ebd8262/noordmolenwerf', 'https://www.pararius.nl/appartement-te-huur/rotterdam/19877e7a/blaak', 'https://www.pararius.nl/huis-te-huur/rotterdam/98df0641/heemraadsplein', 'https://www.pararius.nl/appartement-te-huur/rotterdam/704d6c73/doedesstraat', 'https://www.pararius.nl/appartement-te-huur/rotterdam/2d560c6e/pompstraat', 'https://www.pararius.nl/appartement-te-huur/rotterdam/a6e5213d/sionstraat', 'https://www.pararius.nl/appartement-te-huur/rotterdam/ff8d1802/bulgersteyn', 'https://www.pararius.nl/appartement-te-huur/rotterdam/2e97be9d/brede-hilledijk', 'https://www.pararius.nl/appartement-te-huur/rotterdam/5fadcc45/brussestraat', 'https://www.pararius.nl/appartement-te-huur/rotterdam/bb440363/aelbrechtskade', 'https://www.pararius.nl/appartement-te-huur/rotterdam/0279fb9c/karel-doormanstraat', 'https://www.pararius.nl/appartement-te-huur/rotterdam/da5af6e6/goudsesingel', 'https://www.pararius.nl/appartement-te-huur/rotterdam/872bf769/groenendaal', 'https://www.pararius.nl/appartement-te-huur/rotterdam/3d73b4a1/prins-frederikplein', 'https://www.pararius.nl/appartement-te-huur/rotterdam/f2525caf/1e-jerichostraat', 'https://www.pararius.nl/huis-te-huur/rotterdam/f8fa2cfb/kemperweg', 'https://www.pararius.nl/appartement-te-huur/rotterdam/38afd276/nobelstraat', 'https://www.pararius.nl/appartement-te-huur/rotterdam/bd97095c/s-lands-werf', 'https://www.pararius.nl/appartement-te-huur/rotterdam/51c8beae/voermanweg', 'https://www.pararius.nl/appartement-te-huur/rotterdam/bf6216bf/de-quackstraat', 'https://www.pararius.nl/appartement-te-huur/rotterdam/8ea5cf23/boompjes', 'https://www.pararius.nl/appartement-te-huur/rotterdam/a9608562/volmarijnstraat', 'https://www.pararius.nl/appartement-te-huur/rotterdam/eda0207c/witte-de-withstraat', 'https://www.pararius.nl/appartement-te-huur/rotterdam/c89e44cb/schiekade', 'https://www.pararius.nl/appartement-te-huur/rotterdam/649b78be/vinkenstraat', 'https://www.pararius.nl/appartement-te-huur/rotterdam/71dc1db2/burgemeester-roosstraat', 'https://www.pararius.nl/appartement-te-huur/rotterdam/0e2fcd3a/halfrond', 'https://www.pararius.nl/appartement-te-huur/rotterdam/b1899056/pleinweg']\n"
     ]
    }
   ],
   "source": [
    "# Overview page\n",
    "url = 'https://www.pararius.nl/huurwoningen/rotterdam'\n",
    "\n",
    "req = requests.get(url)\n",
    "print(req)\n",
    "\n",
    "soup = bs(req.text, \"html.parser\")\n",
    "\n",
    "# Maximum number of pages\n",
    "numpages_html = soup.find_all(\"li\", {\"class\": \"pagination__item\"})\n",
    "numpages = get_number(numpages_html[-2].text)\n",
    "print(numpages)\n",
    "\n",
    "# Pages\n",
    "pagelinks = [\"https://www.pararius.nl/huurwoningen/rotterdam/page-\" + str(i) for i in range(2,numpages+1)]\n",
    "print(pagelinks) # Probably neater to do this with a for-loop (btw: page-1 redirects to the first page so not necessary to start at 2)\n",
    "\n",
    "# Listing links on page\n",
    "listings_html = soup.find_all(\"a\", {\"class\": \"listing-search-item__link listing-search-item__link--title\"})\n",
    "listing_links = [\"https://www.pararius.nl/\" + link.get(\"href\") for link in listings_html]\n",
    "print(listing_links)\n",
    "\n",
    "# Obtain all links\n",
    "listing_links = []\n",
    "for i in range(1, numpages+1):\n",
    "    \n",
    "    # Obtain link and soup of page\n",
    "    pagelink = \"https://www.pararius.nl/huurwoningen/rotterdam/page-\" + str(i)\n",
    "    req = requests.get(pagelink)\n",
    "    s = bs(req.text, \"html.parser\")\n",
    "\n",
    "    # Obtain links of listings on page\n",
    "    listings_on_page_html = s.find_all(\"a\", {\"class\": \"listing-search-item__link listing-search-item__link--title\"})\n",
    "    listing_on_page_links = [\"https://www.pararius.nl\" + link.get(\"href\") for link in listings_on_page_html]\n",
    "\n",
    "    listing_links += listing_on_page_links\n",
    "\n",
    "print(listing_links)\n",
    "\n"
   ]
  },
  {
   "cell_type": "markdown",
   "id": "cad789a5",
   "metadata": {},
   "source": [
    "## Building blocks of code"
   ]
  },
  {
   "cell_type": "markdown",
   "id": "dca8f5c3",
   "metadata": {},
   "source": [
    "### Get all listings of a city"
   ]
  },
  {
   "cell_type": "code",
   "execution_count": 31,
   "id": "255b558f",
   "metadata": {},
   "outputs": [
    {
     "name": "stdout",
     "output_type": "stream",
     "text": [
      "['https://www.pararius.nl/appartement-te-huur/rotterdam/ec707cec/maashaven-n-z', 'https://www.pararius.nl/appartement-te-huur/rotterdam/b6c9f139/prins-hendrikkade', 'https://www.pararius.nl/appartement-te-huur/rotterdam/6d345a10/westersingel', 'https://www.pararius.nl/appartement-te-huur/rotterdam/24b9c531/schieweg', 'https://www.pararius.nl/appartement-te-huur/rotterdam/83dcba24/bloklandstraat', 'https://www.pararius.nl/appartement-te-huur/rotterdam/db0df498/mijnsherenlaan', 'https://www.pararius.nl/appartement-te-huur/rotterdam/e4f2f218/vondelweg', 'https://www.pararius.nl/appartement-te-huur/rotterdam/e1023cb6/middellandplein', 'https://www.pararius.nl/appartement-te-huur/rotterdam/cfec556e/middellandplein', 'https://www.pararius.nl/appartement-te-huur/rotterdam/ad203df1/middellandplein', 'https://www.pararius.nl/appartement-te-huur/rotterdam/19877e7a/blaak', 'https://www.pararius.nl/huis-te-huur/rotterdam/98df0641/heemraadsplein', 'https://www.pararius.nl/appartement-te-huur/rotterdam/704d6c73/doedesstraat', 'https://www.pararius.nl/appartement-te-huur/rotterdam/2d560c6e/pompstraat', 'https://www.pararius.nl/appartement-te-huur/rotterdam/a6e5213d/sionstraat', 'https://www.pararius.nl/appartement-te-huur/rotterdam/ff8d1802/bulgersteyn', 'https://www.pararius.nl/appartement-te-huur/rotterdam/2e97be9d/brede-hilledijk', 'https://www.pararius.nl/appartement-te-huur/rotterdam/5fadcc45/brussestraat', 'https://www.pararius.nl/appartement-te-huur/rotterdam/bb440363/aelbrechtskade', 'https://www.pararius.nl/appartement-te-huur/rotterdam/0279fb9c/karel-doormanstraat', 'https://www.pararius.nl/appartement-te-huur/rotterdam/da5af6e6/goudsesingel', 'https://www.pararius.nl/appartement-te-huur/rotterdam/872bf769/groenendaal', 'https://www.pararius.nl/appartement-te-huur/rotterdam/3d73b4a1/prins-frederikplein', 'https://www.pararius.nl/appartement-te-huur/rotterdam/f2525caf/1e-jerichostraat', 'https://www.pararius.nl/huis-te-huur/rotterdam/f8fa2cfb/kemperweg', 'https://www.pararius.nl/appartement-te-huur/rotterdam/38afd276/nobelstraat', 'https://www.pararius.nl/appartement-te-huur/rotterdam/bd97095c/s-lands-werf', 'https://www.pararius.nl/appartement-te-huur/rotterdam/51c8beae/voermanweg', 'https://www.pararius.nl/appartement-te-huur/rotterdam/bf6216bf/de-quackstraat', 'https://www.pararius.nl/appartement-te-huur/rotterdam/8ea5cf23/boompjes', 'https://www.pararius.nl/appartement-te-huur/rotterdam/a9608562/volmarijnstraat', 'https://www.pararius.nl/appartement-te-huur/rotterdam/eda0207c/witte-de-withstraat', 'https://www.pararius.nl/appartement-te-huur/rotterdam/b6c9f139/prins-hendrikkade', 'https://www.pararius.nl/appartement-te-huur/rotterdam/ec707cec/maashaven-n-z', 'https://www.pararius.nl/appartement-te-huur/rotterdam/c89e44cb/schiekade', 'https://www.pararius.nl/appartement-te-huur/rotterdam/649b78be/vinkenstraat', 'https://www.pararius.nl/appartement-te-huur/rotterdam/71dc1db2/burgemeester-roosstraat', 'https://www.pararius.nl/appartement-te-huur/rotterdam/0e2fcd3a/halfrond', 'https://www.pararius.nl/appartement-te-huur/rotterdam/b1899056/pleinweg', 'https://www.pararius.nl/appartement-te-huur/rotterdam/3d237659/essenburgsingel', 'https://www.pararius.nl/appartement-te-huur/rotterdam/d730a4b0/goudestein', 'https://www.pararius.nl/appartement-te-huur/rotterdam/6b8bc22f/glashaven', 'https://www.pararius.nl/appartement-te-huur/rotterdam/192e84e9/schiedamsesingel', 'https://www.pararius.nl/appartement-te-huur/rotterdam/90a35c11/hoogstraat', 'https://www.pararius.nl/appartement-te-huur/rotterdam/a0f9a9b0/mijnsherenlaan', 'https://www.pararius.nl/appartement-te-huur/rotterdam/aad82a75/houtlaan', 'https://www.pararius.nl/appartement-te-huur/rotterdam/1aa22b37/cor-kieboomplein', 'https://www.pararius.nl/appartement-te-huur/rotterdam/ec707cec/maashaven-n-z', 'https://www.pararius.nl/appartement-te-huur/rotterdam/9ca84965/nieuwe-binnenweg', 'https://www.pararius.nl/appartement-te-huur/rotterdam/67bfadfb/nobelstraat', 'https://www.pararius.nl/appartement-te-huur/rotterdam/cb98c39f/prins-hendrikkade', 'https://www.pararius.nl/appartement-te-huur/rotterdam/b3856824/1e-jerichostraat', 'https://www.pararius.nl/appartement-te-huur/rotterdam/c84da04c/nieuwe-binnenweg', 'https://www.pararius.nl/appartement-te-huur/rotterdam/e872eb38/pijnackerplein', 'https://www.pararius.nl/kamer-te-huur/rotterdam/1a8f2f96/donkerslootstraat', 'https://www.pararius.nl/appartement-te-huur/rotterdam/f92d8ab7/schieweg', 'https://www.pararius.nl/appartement-te-huur/rotterdam/e8caf51c/gordelweg', 'https://www.pararius.nl/appartement-te-huur/rotterdam/69409adb/bentincklaan', 'https://www.pararius.nl/appartement-te-huur/rotterdam/744457ff/roentgenstraat', 'https://www.pararius.nl/appartement-te-huur/rotterdam/4379393a/scheepmakerspassage', 'https://www.pararius.nl/appartement-te-huur/rotterdam/b076e618/de-lairesselaan', 'https://www.pararius.nl/appartement-te-huur/rotterdam/aff5f7f3/gedempte-zalmhaven', 'https://www.pararius.nl/appartement-te-huur/rotterdam/9ea7ed3a/mijnsherenlaan', 'https://www.pararius.nl/studio-te-huur/rotterdam/efde6358/walenburgerweg', 'https://www.pararius.nl/appartement-te-huur/rotterdam/b6c9f139/prins-hendrikkade', 'https://www.pararius.nl/appartement-te-huur/rotterdam/ec707cec/maashaven-n-z', 'https://www.pararius.nl/appartement-te-huur/rotterdam/f23e0123/schieweg', 'https://www.pararius.nl/appartement-te-huur/rotterdam/80572aa8/adriaen-van-der-doeslaan', 'https://www.pararius.nl/appartement-te-huur/rotterdam/ea898acb/van-der-hoevenplein', 'https://www.pararius.nl/appartement-te-huur/rotterdam/d70c78cc/cargadoorskade', 'https://www.pararius.nl/studio-te-huur/rotterdam/55bc83d6/eendrachtsweg', 'https://www.pararius.nl/appartement-te-huur/rotterdam/5c59061f/paradijslaan', 'https://www.pararius.nl/appartement-te-huur/rotterdam/78b96e20/blokmakersstraat', 'https://www.pararius.nl/appartement-te-huur/rotterdam/7a94c7b6/vierambachtsstraat', 'https://www.pararius.nl/appartement-te-huur/rotterdam/95d380fd/botersloot', 'https://www.pararius.nl/appartement-te-huur/rotterdam/ec1b872e/mijnsherenlaan', 'https://www.pararius.nl/appartement-te-huur/rotterdam/adc9ad57/calandstraat', 'https://www.pararius.nl/huis-te-huur/rotterdam/d76c37e1/ok-formenoystraat', 'https://www.pararius.nl/appartement-te-huur/rotterdam/d1ae5a41/beatrijsstraat', 'https://www.pararius.nl/appartement-te-huur/rotterdam/43b4cda8/godijn-van-dormaalstraat', 'https://www.pararius.nl/appartement-te-huur/rotterdam/807a77a4/noordsingel', 'https://www.pararius.nl/appartement-te-huur/rotterdam/ff37d4eb/keucheniusstraat', 'https://www.pararius.nl/appartement-te-huur/rotterdam/18c09fba/keucheniusstraat', 'https://www.pararius.nl/appartement-te-huur/rotterdam/ee2ec7ff/moerkerkestraat', 'https://www.pararius.nl/appartement-te-huur/rotterdam/9aabae23/berkelselaan', 'https://www.pararius.nl/appartement-te-huur/rotterdam/1517d3c7/botersloot', 'https://www.pararius.nl/appartement-te-huur/rotterdam/89bee0c5/oostzeedijk', 'https://www.pararius.nl/appartement-te-huur/rotterdam/506c531f/maaskade', 'https://www.pararius.nl/huis-te-huur/rotterdam/a9fbd849/van-der-duijn-van-maasdamweg', 'https://www.pararius.nl/appartement-te-huur/rotterdam/0ce57925/kralingseweg', 'https://www.pararius.nl/appartement-te-huur/rotterdam/bb548d19/binnenrotte', 'https://www.pararius.nl/appartement-te-huur/rotterdam/8998e1af/weena', 'https://www.pararius.nl/appartement-te-huur/rotterdam/bab501a4/hoogstraat', 'https://www.pararius.nl/appartement-te-huur/rotterdam/a705b210/berkelselaan', 'https://www.pararius.nl/appartement-te-huur/rotterdam/4b285a7b/heymansstraat', 'https://www.pararius.nl/appartement-te-huur/rotterdam/2f60fe70/boompjes', 'https://www.pararius.nl/appartement-te-huur/rotterdam/ec707cec/maashaven-n-z', 'https://www.pararius.nl/appartement-te-huur/rotterdam/b6c9f139/prins-hendrikkade', 'https://www.pararius.nl/appartement-te-huur/rotterdam/32d8a616/s-gravendeelstraat', 'https://www.pararius.nl/appartement-te-huur/rotterdam/53710c76/henegouwerplein', 'https://www.pararius.nl/appartement-te-huur/rotterdam/740679f2/hillevliet', 'https://www.pararius.nl/appartement-te-huur/rotterdam/6a73b288/algiersstraat', 'https://www.pararius.nl/appartement-te-huur/rotterdam/81b4775d/boompjes', 'https://www.pararius.nl/appartement-te-huur/rotterdam/e875fe2e/baan', 'https://www.pararius.nl/appartement-te-huur/rotterdam/674a21b9/rodenrijselaan', 'https://www.pararius.nl/appartement-te-huur/rotterdam/3f353dcc/sionstraat', 'https://www.pararius.nl/appartement-te-huur/rotterdam/de0a3a78/schieweg', 'https://www.pararius.nl/appartement-te-huur/rotterdam/a2030493/henegouwerlaan', 'https://www.pararius.nl/appartement-te-huur/rotterdam/b28c1d4d/zwarte-paardenstraat', 'https://www.pararius.nl/appartement-te-huur/rotterdam/ecabb48b/lodewijk-pincoffsweg', 'https://www.pararius.nl/appartement-te-huur/rotterdam/46fa14d7/groeninxstraat', 'https://www.pararius.nl/appartement-te-huur/rotterdam/ae542956/halfrond', 'https://www.pararius.nl/appartement-te-huur/rotterdam/24ee8398/marinestraat', 'https://www.pararius.nl/appartement-te-huur/rotterdam/f6ef7f80/beukelsdijk', 'https://www.pararius.nl/appartement-te-huur/rotterdam/18bb041a/hoogstraat', 'https://www.pararius.nl/appartement-te-huur/rotterdam/6ecef64a/verboomstraat', 'https://www.pararius.nl/appartement-te-huur/rotterdam/b200d16a/lambertusstraat', 'https://www.pararius.nl/appartement-te-huur/rotterdam/3cc7d717/kabelhof', 'https://www.pararius.nl/appartement-te-huur/rotterdam/339d710f/bergweg', 'https://www.pararius.nl/appartement-te-huur/rotterdam/ae498e23/hillevliet', 'https://www.pararius.nl/appartement-te-huur/rotterdam/f0e04850/muellerkade', 'https://www.pararius.nl/appartement-te-huur/rotterdam/44afbd27/baarlandhof', 'https://www.pararius.nl/appartement-te-huur/rotterdam/762b5bb3/s-gravendijkwal', 'https://www.pararius.nl/appartement-te-huur/rotterdam/08fb6beb/van-malsenstraat', 'https://www.pararius.nl/appartement-te-huur/rotterdam/8030f4e3/kleiweg', 'https://www.pararius.nl/appartement-te-huur/rotterdam/ac9125d7/karl-weisbardstraat', 'https://www.pararius.nl/appartement-te-huur/rotterdam/05553db8/mattenbiesstraat', 'https://www.pararius.nl/appartement-te-huur/rotterdam/8bf7a4d9/drinkwaterweg', 'https://www.pararius.nl/appartement-te-huur/rotterdam/b6c9f139/prins-hendrikkade', 'https://www.pararius.nl/appartement-te-huur/rotterdam/ec707cec/maashaven-n-z', 'https://www.pararius.nl/huis-te-huur/rotterdam/9b0940e5/buitenzorg', 'https://www.pararius.nl/appartement-te-huur/rotterdam/692eabf0/saftlevenstraat', 'https://www.pararius.nl/appartement-te-huur/rotterdam/57715a40/rauwenhoffstraat', 'https://www.pararius.nl/appartement-te-huur/rotterdam/8d3b025d/grieksestraat', 'https://www.pararius.nl/appartement-te-huur/rotterdam/0d9c3e03/bree', 'https://www.pararius.nl/nieuwbouwproject/rotterdam/32a16a51/lloyd-yard/type-e1', 'https://www.pararius.nl/nieuwbouwproject/rotterdam/49e9da35/lloyd-yard/type-e4', 'https://www.pararius.nl/appartement-te-huur/rotterdam/c0ef0062/zestienhovenstraat', 'https://www.pararius.nl/studio-te-huur/rotterdam/ffa2e1f7/lisstraat', 'https://www.pararius.nl/appartement-te-huur/rotterdam/833beeba/boezemsingel', 'https://www.pararius.nl/appartement-te-huur/rotterdam/b07ff8c4/beijerlandselaan', 'https://www.pararius.nl/studio-te-huur/rotterdam/d153c13f/mathenesserlaan', 'https://www.pararius.nl/appartement-te-huur/rotterdam/fa385721/willem-van-boelrestraat', 'https://www.pararius.nl/appartement-te-huur/rotterdam/f9bd8030/mariniersweg', 'https://www.pararius.nl/appartement-te-huur/rotterdam/7802c5dc/goudsesingel', 'https://www.pararius.nl/appartement-te-huur/rotterdam/37280c23/oostmaaslaan', 'https://www.pararius.nl/appartement-te-huur/rotterdam/2e252234/van-malsenstraat', 'https://www.pararius.nl/studio-te-huur/rotterdam/2151b124/zwaluwstraat', 'https://www.pararius.nl/appartement-te-huur/rotterdam/fbba7438/lange-hilleweg', 'https://www.pararius.nl/appartement-te-huur/rotterdam/725ff8e9/kruiskade', 'https://www.pararius.nl/appartement-te-huur/rotterdam/64b7a4c8/molenvliet', 'https://www.pararius.nl/appartement-te-huur/rotterdam/0e000d39/meidoornhoek', 'https://www.pararius.nl/appartement-te-huur/rotterdam/df3204d9/vegastraat', 'https://www.pararius.nl/huis-te-huur/rotterdam/f3edc8fe/zoutziedersstraat', 'https://www.pararius.nl/appartement-te-huur/rotterdam/c8a29ebd/deensestraat', 'https://www.pararius.nl/appartement-te-huur/rotterdam/9239416d/blaak', 'https://www.pararius.nl/appartement-te-huur/rotterdam/eef5cb2a/s-gravenweg', 'https://www.pararius.nl/huis-te-huur/rotterdam/8c2c427d/borchsatelaan', 'https://www.pararius.nl/appartement-te-huur/rotterdam/18b74920/posthoornstraat', 'https://www.pararius.nl/appartement-te-huur/rotterdam/f5eb485b/wilhelminakade', 'https://www.pararius.nl/appartement-te-huur/rotterdam/b6c9f139/prins-hendrikkade', 'https://www.pararius.nl/appartement-te-huur/rotterdam/ec707cec/maashaven-n-z', 'https://www.pararius.nl/appartement-te-huur/rotterdam/06fe9302/nieuwe-binnenweg', 'https://www.pararius.nl/appartement-te-huur/rotterdam/cb9b31f1/goudsesingel', 'https://www.pararius.nl/appartement-te-huur/rotterdam/3923e335/paradijslaan', 'https://www.pararius.nl/appartement-te-huur/rotterdam/2e262600/dunantstraat', 'https://www.pararius.nl/appartement-te-huur/rotterdam/0f0dcc96/dunantstraat', 'https://www.pararius.nl/appartement-te-huur/rotterdam/05410f3f/vlietlaan', 'https://www.pararius.nl/appartement-te-huur/rotterdam/ea1c1b12/krabbendijkestraat', 'https://www.pararius.nl/appartement-te-huur/rotterdam/d8809e23/markerstraat', 'https://www.pararius.nl/appartement-te-huur/rotterdam/5a12b54c/dunantstraat', 'https://www.pararius.nl/appartement-te-huur/rotterdam/5cc3d5fe/kratonkade', 'https://www.pararius.nl/appartement-te-huur/rotterdam/844df86a/dordtselaan', 'https://www.pararius.nl/appartement-te-huur/rotterdam/01c4f38c/grotemarkt', 'https://www.pararius.nl/appartement-te-huur/rotterdam/bef3dc55/maaskade', 'https://www.pararius.nl/appartement-te-huur/rotterdam/565c512e/statenweg', 'https://www.pararius.nl/appartement-te-huur/rotterdam/b6ae26af/kruisplein', 'https://www.pararius.nl/kamer-te-huur/rotterdam/3fb23854/schiedamseweg', 'https://www.pararius.nl/appartement-te-huur/rotterdam/ba213766/lamsrustlaan', 'https://www.pararius.nl/appartement-te-huur/rotterdam/acc9c1d2/2e-schansstraat', 'https://www.pararius.nl/appartement-te-huur/rotterdam/c5131a84/baroniestraat', 'https://www.pararius.nl/appartement-te-huur/rotterdam/9aaa27e7/diergaardesingel', 'https://www.pararius.nl/appartement-te-huur/rotterdam/f56e4143/argonautenweg', 'https://www.pararius.nl/appartement-te-huur/rotterdam/94ff4d75/nieuwenhoornstraat', 'https://www.pararius.nl/appartement-te-huur/rotterdam/c9afbfbe/aelbrechtskade', 'https://www.pararius.nl/appartement-te-huur/rotterdam/524da5d4/adrien-mildersstraat', 'https://www.pararius.nl/appartement-te-huur/rotterdam/34e88524/fleringenstraat', 'https://www.pararius.nl/appartement-te-huur/rotterdam/d428a6d3/spanjaardstraat', 'https://www.pararius.nl/appartement-te-huur/rotterdam/75bcc5e2/korhaanstraat', 'https://www.pararius.nl/huis-te-huur/rotterdam/97d867c1/gashouderstraat', 'https://www.pararius.nl/appartement-te-huur/rotterdam/e6bb706e/walenburgerweg', 'https://www.pararius.nl/huis-te-huur/rotterdam/00883482/vijverweg', 'https://www.pararius.nl/appartement-te-huur/rotterdam/b6c9f139/prins-hendrikkade', 'https://www.pararius.nl/appartement-te-huur/rotterdam/ec707cec/maashaven-n-z', 'https://www.pararius.nl/appartement-te-huur/rotterdam/32f1c4cc/edmond-hellenraadstraat', 'https://www.pararius.nl/appartement-te-huur/rotterdam/2581ac86/nassaukade', 'https://www.pararius.nl/appartement-te-huur/rotterdam/80628dd7/strevelsweg', 'https://www.pararius.nl/appartement-te-huur/rotterdam/d14b8b2e/oudedijk', 'https://www.pararius.nl/appartement-te-huur/rotterdam/98aa2493/gladiolusstraat', 'https://www.pararius.nl/appartement-te-huur/rotterdam/17b2d006/brigantijnstraat', 'https://www.pararius.nl/appartement-te-huur/rotterdam/2136b21c/bleiswijkstraat', 'https://www.pararius.nl/appartement-te-huur/rotterdam/7e271937/blaak', 'https://www.pararius.nl/appartement-te-huur/rotterdam/0690aeac/wijnbrugstraat', 'https://www.pararius.nl/appartement-te-huur/rotterdam/574b9c27/bas-paauwestraat', 'https://www.pararius.nl/appartement-te-huur/rotterdam/4e0ae36c/belgischestraat', 'https://www.pararius.nl/huis-te-huur/rotterdam/b8f4c7c2/maashaven-n-z', 'https://www.pararius.nl/appartement-te-huur/rotterdam/cd965bf3/voorhaven', 'https://www.pararius.nl/appartement-te-huur/rotterdam/d9fa6588/vredenoordlaan', 'https://www.pararius.nl/appartement-te-huur/rotterdam/d4cf55cd/willem-buytewechstraat', 'https://www.pararius.nl/appartement-te-huur/rotterdam/38fdee26/abraham-kuyperlaan', 'https://www.pararius.nl/appartement-te-huur/rotterdam/1c18a3ff/statenweg', 'https://www.pararius.nl/appartement-te-huur/rotterdam/6a577b0c/katendrechtse-lagedijk', 'https://www.pararius.nl/appartement-te-huur/rotterdam/302870b0/wevershoekstraat', 'https://www.pararius.nl/appartement-te-huur/rotterdam/c0f60864/baan', 'https://www.pararius.nl/appartement-te-huur/rotterdam/249581c2/middelharnisstraat', 'https://www.pararius.nl/appartement-te-huur/rotterdam/bf8ce2d3/strevelsweg', 'https://www.pararius.nl/appartement-te-huur/rotterdam/0ccaffd4/sint-jobskade', 'https://www.pararius.nl/appartement-te-huur/rotterdam/6d043682/statenweg', 'https://www.pararius.nl/huis-te-huur/rotterdam/b035931f/heysekade', 'https://www.pararius.nl/appartement-te-huur/rotterdam/edf8d644/heemraadssingel', 'https://www.pararius.nl/appartement-te-huur/rotterdam/8325c11a/gerrit-van-de-lindestraat', 'https://www.pararius.nl/appartement-te-huur/rotterdam/dd78519f/anthony-tijkenstraat', 'https://www.pararius.nl/appartement-te-huur/rotterdam/77c71789/hillevliet', 'https://www.pararius.nl/appartement-te-huur/rotterdam/119246d2/noordsingel', 'https://www.pararius.nl/appartement-te-huur/rotterdam/ec707cec/maashaven-n-z', 'https://www.pararius.nl/appartement-te-huur/rotterdam/b6c9f139/prins-hendrikkade', 'https://www.pararius.nl/appartement-te-huur/rotterdam/cb74df61/strevelsweg', 'https://www.pararius.nl/appartement-te-huur/rotterdam/293d812e/beijerlandselaan', 'https://www.pararius.nl/appartement-te-huur/rotterdam/2d630a9f/oostmaaslaan', 'https://www.pararius.nl/appartement-te-huur/rotterdam/990739f4/mijnsherenlaan', 'https://www.pararius.nl/appartement-te-huur/rotterdam/103922e6/heiman-dullaertplein', 'https://www.pararius.nl/appartement-te-huur/rotterdam/267966d4/stadhoudersweg', 'https://www.pararius.nl/appartement-te-huur/rotterdam/a21e89bb/nieuwe-binnenweg', 'https://www.pararius.nl/appartement-te-huur/rotterdam/8b3ee10e/groene-hilledijk', 'https://www.pararius.nl/appartement-te-huur/rotterdam/e6ee8081/napelshof', 'https://www.pararius.nl/appartement-te-huur/rotterdam/c8162e61/brielselaan', 'https://www.pararius.nl/appartement-te-huur/rotterdam/488be8a8/schieweg', 'https://www.pararius.nl/appartement-te-huur/rotterdam/e8273b46/rodenrijselaan', 'https://www.pararius.nl/appartement-te-huur/rotterdam/45e9c0ee/burgemeester-roosstraat', 'https://www.pararius.nl/appartement-te-huur/rotterdam/f473293f/baan', 'https://www.pararius.nl/appartement-te-huur/rotterdam/aa3a3f71/goudse-rijweg', 'https://www.pararius.nl/appartement-te-huur/rotterdam/6efe79b0/sint-jobskade', 'https://www.pararius.nl/appartement-te-huur/rotterdam/81a14d50/dorpsweg', 'https://www.pararius.nl/huis-te-huur/rotterdam/50bdd998/piet-van-de-polsingel', 'https://www.pararius.nl/appartement-te-huur/rotterdam/c0f67840/gedempte-zalmhaven', 'https://www.pararius.nl/appartement-te-huur/rotterdam/d52f82f6/zwart-janstraat', 'https://www.pararius.nl/appartement-te-huur/rotterdam/c2e34801/westzeedijk', 'https://www.pararius.nl/appartement-te-huur/rotterdam/2a334fcb/schieweg', 'https://www.pararius.nl/appartement-te-huur/rotterdam/5a36574a/bulgersteyn', 'https://www.pararius.nl/appartement-te-huur/rotterdam/e435749d/van-der-horststraat', 'https://www.pararius.nl/appartement-te-huur/rotterdam/3b34de77/houtlaan', 'https://www.pararius.nl/appartement-te-huur/rotterdam/a97fcb84/willem-beukelszstraat', 'https://www.pararius.nl/appartement-te-huur/rotterdam/c42b8765/jufferstraat', 'https://www.pararius.nl/appartement-te-huur/rotterdam/f14a3a08/mauritsstraat', 'https://www.pararius.nl/appartement-te-huur/rotterdam/9a428c89/prins-frederik-hendrikstraat', 'https://www.pararius.nl/appartement-te-huur/rotterdam/a2ca52da/houtlaan', 'https://www.pararius.nl/appartement-te-huur/rotterdam/ec707cec/maashaven-n-z', 'https://www.pararius.nl/appartement-te-huur/rotterdam/b6c9f139/prins-hendrikkade', 'https://www.pararius.nl/appartement-te-huur/rotterdam/19fcdaa2/aleidisstraat', 'https://www.pararius.nl/studio-te-huur/rotterdam/8d79ee56/oudedijk', 'https://www.pararius.nl/appartement-te-huur/rotterdam/0920c092/westersingel', 'https://www.pararius.nl/appartement-te-huur/rotterdam/ac12ea7c/roentgenstraat', 'https://www.pararius.nl/appartement-te-huur/rotterdam/15e974c8/crooswijksesingel', 'https://www.pararius.nl/appartement-te-huur/rotterdam/bbf83185/sicilieboulevard', 'https://www.pararius.nl/appartement-te-huur/rotterdam/56116c61/specerijenhof', 'https://www.pararius.nl/appartement-te-huur/rotterdam/8c137f3a/van-beuningenstraat', 'https://www.pararius.nl/appartement-te-huur/rotterdam/372e6f0b/volmarijnstraat', 'https://www.pararius.nl/huis-te-huur/rotterdam/f8a69f63/larikslaan', 'https://www.pararius.nl/studio-te-huur/rotterdam/1b9ccb2d/mauritsstraat', 'https://www.pararius.nl/appartement-te-huur/rotterdam/63f175e6/charloisse-hoofd', 'https://www.pararius.nl/appartement-te-huur/rotterdam/15658b35/schepenstraat', 'https://www.pararius.nl/appartement-te-huur/rotterdam/556d1c0f/bergpolderstraat', 'https://www.pararius.nl/appartement-te-huur/rotterdam/f729ce04/speedwellstraat', 'https://www.pararius.nl/kamer-te-huur/rotterdam/2176273d/taandersstraat', 'https://www.pararius.nl/appartement-te-huur/rotterdam/51762d47/proveniersstraat', 'https://www.pararius.nl/appartement-te-huur/rotterdam/5a64326d/wijnbrugstraat', 'https://www.pararius.nl/appartement-te-huur/rotterdam/35d7fc51/pannekoekstraat', 'https://www.pararius.nl/appartement-te-huur/rotterdam/c45f40b0/kruiskade', 'https://www.pararius.nl/appartement-te-huur/rotterdam/fa8501e5/baljuwplein', 'https://www.pararius.nl/appartement-te-huur/rotterdam/abd473d7/crooswijksesingel', 'https://www.pararius.nl/appartement-te-huur/rotterdam/8e1b166c/beukelsdijk', 'https://www.pararius.nl/huis-te-huur/rotterdam/52c24618/koninginneweg', 'https://www.pararius.nl/appartement-te-huur/rotterdam/bbb547ce/crooswijksestraat', 'https://www.pararius.nl/appartement-te-huur/rotterdam/421286f1/putsebocht', 'https://www.pararius.nl/appartement-te-huur/rotterdam/43b2eeea/binnenrotte', 'https://www.pararius.nl/appartement-te-huur/rotterdam/a84e5a9e/maaskade', 'https://www.pararius.nl/appartement-te-huur/rotterdam/a872c71b/nico-koomanskade', 'https://www.pararius.nl/appartement-te-huur/rotterdam/f4e63809/lloydkade', 'https://www.pararius.nl/appartement-te-huur/rotterdam/ec707cec/maashaven-n-z', 'https://www.pararius.nl/appartement-te-huur/rotterdam/b6c9f139/prins-hendrikkade', 'https://www.pararius.nl/appartement-te-huur/rotterdam/05e42e60/essenburgsingel', 'https://www.pararius.nl/appartement-te-huur/rotterdam/4a2cf641/beijerlandsestraat', 'https://www.pararius.nl/appartement-te-huur/rotterdam/7680cf14/polderlaan', 'https://www.pararius.nl/studio-te-huur/rotterdam/ccd50859/wierdsmaplein', 'https://www.pararius.nl/huis-te-huur/rotterdam/7dff291f/bergweg', 'https://www.pararius.nl/studio-te-huur/rotterdam/64a9653b/eendrachtsweg', 'https://www.pararius.nl/appartement-te-huur/rotterdam/17357a57/noordplein', 'https://www.pararius.nl/appartement-te-huur/rotterdam/6c2991fc/pleinweg', 'https://www.pararius.nl/appartement-te-huur/rotterdam/b1fc7e80/zuidplein', 'https://www.pararius.nl/appartement-te-huur/rotterdam/9cf0c67b/aelbrechtskade', 'https://www.pararius.nl/kamer-te-huur/rotterdam/ce779c96/schiedamseweg', 'https://www.pararius.nl/appartement-te-huur/rotterdam/d2bb9abc/heiman-dullaertplein', 'https://www.pararius.nl/kamer-te-huur/rotterdam/182673f0/rodenrijselaan', 'https://www.pararius.nl/appartement-te-huur/rotterdam/4b72a209/1e-kiefhoekstraat', 'https://www.pararius.nl/appartement-te-huur/rotterdam/82da2ed2/vroesenlaan', 'https://www.pararius.nl/appartement-te-huur/rotterdam/b1cf9462/vignolahof', 'https://www.pararius.nl/appartement-te-huur/rotterdam/5f40ee8c/bergselaan', 'https://www.pararius.nl/huis-te-huur/rotterdam/fe60ecb4/zwijndrechtsestraat', 'https://www.pararius.nl/huis-te-huur/rotterdam/f1f83b7b/bergweg', 'https://www.pararius.nl/appartement-te-huur/rotterdam/b1d74a62/schiedamsedijk', 'https://www.pararius.nl/appartement-te-huur/rotterdam/64595386/bergselaan', 'https://www.pararius.nl/appartement-te-huur/rotterdam/b6c9f139/prins-hendrikkade', 'https://www.pararius.nl/appartement-te-huur/rotterdam/22679108/cornelis-bloemaertsingel', 'https://www.pararius.nl/studio-te-huur/rotterdam/9eb193a7/eendrachtsweg', 'https://www.pararius.nl/studio-te-huur/rotterdam/38a3db22/eendrachtsweg', 'https://www.pararius.nl/appartement-te-huur/rotterdam/33b8fd8c/noorderhavenkade', 'https://www.pararius.nl/appartement-te-huur/rotterdam/0fb1ccf9/baan', 'https://www.pararius.nl/appartement-te-huur/rotterdam/ac576c04/spitsenhagen', 'https://www.pararius.nl/appartement-te-huur/rotterdam/bb1a6529/lombardkade', 'https://www.pararius.nl/appartement-te-huur/rotterdam/da96dfea/gerard-scholtenstraat', 'https://www.pararius.nl/appartement-te-huur/rotterdam/b6c9f139/prins-hendrikkade', 'https://www.pararius.nl/appartement-te-huur/rotterdam/ec707cec/maashaven-n-z', 'https://www.pararius.nl/appartement-te-huur/rotterdam/7f69dc4d/jaffa', 'https://www.pararius.nl/appartement-te-huur/rotterdam/dc33abe9/zwederstraat', 'https://www.pararius.nl/appartement-te-huur/rotterdam/46ddbc56/anatole-franceplaats', 'https://www.pararius.nl/appartement-te-huur/rotterdam/d6a2bc66/boompjes', 'https://www.pararius.nl/appartement-te-huur/rotterdam/feb21364/kruiskade', 'https://www.pararius.nl/appartement-te-huur/rotterdam/2d278289/pleinweg', 'https://www.pararius.nl/appartement-te-huur/rotterdam/ae1990db/westplein', 'https://www.pararius.nl/appartement-te-huur/rotterdam/8c62549e/kleiweg', 'https://www.pararius.nl/appartement-te-huur/rotterdam/bc38eea1/baan', 'https://www.pararius.nl/appartement-te-huur/rotterdam/e182ba4a/bulgersteyn', 'https://www.pararius.nl/appartement-te-huur/rotterdam/d4736a8d/mijnsherenlaan', 'https://www.pararius.nl/appartement-te-huur/rotterdam/1123a8de/hooidrift', 'https://www.pararius.nl/appartement-te-huur/rotterdam/1696ea7d/zaagmolenstraat', 'https://www.pararius.nl/appartement-te-huur/rotterdam/28bdb746/hilledijk', 'https://www.pararius.nl/huis-te-huur/rotterdam/cdf7feec/jan-meertensstraat', 'https://www.pararius.nl/appartement-te-huur/rotterdam/c490ff95/noordmolenstraat', 'https://www.pararius.nl/appartement-te-huur/rotterdam/6663768c/noordmolenstraat', 'https://www.pararius.nl/appartement-te-huur/rotterdam/9976f01b/bulgersteyn', 'https://www.pararius.nl/appartement-te-huur/rotterdam/9b79f5ac/schieweg', 'https://www.pararius.nl/appartement-te-huur/rotterdam/043178da/kruiskade', 'https://www.pararius.nl/appartement-te-huur/rotterdam/92968628/bleiswijkstraat', 'https://www.pararius.nl/appartement-te-huur/rotterdam/b57bfc91/kruiskade', 'https://www.pararius.nl/appartement-te-huur/rotterdam/d6ef5222/1e-pijnackerstraat', 'https://www.pararius.nl/appartement-te-huur/rotterdam/cea4aef1/noordsingel', 'https://www.pararius.nl/appartement-te-huur/rotterdam/e6457a6f/kruiskade', 'https://www.pararius.nl/appartement-te-huur/rotterdam/c26e8c29/maashaven-n-z', 'https://www.pararius.nl/appartement-te-huur/rotterdam/de6b00ac/buizenwerf', 'https://www.pararius.nl/appartement-te-huur/rotterdam/1ecc9bb3/jaffa', 'https://www.pararius.nl/appartement-te-huur/rotterdam/243cf6f2/van-der-hoevenplein', 'https://www.pararius.nl/appartement-te-huur/rotterdam/4542fc69/statensingel', 'https://www.pararius.nl/appartement-te-huur/rotterdam/b6c9f139/prins-hendrikkade', 'https://www.pararius.nl/appartement-te-huur/rotterdam/ec707cec/maashaven-n-z', 'https://www.pararius.nl/appartement-te-huur/rotterdam/0482efe6/maasboulevard', 'https://www.pararius.nl/appartement-te-huur/rotterdam/948350d5/wijnhaven', 'https://www.pararius.nl/appartement-te-huur/rotterdam/5bf4aa5a/rodenrijsestraat', 'https://www.pararius.nl/nieuwbouwproject/rotterdam/a2d3f3ff/waterside-ii/type-g4-appartement-waterside-ii', 'https://www.pararius.nl/nieuwbouwproject/rotterdam/825f64c5/waterside-ii/type-a2-stadswoning-waterside-ii', 'https://www.pararius.nl/nieuwbouwproject/rotterdam/cd8ece3f/waterside-ii/type-c3-appartement-waterside-ii', 'https://www.pararius.nl/nieuwbouwproject/rotterdam/fb9374b3/waterside-ii/type-f1a-appartement-waterside-ii', 'https://www.pararius.nl/nieuwbouwproject/rotterdam/8cb18b76/waterside-ii/type-b3-appartement-waterside-ii', 'https://www.pararius.nl/nieuwbouwproject/rotterdam/275508be/waterside-ii/type-e2-appartement-waterside-ii', 'https://www.pararius.nl/nieuwbouwproject/rotterdam/1528cb73/waterside-ii/type-e4-appartement-waterside-ii', 'https://www.pararius.nl/nieuwbouwproject/rotterdam/0c15c101/waterside-ii/type-a2', 'https://www.pararius.nl/nieuwbouwproject/rotterdam/ce576517/waterside-ii/type-d2-appartement-waterside-ii', 'https://www.pararius.nl/nieuwbouwproject/rotterdam/8a485b01/waterside-ii/type-c1-appartement-waterside-ii', 'https://www.pararius.nl/nieuwbouwproject/rotterdam/f86966dc/waterside-ii/type-a1-stadswoning-waterside-ii', 'https://www.pararius.nl/nieuwbouwproject/rotterdam/8f9fc86f/waterside-ii/type-b1-appartement-waterside-ii', 'https://www.pararius.nl/nieuwbouwproject/rotterdam/97702139/waterside-ii/type-d1-appartement-waterside-ii', 'https://www.pararius.nl/nieuwbouwproject/rotterdam/ab5086d0/waterside-ii/type-e3-appartement-waterside-ii', 'https://www.pararius.nl/nieuwbouwproject/rotterdam/3640568b/waterside-ii/type-f1a-appartement-waterside-ii', 'https://www.pararius.nl/nieuwbouwproject/rotterdam/c9d667da/waterside-ii/type-c3-appartement-waterside-ii', 'https://www.pararius.nl/nieuwbouwproject/rotterdam/0e76c9e3/waterside-ii/type-e1-appartement-waterside-ii', 'https://www.pararius.nl/nieuwbouwproject/rotterdam/5bc4c129/waterside-ii/type-b2-appartement-waterside-ii', 'https://www.pararius.nl/nieuwbouwproject/rotterdam/354f3ae7/waterside-ii/type-b4-appartement-waterside-ii', 'https://www.pararius.nl/huis-te-huur/rotterdam/cb4c1884/lamastraat', 'https://www.pararius.nl/appartement-te-huur/rotterdam/17cee16c/westersingel', 'https://www.pararius.nl/appartement-te-huur/rotterdam/71444c8d/meent', 'https://www.pararius.nl/appartement-te-huur/rotterdam/5c2d0fa0/delftsevaart', 'https://www.pararius.nl/appartement-te-huur/rotterdam/b5de5fc0/jupiterstraat', 'https://www.pararius.nl/appartement-te-huur/rotterdam/861b5072/zuiderterras', 'https://www.pararius.nl/studio-te-huur/rotterdam/1df94708/oudedijk', 'https://www.pararius.nl/appartement-te-huur/rotterdam/b0eee9f0/kleiweg', 'https://www.pararius.nl/appartement-te-huur/rotterdam/b6c9f139/prins-hendrikkade', 'https://www.pararius.nl/appartement-te-huur/rotterdam/ec707cec/maashaven-n-z', 'https://www.pararius.nl/appartement-te-huur/rotterdam/aac35df6/hoofdweg', 'https://www.pararius.nl/appartement-te-huur/rotterdam/ca506586/beukelsdijk', 'https://www.pararius.nl/appartement-te-huur/rotterdam/8739783c/laan-op-zuid', 'https://www.pararius.nl/appartement-te-huur/rotterdam/d9364f60/zuiderterras', 'https://www.pararius.nl/appartement-te-huur/rotterdam/aafc7bbb/witte-de-withstraat', 'https://www.pararius.nl/appartement-te-huur/rotterdam/d50f3b40/koningin-emmaplein', 'https://www.pararius.nl/appartement-te-huur/rotterdam/23436aff/bloemfonteinstraat', 'https://www.pararius.nl/appartement-te-huur/rotterdam/c8b6c71f/wilhelminakade', 'https://www.pararius.nl/appartement-te-huur/rotterdam/b0cf35b4/pampuskade', 'https://www.pararius.nl/appartement-te-huur/rotterdam/37405705/baan', 'https://www.pararius.nl/studio-te-huur/rotterdam/8f5069b0/schiedamseweg', 'https://www.pararius.nl/appartement-te-huur/rotterdam/7d1be68d/chabotlaan', 'https://www.pararius.nl/appartement-te-huur/rotterdam/8b27f8bd/kruisplein', 'https://www.pararius.nl/appartement-te-huur/rotterdam/929a8d6c/schiedamsesingel', 'https://www.pararius.nl/studio-te-huur/rotterdam/2698263e/bergselaan', 'https://www.pararius.nl/appartement-te-huur/rotterdam/3315fdab/wijnbrugstraat', 'https://www.pararius.nl/appartement-te-huur/rotterdam/5d6d4c52/beukelsdijk', 'https://www.pararius.nl/appartement-te-huur/rotterdam/cabef694/louise-de-colignylaan', 'https://www.pararius.nl/appartement-te-huur/rotterdam/af459179/s-gravensingel', 'https://www.pararius.nl/appartement-te-huur/rotterdam/7f84b955/baan', 'https://www.pararius.nl/appartement-te-huur/rotterdam/4dacdcad/stationssingel', 'https://www.pararius.nl/appartement-te-huur/rotterdam/2215a60e/stationssingel', 'https://www.pararius.nl/appartement-te-huur/rotterdam/b73d8e30/librijesteeg', 'https://www.pararius.nl/appartement-te-huur/rotterdam/f456c0a9/pampuskade', 'https://www.pararius.nl/appartement-te-huur/rotterdam/d5218658/flying-dutchmanstraat', 'https://www.pararius.nl/huis-te-huur/rotterdam/4d81910d/flying-dutchmanstraat', 'https://www.pararius.nl/appartement-te-huur/rotterdam/a5761ae8/flying-dutchmanstraat', 'https://www.pararius.nl/huis-te-huur/rotterdam/f7b13f8e/flying-dutchmanstraat', 'https://www.pararius.nl/appartement-te-huur/rotterdam/eeeae667/pampuskade', 'https://www.pararius.nl/appartement-te-huur/rotterdam/a19104ce/pampuskade', 'https://www.pararius.nl/appartement-te-huur/rotterdam/ec707cec/maashaven-n-z', 'https://www.pararius.nl/appartement-te-huur/rotterdam/b6c9f139/prins-hendrikkade', 'https://www.pararius.nl/appartement-te-huur/rotterdam/02f5b603/pampuskade', 'https://www.pararius.nl/appartement-te-huur/rotterdam/f3fb8e5c/pampuskade', 'https://www.pararius.nl/appartement-te-huur/rotterdam/389be144/pampuskade', 'https://www.pararius.nl/appartement-te-huur/rotterdam/d8b51013/pampuskade', 'https://www.pararius.nl/appartement-te-huur/rotterdam/0d9ba160/pampuskade', 'https://www.pararius.nl/appartement-te-huur/rotterdam/fd1b22fd/pampuskade', 'https://www.pararius.nl/appartement-te-huur/rotterdam/c54ec460/walenburgerweg', 'https://www.pararius.nl/appartement-te-huur/rotterdam/155239c2/zuidhoek', 'https://www.pararius.nl/appartement-te-huur/rotterdam/df3feab6/boompjes', 'https://www.pararius.nl/appartement-te-huur/rotterdam/6fc815c9/stadhoudersweg', 'https://www.pararius.nl/huis-te-huur/rotterdam/0ba89185/jeruzalemstraat', 'https://www.pararius.nl/appartement-te-huur/rotterdam/9c6585e1/schieweg', 'https://www.pararius.nl/appartement-te-huur/rotterdam/76af9865/schieweg', 'https://www.pararius.nl/appartement-te-huur/rotterdam/8612942f/grote-visserijstraat', 'https://www.pararius.nl/appartement-te-huur/rotterdam/cc0e0b10/van-bijlandtplaats', 'https://www.pararius.nl/appartement-te-huur/rotterdam/e0ef083b/van-bijlandtplaats', 'https://www.pararius.nl/appartement-te-huur/rotterdam/e0fa55d2/gedempte-zalmhaven', 'https://www.pararius.nl/appartement-te-huur/rotterdam/8be11eb8/van-der-horststraat', 'https://www.pararius.nl/appartement-te-huur/rotterdam/cdea3674/wilhelminakade', 'https://www.pararius.nl/kamer-te-huur/rotterdam/85417bd0/katendrechtse-lagedijk', 'https://www.pararius.nl/huis-te-huur/rotterdam/ae37011c/lamsrustlaan', 'https://www.pararius.nl/appartement-te-huur/rotterdam/308a75e2/s-gravendijkwal', 'https://www.pararius.nl/kamer-te-huur/rotterdam/8f17f714/provenierssingel', 'https://www.pararius.nl/studio-te-huur/rotterdam/09fa8e98/witte-de-withstraat', 'https://www.pararius.nl/appartement-te-huur/rotterdam/53d3671c/kruiskade', 'https://www.pararius.nl/huis-te-huur/rotterdam/377b2df5/larikslaan', 'https://www.pararius.nl/appartement-te-huur/rotterdam/7e19f7b5/gedempte-zalmhaven', 'https://www.pararius.nl/appartement-te-huur/rotterdam/6a0c12b1/boompjes', 'https://www.pararius.nl/studio-te-huur/rotterdam/f1cae85d/weena', 'https://www.pararius.nl/appartement-te-huur/rotterdam/78e9f0ab/kruiskade', 'https://www.pararius.nl/appartement-te-huur/rotterdam/b6c9f139/prins-hendrikkade', 'https://www.pararius.nl/appartement-te-huur/rotterdam/ec707cec/maashaven-n-z', 'https://www.pararius.nl/appartement-te-huur/rotterdam/3c6dccbb/kruiskade', 'https://www.pararius.nl/appartement-te-huur/rotterdam/71e1e6b6/de-monchyplein', 'https://www.pararius.nl/studio-te-huur/rotterdam/3ffaade4/eendrachtsweg', 'https://www.pararius.nl/studio-te-huur/rotterdam/da67641e/witte-de-withstraat', 'https://www.pararius.nl/appartement-te-huur/rotterdam/1a2fef22/kruiskade', 'https://www.pararius.nl/studio-te-huur/rotterdam/2ad55cc5/witte-de-withstraat', 'https://www.pararius.nl/studio-te-huur/rotterdam/db2e1694/witte-de-withstraat', 'https://www.pararius.nl/studio-te-huur/rotterdam/b9ba22ef/witte-de-withstraat', 'https://www.pararius.nl/appartement-te-huur/rotterdam/ace4546e/ochterveltstraat', 'https://www.pararius.nl/studio-te-huur/rotterdam/ead6be93/witte-de-withstraat', 'https://www.pararius.nl/studio-te-huur/rotterdam/9661b0a8/oudedijk', 'https://www.pararius.nl/studio-te-huur/rotterdam/eafdf97e/witte-de-withstraat', 'https://www.pararius.nl/studio-te-huur/rotterdam/e4e3178d/witte-de-withstraat', 'https://www.pararius.nl/studio-te-huur/rotterdam/792e1532/eendrachtsweg', 'https://www.pararius.nl/studio-te-huur/rotterdam/c2454967/eendrachtsweg', 'https://www.pararius.nl/studio-te-huur/rotterdam/c37bdeec/oudedijk', 'https://www.pararius.nl/studio-te-huur/rotterdam/b955181c/witte-de-withstraat', 'https://www.pararius.nl/huis-te-huur/rotterdam/165e4aad/nieuwe-binnenweg', 'https://www.pararius.nl/appartement-te-huur/rotterdam/52c116c3/zuidhoek', 'https://www.pararius.nl/appartement-te-huur/rotterdam/04fefcdf/mariniersweg', 'https://www.pararius.nl/appartement-te-huur/rotterdam/2a78b5e8/kabelhof', 'https://www.pararius.nl/appartement-te-huur/rotterdam/0ab2e7fa/haringvliet', 'https://www.pararius.nl/appartement-te-huur/rotterdam/36720be3/gaesbeekstraat', 'https://www.pararius.nl/appartement-te-huur/rotterdam/fb025788/joost-van-geelstraat', 'https://www.pararius.nl/appartement-te-huur/rotterdam/fff4678e/nieuwe-binnenweg', 'https://www.pararius.nl/appartement-te-huur/rotterdam/9feb34f5/nieuwe-binnenweg', 'https://www.pararius.nl/appartement-te-huur/rotterdam/26d7ea74/scheepstimmermanslaan', 'https://www.pararius.nl/appartement-te-huur/rotterdam/5a7707f4/bulgersteyn', 'https://www.pararius.nl/appartement-te-huur/rotterdam/6f9e166f/gedempte-zalmhaven', 'https://www.pararius.nl/appartement-te-huur/rotterdam/273d199e/oostmaasstraat', 'https://www.pararius.nl/appartement-te-huur/rotterdam/ec707cec/maashaven-n-z', 'https://www.pararius.nl/appartement-te-huur/rotterdam/b6c9f139/prins-hendrikkade', 'https://www.pararius.nl/appartement-te-huur/rotterdam/f86e3f96/roentgenstraat', 'https://www.pararius.nl/appartement-te-huur/rotterdam/6d13bd00/laan-op-zuid', 'https://www.pararius.nl/appartement-te-huur/rotterdam/6e916d5d/frederik-van-eedenstraat', 'https://www.pararius.nl/appartement-te-huur/rotterdam/8c0be2f4/scheepstimmermanslaan', 'https://www.pararius.nl/appartement-te-huur/rotterdam/e81cf97a/oppert', 'https://www.pararius.nl/appartement-te-huur/rotterdam/4d688052/wijnbrugstraat', 'https://www.pararius.nl/kamer-te-huur/rotterdam/7db3991b/boergoensevliet', 'https://www.pararius.nl/appartement-te-huur/rotterdam/4bf75917/bierstraat', 'https://www.pararius.nl/appartement-te-huur/rotterdam/c3bd0aa3/kruiskade']\n"
     ]
    }
   ],
   "source": [
    "\n",
    "\n",
    "# First get all the URLs of listings of the city\n",
    "city = \"Rotterdam\"\n",
    "\n",
    "def get_all_listing_urls(city):\n",
    "    listing_urls = []\n",
    "    for i in range(1, numpages+1):\n",
    "    \n",
    "        # Obtain link and soup of page\n",
    "        page_url = f\"https://www.pararius.nl/huurwoningen/{city.lower()}/page-{str(i)}\"\n",
    "\n",
    "        req = requests.get(page_url)\n",
    "        s = bs(req.text, \"html.parser\")\n",
    "\n",
    "        # Obtain links of listings on page\n",
    "        listings_on_page_html = s.find_all(\"a\", {\"class\": \"listing-search-item__link listing-search-item__link--title\"})\n",
    "        listing_on_page_urls = [\"https://www.pararius.nl\" + link.get(\"href\") for link in listings_on_page_html]\n",
    "\n",
    "        # Add listings of page to list\n",
    "        listing_urls += listing_on_page_urls\n",
    "\n",
    "    return listing_urls\n",
    "\n",
    "urls = get_all_listing_urls(city)\n",
    "print(urls)\n"
   ]
  },
  {
   "cell_type": "markdown",
   "id": "960db375",
   "metadata": {},
   "source": [
    "### Extract info from all URLs"
   ]
  },
  {
   "cell_type": "code",
   "execution_count": 105,
   "id": "ad297d5c",
   "metadata": {},
   "outputs": [
    {
     "name": "stdout",
     "output_type": "stream",
     "text": [
      "You can expect error messages: not all listings have all information,\n",
      "          especially regarding the furnishing and number of bathrooms.\n",
      "          \n",
      "Something went wrong with listing https://www.pararius.nl/appartement-te-huur/rotterdam/b6c9f139/prins-hendrikkade when extracting price\n",
      "Something went wrong with listing https://www.pararius.nl/appartement-te-huur/rotterdam/b6c9f139/prins-hendrikkade when extracting nbedrooms\n",
      "Something went wrong with listing https://www.pararius.nl/appartement-te-huur/rotterdam/b6c9f139/prins-hendrikkade when extracting nbathrooms\n",
      "Something went wrong with listing https://www.pararius.nl/appartement-te-huur/rotterdam/b6c9f139/prins-hendrikkade when extracting agent\n",
      "Something went wrong with listing https://www.pararius.nl/appartement-te-huur/rotterdam/b6c9f139/prins-hendrikkade when extracting status\n",
      "Something went wrong with listing https://www.pararius.nl/appartement-te-huur/rotterdam/b6c9f139/prins-hendrikkade when extracting description\n",
      "something went wrong with https://www.pararius.nl/appartement-te-huur/rotterdam/b6c9f139/prins-hendrikkade\n",
      "unsupported operand type(s) for /: 'str' and 'str'\n",
      "Something went wrong with listing https://www.pararius.nl/appartement-te-huur/rotterdam/704d6c73/doedesstraat when extracting nbathrooms\n",
      "Something went wrong with listing https://www.pararius.nl/appartement-te-huur/rotterdam/2d560c6e/pompstraat when extracting price\n",
      "Something went wrong with listing https://www.pararius.nl/appartement-te-huur/rotterdam/2d560c6e/pompstraat when extracting nbedrooms\n",
      "Something went wrong with listing https://www.pararius.nl/appartement-te-huur/rotterdam/2d560c6e/pompstraat when extracting nbathrooms\n",
      "Something went wrong with listing https://www.pararius.nl/appartement-te-huur/rotterdam/2d560c6e/pompstraat when extracting agent\n",
      "Something went wrong with listing https://www.pararius.nl/appartement-te-huur/rotterdam/2d560c6e/pompstraat when extracting status\n",
      "Something went wrong with listing https://www.pararius.nl/appartement-te-huur/rotterdam/2d560c6e/pompstraat when extracting description\n",
      "something went wrong with https://www.pararius.nl/appartement-te-huur/rotterdam/2d560c6e/pompstraat\n",
      "unsupported operand type(s) for /: 'str' and 'str'\n",
      "Something went wrong with listing https://www.pararius.nl/appartement-te-huur/rotterdam/bb440363/aelbrechtskade when extracting nbathrooms\n",
      "Something went wrong with listing https://www.pararius.nl/appartement-te-huur/rotterdam/872bf769/groenendaal when extracting nbathrooms\n",
      "Something went wrong with listing https://www.pararius.nl/appartement-te-huur/rotterdam/872bf769/groenendaal when extracting furnished\n",
      "Something went wrong with listing https://www.pararius.nl/appartement-te-huur/rotterdam/3d73b4a1/prins-frederikplein when extracting price\n",
      "Something went wrong with listing https://www.pararius.nl/appartement-te-huur/rotterdam/3d73b4a1/prins-frederikplein when extracting nbedrooms\n",
      "Something went wrong with listing https://www.pararius.nl/appartement-te-huur/rotterdam/3d73b4a1/prins-frederikplein when extracting nbathrooms\n",
      "Something went wrong with listing https://www.pararius.nl/appartement-te-huur/rotterdam/3d73b4a1/prins-frederikplein when extracting agent\n",
      "Something went wrong with listing https://www.pararius.nl/appartement-te-huur/rotterdam/3d73b4a1/prins-frederikplein when extracting status\n",
      "Something went wrong with listing https://www.pararius.nl/appartement-te-huur/rotterdam/3d73b4a1/prins-frederikplein when extracting description\n",
      "something went wrong with https://www.pararius.nl/appartement-te-huur/rotterdam/3d73b4a1/prins-frederikplein\n",
      "unsupported operand type(s) for /: 'str' and 'str'\n",
      "Something went wrong with listing https://www.pararius.nl/appartement-te-huur/rotterdam/f2525caf/1e-jerichostraat when extracting furnished\n",
      "Something went wrong with listing https://www.pararius.nl/appartement-te-huur/rotterdam/bf6216bf/de-quackstraat when extracting nbathrooms\n",
      "Something went wrong with listing https://www.pararius.nl/appartement-te-huur/rotterdam/bf6216bf/de-quackstraat when extracting furnished\n"
     ]
    },
    {
     "ename": "KeyboardInterrupt",
     "evalue": "",
     "output_type": "error",
     "traceback": [
      "\u001b[1;31m---------------------------------------------------------------------------\u001b[0m",
      "\u001b[1;31mKeyboardInterrupt\u001b[0m                         Traceback (most recent call last)",
      "\u001b[1;32mc:\\Users\\pelpi\\Documents\\VSCode repositories\\pararius-scraper\\code\\Try out.ipynb Cell 16\u001b[0m line \u001b[0;36m8\n\u001b[0;32m     <a href='vscode-notebook-cell:/c%3A/Users/pelpi/Documents/VSCode%20repositories/pararius-scraper/code/Try%20out.ipynb#X13sZmlsZQ%3D%3D?line=82'>83</a>\u001b[0m             \u001b[39mprint\u001b[39m(e)\n\u001b[0;32m     <a href='vscode-notebook-cell:/c%3A/Users/pelpi/Documents/VSCode%20repositories/pararius-scraper/code/Try%20out.ipynb#X13sZmlsZQ%3D%3D?line=84'>85</a>\u001b[0m     \u001b[39mreturn\u001b[39;00m scraped_dict\n\u001b[1;32m---> <a href='vscode-notebook-cell:/c%3A/Users/pelpi/Documents/VSCode%20repositories/pararius-scraper/code/Try%20out.ipynb#X13sZmlsZQ%3D%3D?line=86'>87</a>\u001b[0m scraped_dict \u001b[39m=\u001b[39m get_scraped_dict(urls, simple_extractions)\n",
      "\u001b[1;32mc:\\Users\\pelpi\\Documents\\VSCode repositories\\pararius-scraper\\code\\Try out.ipynb Cell 16\u001b[0m line \u001b[0;36m3\n\u001b[0;32m     <a href='vscode-notebook-cell:/c%3A/Users/pelpi/Documents/VSCode%20repositories/pararius-scraper/code/Try%20out.ipynb#X13sZmlsZQ%3D%3D?line=31'>32</a>\u001b[0m listing_dict[\u001b[39m\"\u001b[39m\u001b[39mcode\u001b[39m\u001b[39m\"\u001b[39m] \u001b[39m=\u001b[39m code\n\u001b[0;32m     <a href='vscode-notebook-cell:/c%3A/Users/pelpi/Documents/VSCode%20repositories/pararius-scraper/code/Try%20out.ipynb#X13sZmlsZQ%3D%3D?line=33'>34</a>\u001b[0m \u001b[39m# Obtain html\u001b[39;00m\n\u001b[1;32m---> <a href='vscode-notebook-cell:/c%3A/Users/pelpi/Documents/VSCode%20repositories/pararius-scraper/code/Try%20out.ipynb#X13sZmlsZQ%3D%3D?line=34'>35</a>\u001b[0m req \u001b[39m=\u001b[39m requests\u001b[39m.\u001b[39;49mget(url)\n\u001b[0;32m     <a href='vscode-notebook-cell:/c%3A/Users/pelpi/Documents/VSCode%20repositories/pararius-scraper/code/Try%20out.ipynb#X13sZmlsZQ%3D%3D?line=35'>36</a>\u001b[0m soup \u001b[39m=\u001b[39m bs(req\u001b[39m.\u001b[39mtext, \u001b[39m\"\u001b[39m\u001b[39mhtml.parser\u001b[39m\u001b[39m\"\u001b[39m)\n\u001b[0;32m     <a href='vscode-notebook-cell:/c%3A/Users/pelpi/Documents/VSCode%20repositories/pararius-scraper/code/Try%20out.ipynb#X13sZmlsZQ%3D%3D?line=37'>38</a>\u001b[0m \u001b[39m# Extract all simple elements\u001b[39;00m\n",
      "File \u001b[1;32mc:\\Users\\pelpi\\AppData\\Local\\Programs\\Python\\Python311\\Lib\\site-packages\\requests\\api.py:73\u001b[0m, in \u001b[0;36mget\u001b[1;34m(url, params, **kwargs)\u001b[0m\n\u001b[0;32m     62\u001b[0m \u001b[39mdef\u001b[39;00m \u001b[39mget\u001b[39m(url, params\u001b[39m=\u001b[39m\u001b[39mNone\u001b[39;00m, \u001b[39m*\u001b[39m\u001b[39m*\u001b[39mkwargs):\n\u001b[0;32m     63\u001b[0m \u001b[39m    \u001b[39m\u001b[39mr\u001b[39m\u001b[39m\"\"\"Sends a GET request.\u001b[39;00m\n\u001b[0;32m     64\u001b[0m \n\u001b[0;32m     65\u001b[0m \u001b[39m    :param url: URL for the new :class:`Request` object.\u001b[39;00m\n\u001b[1;32m   (...)\u001b[0m\n\u001b[0;32m     70\u001b[0m \u001b[39m    :rtype: requests.Response\u001b[39;00m\n\u001b[0;32m     71\u001b[0m \u001b[39m    \"\"\"\u001b[39;00m\n\u001b[1;32m---> 73\u001b[0m     \u001b[39mreturn\u001b[39;00m request(\u001b[39m\"\u001b[39;49m\u001b[39mget\u001b[39;49m\u001b[39m\"\u001b[39;49m, url, params\u001b[39m=\u001b[39;49mparams, \u001b[39m*\u001b[39;49m\u001b[39m*\u001b[39;49mkwargs)\n",
      "File \u001b[1;32mc:\\Users\\pelpi\\AppData\\Local\\Programs\\Python\\Python311\\Lib\\site-packages\\requests\\api.py:59\u001b[0m, in \u001b[0;36mrequest\u001b[1;34m(method, url, **kwargs)\u001b[0m\n\u001b[0;32m     55\u001b[0m \u001b[39m# By using the 'with' statement we are sure the session is closed, thus we\u001b[39;00m\n\u001b[0;32m     56\u001b[0m \u001b[39m# avoid leaving sockets open which can trigger a ResourceWarning in some\u001b[39;00m\n\u001b[0;32m     57\u001b[0m \u001b[39m# cases, and look like a memory leak in others.\u001b[39;00m\n\u001b[0;32m     58\u001b[0m \u001b[39mwith\u001b[39;00m sessions\u001b[39m.\u001b[39mSession() \u001b[39mas\u001b[39;00m session:\n\u001b[1;32m---> 59\u001b[0m     \u001b[39mreturn\u001b[39;00m session\u001b[39m.\u001b[39;49mrequest(method\u001b[39m=\u001b[39;49mmethod, url\u001b[39m=\u001b[39;49murl, \u001b[39m*\u001b[39;49m\u001b[39m*\u001b[39;49mkwargs)\n",
      "File \u001b[1;32mc:\\Users\\pelpi\\AppData\\Local\\Programs\\Python\\Python311\\Lib\\site-packages\\requests\\sessions.py:589\u001b[0m, in \u001b[0;36mSession.request\u001b[1;34m(self, method, url, params, data, headers, cookies, files, auth, timeout, allow_redirects, proxies, hooks, stream, verify, cert, json)\u001b[0m\n\u001b[0;32m    584\u001b[0m send_kwargs \u001b[39m=\u001b[39m {\n\u001b[0;32m    585\u001b[0m     \u001b[39m\"\u001b[39m\u001b[39mtimeout\u001b[39m\u001b[39m\"\u001b[39m: timeout,\n\u001b[0;32m    586\u001b[0m     \u001b[39m\"\u001b[39m\u001b[39mallow_redirects\u001b[39m\u001b[39m\"\u001b[39m: allow_redirects,\n\u001b[0;32m    587\u001b[0m }\n\u001b[0;32m    588\u001b[0m send_kwargs\u001b[39m.\u001b[39mupdate(settings)\n\u001b[1;32m--> 589\u001b[0m resp \u001b[39m=\u001b[39m \u001b[39mself\u001b[39;49m\u001b[39m.\u001b[39;49msend(prep, \u001b[39m*\u001b[39;49m\u001b[39m*\u001b[39;49msend_kwargs)\n\u001b[0;32m    591\u001b[0m \u001b[39mreturn\u001b[39;00m resp\n",
      "File \u001b[1;32mc:\\Users\\pelpi\\AppData\\Local\\Programs\\Python\\Python311\\Lib\\site-packages\\requests\\sessions.py:703\u001b[0m, in \u001b[0;36mSession.send\u001b[1;34m(self, request, **kwargs)\u001b[0m\n\u001b[0;32m    700\u001b[0m start \u001b[39m=\u001b[39m preferred_clock()\n\u001b[0;32m    702\u001b[0m \u001b[39m# Send the request\u001b[39;00m\n\u001b[1;32m--> 703\u001b[0m r \u001b[39m=\u001b[39m adapter\u001b[39m.\u001b[39;49msend(request, \u001b[39m*\u001b[39;49m\u001b[39m*\u001b[39;49mkwargs)\n\u001b[0;32m    705\u001b[0m \u001b[39m# Total elapsed time of the request (approximately)\u001b[39;00m\n\u001b[0;32m    706\u001b[0m elapsed \u001b[39m=\u001b[39m preferred_clock() \u001b[39m-\u001b[39m start\n",
      "File \u001b[1;32mc:\\Users\\pelpi\\AppData\\Local\\Programs\\Python\\Python311\\Lib\\site-packages\\requests\\adapters.py:486\u001b[0m, in \u001b[0;36mHTTPAdapter.send\u001b[1;34m(self, request, stream, timeout, verify, cert, proxies)\u001b[0m\n\u001b[0;32m    483\u001b[0m     timeout \u001b[39m=\u001b[39m TimeoutSauce(connect\u001b[39m=\u001b[39mtimeout, read\u001b[39m=\u001b[39mtimeout)\n\u001b[0;32m    485\u001b[0m \u001b[39mtry\u001b[39;00m:\n\u001b[1;32m--> 486\u001b[0m     resp \u001b[39m=\u001b[39m conn\u001b[39m.\u001b[39;49murlopen(\n\u001b[0;32m    487\u001b[0m         method\u001b[39m=\u001b[39;49mrequest\u001b[39m.\u001b[39;49mmethod,\n\u001b[0;32m    488\u001b[0m         url\u001b[39m=\u001b[39;49murl,\n\u001b[0;32m    489\u001b[0m         body\u001b[39m=\u001b[39;49mrequest\u001b[39m.\u001b[39;49mbody,\n\u001b[0;32m    490\u001b[0m         headers\u001b[39m=\u001b[39;49mrequest\u001b[39m.\u001b[39;49mheaders,\n\u001b[0;32m    491\u001b[0m         redirect\u001b[39m=\u001b[39;49m\u001b[39mFalse\u001b[39;49;00m,\n\u001b[0;32m    492\u001b[0m         assert_same_host\u001b[39m=\u001b[39;49m\u001b[39mFalse\u001b[39;49;00m,\n\u001b[0;32m    493\u001b[0m         preload_content\u001b[39m=\u001b[39;49m\u001b[39mFalse\u001b[39;49;00m,\n\u001b[0;32m    494\u001b[0m         decode_content\u001b[39m=\u001b[39;49m\u001b[39mFalse\u001b[39;49;00m,\n\u001b[0;32m    495\u001b[0m         retries\u001b[39m=\u001b[39;49m\u001b[39mself\u001b[39;49m\u001b[39m.\u001b[39;49mmax_retries,\n\u001b[0;32m    496\u001b[0m         timeout\u001b[39m=\u001b[39;49mtimeout,\n\u001b[0;32m    497\u001b[0m         chunked\u001b[39m=\u001b[39;49mchunked,\n\u001b[0;32m    498\u001b[0m     )\n\u001b[0;32m    500\u001b[0m \u001b[39mexcept\u001b[39;00m (ProtocolError, \u001b[39mOSError\u001b[39;00m) \u001b[39mas\u001b[39;00m err:\n\u001b[0;32m    501\u001b[0m     \u001b[39mraise\u001b[39;00m \u001b[39mConnectionError\u001b[39;00m(err, request\u001b[39m=\u001b[39mrequest)\n",
      "File \u001b[1;32mc:\\Users\\pelpi\\AppData\\Local\\Programs\\Python\\Python311\\Lib\\site-packages\\urllib3\\connectionpool.py:703\u001b[0m, in \u001b[0;36mHTTPConnectionPool.urlopen\u001b[1;34m(self, method, url, body, headers, retries, redirect, assert_same_host, timeout, pool_timeout, release_conn, chunked, body_pos, **response_kw)\u001b[0m\n\u001b[0;32m    700\u001b[0m     \u001b[39mself\u001b[39m\u001b[39m.\u001b[39m_prepare_proxy(conn)\n\u001b[0;32m    702\u001b[0m \u001b[39m# Make the request on the httplib connection object.\u001b[39;00m\n\u001b[1;32m--> 703\u001b[0m httplib_response \u001b[39m=\u001b[39m \u001b[39mself\u001b[39;49m\u001b[39m.\u001b[39;49m_make_request(\n\u001b[0;32m    704\u001b[0m     conn,\n\u001b[0;32m    705\u001b[0m     method,\n\u001b[0;32m    706\u001b[0m     url,\n\u001b[0;32m    707\u001b[0m     timeout\u001b[39m=\u001b[39;49mtimeout_obj,\n\u001b[0;32m    708\u001b[0m     body\u001b[39m=\u001b[39;49mbody,\n\u001b[0;32m    709\u001b[0m     headers\u001b[39m=\u001b[39;49mheaders,\n\u001b[0;32m    710\u001b[0m     chunked\u001b[39m=\u001b[39;49mchunked,\n\u001b[0;32m    711\u001b[0m )\n\u001b[0;32m    713\u001b[0m \u001b[39m# If we're going to release the connection in ``finally:``, then\u001b[39;00m\n\u001b[0;32m    714\u001b[0m \u001b[39m# the response doesn't need to know about the connection. Otherwise\u001b[39;00m\n\u001b[0;32m    715\u001b[0m \u001b[39m# it will also try to release it and we'll have a double-release\u001b[39;00m\n\u001b[0;32m    716\u001b[0m \u001b[39m# mess.\u001b[39;00m\n\u001b[0;32m    717\u001b[0m response_conn \u001b[39m=\u001b[39m conn \u001b[39mif\u001b[39;00m \u001b[39mnot\u001b[39;00m release_conn \u001b[39melse\u001b[39;00m \u001b[39mNone\u001b[39;00m\n",
      "File \u001b[1;32mc:\\Users\\pelpi\\AppData\\Local\\Programs\\Python\\Python311\\Lib\\site-packages\\urllib3\\connectionpool.py:449\u001b[0m, in \u001b[0;36mHTTPConnectionPool._make_request\u001b[1;34m(self, conn, method, url, timeout, chunked, **httplib_request_kw)\u001b[0m\n\u001b[0;32m    444\u001b[0m             httplib_response \u001b[39m=\u001b[39m conn\u001b[39m.\u001b[39mgetresponse()\n\u001b[0;32m    445\u001b[0m         \u001b[39mexcept\u001b[39;00m \u001b[39mBaseException\u001b[39;00m \u001b[39mas\u001b[39;00m e:\n\u001b[0;32m    446\u001b[0m             \u001b[39m# Remove the TypeError from the exception chain in\u001b[39;00m\n\u001b[0;32m    447\u001b[0m             \u001b[39m# Python 3 (including for exceptions like SystemExit).\u001b[39;00m\n\u001b[0;32m    448\u001b[0m             \u001b[39m# Otherwise it looks like a bug in the code.\u001b[39;00m\n\u001b[1;32m--> 449\u001b[0m             six\u001b[39m.\u001b[39;49mraise_from(e, \u001b[39mNone\u001b[39;49;00m)\n\u001b[0;32m    450\u001b[0m \u001b[39mexcept\u001b[39;00m (SocketTimeout, BaseSSLError, SocketError) \u001b[39mas\u001b[39;00m e:\n\u001b[0;32m    451\u001b[0m     \u001b[39mself\u001b[39m\u001b[39m.\u001b[39m_raise_timeout(err\u001b[39m=\u001b[39me, url\u001b[39m=\u001b[39murl, timeout_value\u001b[39m=\u001b[39mread_timeout)\n",
      "File \u001b[1;32m<string>:3\u001b[0m, in \u001b[0;36mraise_from\u001b[1;34m(value, from_value)\u001b[0m\n",
      "File \u001b[1;32mc:\\Users\\pelpi\\AppData\\Local\\Programs\\Python\\Python311\\Lib\\site-packages\\urllib3\\connectionpool.py:444\u001b[0m, in \u001b[0;36mHTTPConnectionPool._make_request\u001b[1;34m(self, conn, method, url, timeout, chunked, **httplib_request_kw)\u001b[0m\n\u001b[0;32m    441\u001b[0m \u001b[39mexcept\u001b[39;00m \u001b[39mTypeError\u001b[39;00m:\n\u001b[0;32m    442\u001b[0m     \u001b[39m# Python 3\u001b[39;00m\n\u001b[0;32m    443\u001b[0m     \u001b[39mtry\u001b[39;00m:\n\u001b[1;32m--> 444\u001b[0m         httplib_response \u001b[39m=\u001b[39m conn\u001b[39m.\u001b[39;49mgetresponse()\n\u001b[0;32m    445\u001b[0m     \u001b[39mexcept\u001b[39;00m \u001b[39mBaseException\u001b[39;00m \u001b[39mas\u001b[39;00m e:\n\u001b[0;32m    446\u001b[0m         \u001b[39m# Remove the TypeError from the exception chain in\u001b[39;00m\n\u001b[0;32m    447\u001b[0m         \u001b[39m# Python 3 (including for exceptions like SystemExit).\u001b[39;00m\n\u001b[0;32m    448\u001b[0m         \u001b[39m# Otherwise it looks like a bug in the code.\u001b[39;00m\n\u001b[0;32m    449\u001b[0m         six\u001b[39m.\u001b[39mraise_from(e, \u001b[39mNone\u001b[39;00m)\n",
      "File \u001b[1;32mc:\\Users\\pelpi\\AppData\\Local\\Programs\\Python\\Python311\\Lib\\http\\client.py:1374\u001b[0m, in \u001b[0;36mHTTPConnection.getresponse\u001b[1;34m(self)\u001b[0m\n\u001b[0;32m   1372\u001b[0m \u001b[39mtry\u001b[39;00m:\n\u001b[0;32m   1373\u001b[0m     \u001b[39mtry\u001b[39;00m:\n\u001b[1;32m-> 1374\u001b[0m         response\u001b[39m.\u001b[39;49mbegin()\n\u001b[0;32m   1375\u001b[0m     \u001b[39mexcept\u001b[39;00m \u001b[39mConnectionError\u001b[39;00m:\n\u001b[0;32m   1376\u001b[0m         \u001b[39mself\u001b[39m\u001b[39m.\u001b[39mclose()\n",
      "File \u001b[1;32mc:\\Users\\pelpi\\AppData\\Local\\Programs\\Python\\Python311\\Lib\\http\\client.py:318\u001b[0m, in \u001b[0;36mHTTPResponse.begin\u001b[1;34m(self)\u001b[0m\n\u001b[0;32m    316\u001b[0m \u001b[39m# read until we get a non-100 response\u001b[39;00m\n\u001b[0;32m    317\u001b[0m \u001b[39mwhile\u001b[39;00m \u001b[39mTrue\u001b[39;00m:\n\u001b[1;32m--> 318\u001b[0m     version, status, reason \u001b[39m=\u001b[39m \u001b[39mself\u001b[39;49m\u001b[39m.\u001b[39;49m_read_status()\n\u001b[0;32m    319\u001b[0m     \u001b[39mif\u001b[39;00m status \u001b[39m!=\u001b[39m CONTINUE:\n\u001b[0;32m    320\u001b[0m         \u001b[39mbreak\u001b[39;00m\n",
      "File \u001b[1;32mc:\\Users\\pelpi\\AppData\\Local\\Programs\\Python\\Python311\\Lib\\http\\client.py:279\u001b[0m, in \u001b[0;36mHTTPResponse._read_status\u001b[1;34m(self)\u001b[0m\n\u001b[0;32m    278\u001b[0m \u001b[39mdef\u001b[39;00m \u001b[39m_read_status\u001b[39m(\u001b[39mself\u001b[39m):\n\u001b[1;32m--> 279\u001b[0m     line \u001b[39m=\u001b[39m \u001b[39mstr\u001b[39m(\u001b[39mself\u001b[39m\u001b[39m.\u001b[39mfp\u001b[39m.\u001b[39mreadline(_MAXLINE \u001b[39m+\u001b[39m \u001b[39m1\u001b[39m), \u001b[39m\"\u001b[39m\u001b[39miso-8859-1\u001b[39m\u001b[39m\"\u001b[39m)\n\u001b[0;32m    280\u001b[0m     \u001b[39mif\u001b[39;00m \u001b[39mlen\u001b[39m(line) \u001b[39m>\u001b[39m _MAXLINE:\n\u001b[0;32m    281\u001b[0m         \u001b[39mraise\u001b[39;00m LineTooLong(\u001b[39m\"\u001b[39m\u001b[39mstatus line\u001b[39m\u001b[39m\"\u001b[39m)\n",
      "File \u001b[1;32mc:\\Users\\pelpi\\AppData\\Local\\Programs\\Python\\Python311\\Lib\\socket.py:706\u001b[0m, in \u001b[0;36mSocketIO.readinto\u001b[1;34m(self, b)\u001b[0m\n\u001b[0;32m    704\u001b[0m \u001b[39mwhile\u001b[39;00m \u001b[39mTrue\u001b[39;00m:\n\u001b[0;32m    705\u001b[0m     \u001b[39mtry\u001b[39;00m:\n\u001b[1;32m--> 706\u001b[0m         \u001b[39mreturn\u001b[39;00m \u001b[39mself\u001b[39;49m\u001b[39m.\u001b[39;49m_sock\u001b[39m.\u001b[39;49mrecv_into(b)\n\u001b[0;32m    707\u001b[0m     \u001b[39mexcept\u001b[39;00m timeout:\n\u001b[0;32m    708\u001b[0m         \u001b[39mself\u001b[39m\u001b[39m.\u001b[39m_timeout_occurred \u001b[39m=\u001b[39m \u001b[39mTrue\u001b[39;00m\n",
      "File \u001b[1;32mc:\\Users\\pelpi\\AppData\\Local\\Programs\\Python\\Python311\\Lib\\ssl.py:1278\u001b[0m, in \u001b[0;36mSSLSocket.recv_into\u001b[1;34m(self, buffer, nbytes, flags)\u001b[0m\n\u001b[0;32m   1274\u001b[0m     \u001b[39mif\u001b[39;00m flags \u001b[39m!=\u001b[39m \u001b[39m0\u001b[39m:\n\u001b[0;32m   1275\u001b[0m         \u001b[39mraise\u001b[39;00m \u001b[39mValueError\u001b[39;00m(\n\u001b[0;32m   1276\u001b[0m           \u001b[39m\"\u001b[39m\u001b[39mnon-zero flags not allowed in calls to recv_into() on \u001b[39m\u001b[39m%s\u001b[39;00m\u001b[39m\"\u001b[39m \u001b[39m%\u001b[39m\n\u001b[0;32m   1277\u001b[0m           \u001b[39mself\u001b[39m\u001b[39m.\u001b[39m\u001b[39m__class__\u001b[39m)\n\u001b[1;32m-> 1278\u001b[0m     \u001b[39mreturn\u001b[39;00m \u001b[39mself\u001b[39;49m\u001b[39m.\u001b[39;49mread(nbytes, buffer)\n\u001b[0;32m   1279\u001b[0m \u001b[39melse\u001b[39;00m:\n\u001b[0;32m   1280\u001b[0m     \u001b[39mreturn\u001b[39;00m \u001b[39msuper\u001b[39m()\u001b[39m.\u001b[39mrecv_into(buffer, nbytes, flags)\n",
      "File \u001b[1;32mc:\\Users\\pelpi\\AppData\\Local\\Programs\\Python\\Python311\\Lib\\ssl.py:1134\u001b[0m, in \u001b[0;36mSSLSocket.read\u001b[1;34m(self, len, buffer)\u001b[0m\n\u001b[0;32m   1132\u001b[0m \u001b[39mtry\u001b[39;00m:\n\u001b[0;32m   1133\u001b[0m     \u001b[39mif\u001b[39;00m buffer \u001b[39mis\u001b[39;00m \u001b[39mnot\u001b[39;00m \u001b[39mNone\u001b[39;00m:\n\u001b[1;32m-> 1134\u001b[0m         \u001b[39mreturn\u001b[39;00m \u001b[39mself\u001b[39;49m\u001b[39m.\u001b[39;49m_sslobj\u001b[39m.\u001b[39;49mread(\u001b[39mlen\u001b[39;49m, buffer)\n\u001b[0;32m   1135\u001b[0m     \u001b[39melse\u001b[39;00m:\n\u001b[0;32m   1136\u001b[0m         \u001b[39mreturn\u001b[39;00m \u001b[39mself\u001b[39m\u001b[39m.\u001b[39m_sslobj\u001b[39m.\u001b[39mread(\u001b[39mlen\u001b[39m)\n",
      "\u001b[1;31mKeyboardInterrupt\u001b[0m: "
     ]
    }
   ],
   "source": [
    "# Extract the information our of all URLs\n",
    "simple_extractions = {\"price\": [\"div\", {\"class\": \"listing-detail-summary__price\"}],\n",
    "                      \"area\": [\"li\", {\"class\": \"illustrated-features__item illustrated-features__item--surface-area\"}],\n",
    "                      \"nrooms\": [\"li\", {\"class\": \"illustrated-features__item illustrated-features__item--number-of-rooms\"}],\n",
    "                      \"nbedrooms\": [\"dd\", {\"class\": \"listing-features__description listing-features__description--number_of_bedrooms\"}],\n",
    "                      \"nbathrooms\": [\"dd\", {\"class\": \"listing-features__description listing-features__description--number_of_bathrooms\"}],\n",
    "                      \"furnished\": [\"li\", {\"class\": \"illustrated-features__item illustrated-features__item--interior\"}],\n",
    "                      \"agent\": [\"a\", {\"class\": \"agent-summary__title-link\"}],\n",
    "                      \"status\": [\"dd\", {\"class\": \"listing-features__description listing-features__description--status\"}],\n",
    "                      \"description\": [\"div\", {\"class\": \"listing-detail-description__content\"}],\n",
    "                      \"numbers\": [\"price\", \"area\", \"nrooms\", \"nbedrooms\", \"nbathrooms\"]\n",
    "                    }\n",
    "\n",
    "def get_scraped_dict(urls, simple_extractions):\n",
    "\n",
    "    print('''You can expect error messages: not all listings have all information,\n",
    "          especially regarding the furnishing and number of bathrooms.\n",
    "          ''')\n",
    "\n",
    "    scraped_dict = {}\n",
    "\n",
    "    for url in urls:\n",
    "\n",
    "        listing_dict = {}\n",
    "\n",
    "        try:\n",
    "            # URL\n",
    "            listing_dict[\"url\"] = url\n",
    "\n",
    "            # Code\n",
    "            code = url.split('/')[-2]\n",
    "            listing_dict[\"code\"] = code\n",
    "\n",
    "            # Obtain html\n",
    "            req = requests.get(url)\n",
    "            soup = bs(req.text, \"html.parser\")\n",
    "\n",
    "            # Extract all simple elements\n",
    "            for key, value in simple_extractions.items():\n",
    "\n",
    "                if key == \"numbers\": continue\n",
    "\n",
    "                try:\n",
    "                    item_html = soup.find(value[0], value[1])\n",
    "                    if key in simple_extractions[\"numbers\"]:\n",
    "                        item = get_number(item_html.text)\n",
    "                    else:\n",
    "                        item = item_html.text\n",
    "                    listing_dict[key] = item\n",
    "                except:\n",
    "                    listing_dict[key] = \"NA\"\n",
    "                    print(f\"Something went wrong with listing {url} when extracting {key}\")\n",
    "\n",
    "            # Price per bedroom\n",
    "            price_per_bedroom = round(listing_dict[\"price\"] / listing_dict[\"nbedrooms\"])\n",
    "            listing_dict[\"price_per_bedroom\"] = price_per_bedroom\n",
    "\n",
    "            # Neighbourhood\n",
    "            # Zipcode\n",
    "            location_html = soup.find(\"div\", {\"class\": \"listing-detail-summary__location\"})\n",
    "            location_split = location_html.text.split()\n",
    "            zipcode = location_split[0] + location_split[1]\n",
    "            neighborhood = location_split[2:]\n",
    "            listing_dict[\"zipcode\"] = zipcode\n",
    "            listing_dict[\"neighborhood\"] = neighborhood\n",
    "\n",
    "            # Street\n",
    "            street_htmls = soup.find_all(\"a\", {\"class\": \"breadcrumbs__link\"})\n",
    "            street = street_htmls[-1].text\n",
    "            listing_dict[\"street\"] = street\n",
    "\n",
    "            # Offered since\n",
    "            since_html = soup.find(\"dd\", {\"class\": \"listing-features__description listing-features__description--offered_since\"})\n",
    "            since_down_html = since_html.find(\"span\", {\"class\": \"listing-features__main-description\"})\n",
    "            since = since_down_html.text\n",
    "            listing_dict[\"since\"] = since\n",
    "\n",
    "            # Added to parent dictionary\n",
    "            scraped_dict[code]= listing_dict\n",
    "            \n",
    "        except Exception as e:\n",
    "            print(f\"something went wrong with {url}\")\n",
    "            print(e)\n",
    "\n",
    "    return scraped_dict\n",
    "\n",
    "scraped_dict = get_scraped_dict(urls, simple_extractions)"
   ]
  },
  {
   "cell_type": "markdown",
   "id": "efa5b090",
   "metadata": {},
   "source": [
    "### Put info in excel file"
   ]
  },
  {
   "cell_type": "code",
   "execution_count": 106,
   "id": "0f0a27e6",
   "metadata": {},
   "outputs": [],
   "source": [
    "# Dictionary that tells how the variables are displayed as column names\n",
    "var_display_dict = {\"price\": \"Price\", \n",
    "                 \"area\": \"Surface Area\", \n",
    "                 \"nrooms\": \"#Rooms\", \n",
    "                 \"nbedrooms\":\"#Bedrooms\", \n",
    "                 \"nbathrooms\": \"#Bathrooms\", \n",
    "                 \"furnished\":\"Furnished\", \n",
    "                 \"agent\": \"Agent\", \n",
    "                 \"status\": \"Status\",\n",
    "                 \"zipcode\": \"Zipcode\",\n",
    "                 \"neighborhood\": \"Neighborhood\",\n",
    "                 \"street\": \"Street\",\n",
    "                 \"since\": \"Available since\",\n",
    "                 \"url\": \"Link\",\n",
    "                 \"price_per_bedroom\": \"Price per bedroom\"}\n",
    "\n",
    "wb = openpyxl.load_workbook(\"test.xlsx\")\n",
    "\n",
    "ws = wb.active\n",
    "ws.title = \"Rotterdam All\"\n",
    "\n",
    "# Order of the columns\n",
    "order = list(var_display_dict.keys()) # names of variables in the program\n",
    "order = ['price', 'nbedrooms', 'nrooms', 'area','neighborhood', 'street', 'zipcode', 'since', 'agent', 'url']\n",
    "\n",
    "# Give the columns names\n",
    "for i in range(len(order)):\n",
    "    var = order[i]\n",
    "    cell = ws.cell(row=1, column = i+1, value = var_display_dict[var])\n",
    "\n",
    "# Enter info of listings\n",
    "\n",
    "row_number = 2\n",
    "# Loop over all listings\n",
    "for _, dict in scraped_dict.items():\n",
    "\n",
    "    # Loop over all info\n",
    "    for i in range(len(order)):\n",
    "        var = order[i]\n",
    "        cell = ws.cell(row=row_number, column = i+1, value = dict[var])\n",
    "\n",
    "    row_number += 1\n",
    "\n",
    "wb.save('test.xlsx')"
   ]
  },
  {
   "cell_type": "markdown",
   "id": "52a2477e",
   "metadata": {},
   "source": [
    "### Put filtered listing in excel file"
   ]
  },
  {
   "cell_type": "code",
   "execution_count": null,
   "id": "87a482a9",
   "metadata": {},
   "outputs": [],
   "source": [
    "ws.create_sheet(\"Rotterdam Filtered\")\n",
    "\n",
    "row_number = 2\n",
    "# Loop over all listings\n",
    "for code, dict in scraped_dict.items():\n",
    "\n",
    "    # Check if listing get through filters\n",
    "    # Price per bedroom\n",
    "    # Minimum number of bedrooms\n",
    "    # Neighborhood\n",
    "\n",
    "    \n",
    "    # Loop over all info and add to sheet\n",
    "\n",
    "    row_number += 1"
   ]
  },
  {
   "cell_type": "code",
   "execution_count": 97,
   "id": "a7ded971-a673-4ef6-a090-a0f49d3fe01d",
   "metadata": {},
   "outputs": [
    {
     "data": {
      "text/plain": [
       "[dict_keys(['price', 'area', 'nroom', 'nbedrooms', 'nbathrooms', 'furnished', 'agent', 'status', 'zipcode', 'neighborhood', 'street', 'since', 'url'])]"
      ]
     },
     "execution_count": 97,
     "metadata": {},
     "output_type": "execute_result"
    }
   ],
   "source": [
    "order"
   ]
  },
  {
   "cell_type": "code",
   "execution_count": 79,
   "id": "a3480ffe",
   "metadata": {},
   "outputs": [
    {
     "data": {
      "text/plain": [
       "436"
      ]
     },
     "execution_count": 79,
     "metadata": {},
     "output_type": "execute_result"
    }
   ],
   "source": [
    "len(scraped_dict)"
   ]
  }
 ],
 "metadata": {
  "kernelspec": {
   "display_name": "Python 3 (ipykernel)",
   "language": "python",
   "name": "python3"
  },
  "language_info": {
   "codemirror_mode": {
    "name": "ipython",
    "version": 3
   },
   "file_extension": ".py",
   "mimetype": "text/x-python",
   "name": "python",
   "nbconvert_exporter": "python",
   "pygments_lexer": "ipython3",
   "version": "3.11.2"
  }
 },
 "nbformat": 4,
 "nbformat_minor": 5
}
