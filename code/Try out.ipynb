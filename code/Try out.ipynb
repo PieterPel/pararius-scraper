{
 "cells": [
  {
   "cell_type": "markdown",
   "id": "fe6d1cb5-db80-4403-95dd-aff71739d227",
   "metadata": {},
   "source": [
    "# Testing out webscraping on pararius.nl"
   ]
  },
  {
   "cell_type": "markdown",
   "id": "5e4c5038-bab9-4199-852e-cdc2b15b86bd",
   "metadata": {},
   "source": [
    "## Background"
   ]
  },
  {
   "cell_type": "markdown",
   "id": "ee03c5a1-a875-4e69-af64-20257c05265d",
   "metadata": {},
   "source": [
    "### Observations\n",
    "- https://www.pararius.nl/huurwoningen/[STAD] is the overview per city\n",
    "- changes in https://www.pararius.nl/appartement-te-huur/[STAD]/[CODDE]/[STRAAT] when going to a listing\n",
    "\n",
    "### Desired features\n",
    "\n",
    "See: \n",
    "- price\n",
    "- street,\n",
    "- (zipcode),\n",
    "- neighborhood\n",
    "- agent,\n",
    "- number of rooms,\n",
    "- number of bedrooms,\n",
    "- suitable for sharing (based on AI),\n",
    "- date added,\n",
    "- surface area\n",
    "\n",
    "Other:\n",
    "- sortable"
   ]
  },
  {
   "cell_type": "markdown",
   "id": "c0a7a057-64dc-4a44-a665-575843bb6984",
   "metadata": {},
   "source": [
    "## Scraping"
   ]
  },
  {
   "cell_type": "markdown",
   "id": "f1f56d63-300f-44b2-a4ec-f0926639dcb5",
   "metadata": {},
   "source": [
    "### Set up"
   ]
  },
  {
   "cell_type": "code",
   "execution_count": 63,
   "id": "9a3940a3-d26e-48b1-aedb-df3d854775e9",
   "metadata": {},
   "outputs": [],
   "source": [
    "# Import packages\n",
    "import pandas as pd\n",
    "import requests\n",
    "from bs4 import BeautifulSoup as bs \n",
    "\n",
    "# Methods\n",
    "def get_number(string):\n",
    "    allowed = [str(i) for i in range(10)]\n",
    "    str_numbers = list(filter(lambda x: x in allowed, [*string]))\n",
    "    joined = ''.join(str_numbers)\n",
    "    value = int(joined)\n",
    "    return value"
   ]
  },
  {
   "cell_type": "code",
   "execution_count": 81,
   "id": "c1bbf87d-777e-4369-a0f7-9ef5d37fb13c",
   "metadata": {},
   "outputs": [
    {
     "name": "stdout",
     "output_type": "stream",
     "text": [
      "<Response [200]>\n",
      "['€', '1.890', 'per', 'maand']\n",
      "1890\n",
      "84\n",
      "3\n",
      "1\n",
      "1\n",
      "Gemeubileerd\n",
      "\n",
      "\n",
      "Beschrijving\n",
      "Tijdelijk onderkomen voor 6 maanden nodig? Dan hebben wij goed nieuws voor jou! Wij hebben de perfecte accommodaties die de flexibiliteit van een kort verblijf combineren met het comfort van een volledig ingericht onderkomen. Vol trots presenteren wij het transformatieproject ‘De Hendrik’ op het gewilde Noordereiland, waar 93 shortstay accommodaties beschikbaar komen.\n",
      "Of je nu een professional bent die voor een project naar de stad verhuist, een student die een tijdelijk onderkomen nodig heeft, of gewoon iemand die van de vrijheid van een kort verblijf houdt, deze shortstay accommodaties zijn de ideale oplossing voor jou. Met deze accommodaties hoef je je geen zorgen te maken over meubels of voorzieningen. Elke accommodatie is hoogwaardig afgewerkt, smaakvol ingericht en volledig uitgerust met moderne apparatuur, zodat je direct kunt genieten van je nieuwe thuis. De ruime indelingen zorgen voor voldoende leefruimte, terwijl de stijfvolle inrichting een warme en uitnodigende sfeer creëert. Daarnaast beschikt de Hendrik over een interne, gezamenlijk fietsenstalling en een gezellige, gezamenlijke binnentuin.  \n",
      "Ontdek de betovering van het Noordereiland, ook wel bekend als ‘Montmartre aan de Maas’. Een charmant en pittoresk eiland, omringd door de Maas, met karakteristieke bruggen, schilderachtige straatjes en adembenemende uitzichten. Geniet van de mix van architectuur, trendy restaurants en groene oases, terwijl je binnen enkele minuten in het bruisende centrum van Rotterdam bent. \n",
      "De accommodaties\n",
      "Let’s talk business!\n",
      "De Hendrik beschikt over elf 3-kamer accommodaties van het type B4 welke verdeeld zijn over de begane grond tot en met de derde etage. De oppervlakten variëren tussen de 88m² en 96m² en ze worden gedeeltelijk gemeubileerd opgeleverd. Dit betekent dat ze zijn voorzien van een PVC vloer, afgewerkte wanden voorzien van glasvliesbehang, afgewerkte plafonds, raambekleding en meubilair. We hebben een kleine impressie van de accommodaties en de meubelstijl toegevoegd aan de advertentiefoto’s. Kleurstellingen zijn onder voorbehoud.\n",
      "De moderne keuken is volledig uitgerust met een koelkast met vriesvak, combimagnetron, inductiekookplaat, afzuigkap en een vaatwasser. In de badkamer geniet je de luxe van een dubbele wastafel, een ruime douche en een heerlijk ligbad terwijl het toilet zich separaat bevindt in de accommodatie. Daarnaast hebben de accommodaties energielabels A, A+, A++ en A+++ en enkele accommodaties hebben naast een interne berging ook een privé externe berging. \n",
      "Voorwaarden \n",
      "\n",
      "De maandelijkse all-in prijs voor deze accommodaties bedraagt tussen ca. € 1.890,- en € 1.915,-. De kosten voor o.a. water, elektra, internet en televisie zijn inbegrepen in deze all-in prijs. \n",
      "Er geldt een vaste verblijfperiode vanaf de ingangsdatum tot 10 maart 2024. \n",
      "De waarborgsom bedraagt eenmaal de maandelijkse all-in prijs.\n",
      "Het delen van een accommodatie met een vriend is niet toegestaan in De Hendrik. Gebruik door 2 personen is enkel mogelijk voor stellen.\n",
      "Het aanvragen van huurtoeslag is niet mogelijk.\n",
      "Roken in de accommodatie is niet toegestaan.\n",
      "Huisdieren zijn niet toegestaan.\n",
      "\n",
      "Inkomenseis\n",
      "Inkomenseis werkenden/zelfstandigen:\n",
      "\n",
      "Bruto (gezamenlijk) maandinkomen van 2,5 keer de all-in prijs. \n",
      "\n",
      "Borgstellers zijn niet toegestaan voor werkenden/zelfstandigen. Je moet zelfstandig of gezamenlijk aan de gestelde inkomenseis voldoen.\n",
      "Inkomenseis studenten:\n",
      "\n",
      "Deze accommodatie is geschikt voor studenten.\n",
      "Nederlandse studenten kunnen in aanmerking komen met een borgsteller.\n",
      "Internationale studenten kunnen alleen in aanmerking komen met een verhoogde waarborgsom ter hoogte van 2 maanden de all-in prijs.\n",
      "\n",
      "Inkomenseis borgsteller voor studenten:\n",
      "\n",
      "Wonend of werkend in Nederland.\n",
      "Voldoende inkomen en/of vermogen om naast de eigen lasten ook aan de verplichtingen uit de borgstelling te kunnen voldoen.\n",
      "Verder dezelfde eisen als voor werknemers of zelfstandigen.\n",
      "\n",
      "Interesse?\n",
      "Bij interesse graag reageren op de advertentie, dan ontvang je van ons een informatiepakket. Het is niet noodzakelijk op elke advertentie afzonderlijk te reageren voor dit project. Eén reactie is voldoende.\n",
      "Wij reageren normaliter binnen twee werkdagen. Alvast bedankt voor de moeite!\n",
      "\n",
      "\n"
     ]
    }
   ],
   "source": [
    "url ='https://www.pararius.nl/appartement-te-huur/rotterdam/b6c9f139/prins-hendrikkade'\n",
    "req = requests.get(url)\n",
    "print(req)\n",
    "\n",
    "soup = bs(req.text, \"html.parser\")\n",
    "\n",
    "# Monthly price\n",
    "price_html = soup.find(\"div\", {\"class\": \"listing-detail-summary__price\"})\n",
    "print(price_html.text.split())\n",
    "price = get_number(price_html.text)\n",
    "print(price)\n",
    "\n",
    "# Area\n",
    "area_html = soup.find(\"li\", {\"class\": \"illustrated-features__item illustrated-features__item--surface-area\"})\n",
    "area = get_number(area_html.text)\n",
    "print(area)\n",
    "\n",
    "# Number of rooms\n",
    "nrooms_html = soup.find(\"li\", {\"class\": \"illustrated-features__item illustrated-features__item--number-of-rooms\"})\n",
    "nrooms = get_number(nrooms_html.text)\n",
    "print(nrooms)\n",
    "\n",
    "# Number of bedrooms\n",
    "nbedrooms_html = soup.find(\"dd\", {\"class\": \"listing-features__description listing-features__description--number_of_bedrooms\"})\n",
    "nbedrooms = get_number(nbedrooms_html.text)\n",
    "print(nbedrooms)\n",
    "\n",
    "# Number of bathrooms\n",
    "nbathrooms_html = soup.find(\"dd\", {\"class\": \"listing-features__description listing-features__description--number_of_bathrooms\"})\n",
    "nbathrooms = get_number(nbathrooms_html.text)\n",
    "print(nbathrooms)    \n",
    "\n",
    "# Furnished\n",
    "furnished_html = soup.find(\"li\", {\"class\": \"illustrated-features__item illustrated-features__item--interior\"})\n",
    "furnished = furnished_html.text\n",
    "print(furnished)\n",
    "\n",
    "# Very easy to add additonal 'data' from the listing\n",
    "\n",
    "# Description\n",
    "description_html = soup.find(\"div\", {\"class\": \"listing-detail-description__content\"})\n",
    "description = description_html.text\n",
    "print(description)"
   ]
  },
  {
   "cell_type": "code",
   "execution_count": 47,
   "id": "a7ded971-a673-4ef6-a090-a0f49d3fe01d",
   "metadata": {},
   "outputs": [
    {
     "name": "stdout",
     "output_type": "stream",
     "text": [
      "[0, 1, 2, 3, 4, 5, 6, 7, 8, 9]\n"
     ]
    }
   ],
   "source": [
    "print(list(range(10)))"
   ]
  }
 ],
 "metadata": {
  "kernelspec": {
   "display_name": "Python 3 (ipykernel)",
   "language": "python",
   "name": "python3"
  },
  "language_info": {
   "codemirror_mode": {
    "name": "ipython",
    "version": 3
   },
   "file_extension": ".py",
   "mimetype": "text/x-python",
   "name": "python",
   "nbconvert_exporter": "python",
   "pygments_lexer": "ipython3",
   "version": "3.11.2"
  }
 },
 "nbformat": 4,
 "nbformat_minor": 5
}
